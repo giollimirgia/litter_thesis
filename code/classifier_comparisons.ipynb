{
 "cells": [
  {
   "cell_type": "code",
   "execution_count": 3,
   "metadata": {},
   "outputs": [],
   "source": [
    "import pandas as pd \n",
    "import os\n",
    "import numpy as np\n",
    "from skimage.io import imread\n",
    "from sklearn.model_selection import KFold\n",
    "from sklearn.metrics import accuracy_score, classification_report\n",
    "from sklearn.model_selection import GridSearchCV\n",
    "import tensorflow as tf\n",
    "from tensorflow import keras\n",
    "from tensorflow.keras import layers\n",
    "from tensorflow.keras.applications import Xception, EfficientNetB0, vgg16\n",
    "import itertools"
   ]
  },
  {
   "cell_type": "code",
   "execution_count": 4,
   "metadata": {},
   "outputs": [
    {
     "data": {
      "text/plain": [
       "(611, 690)"
      ]
     },
     "execution_count": 4,
     "metadata": {},
     "output_type": "execute_result"
    }
   ],
   "source": [
    "df = pd.read_csv('/home/giorgia/Desktop/MAI/Thesis/patch_info.csv')\n",
    "len(df[df.plastic!=-1])\n",
    "df = pd.read_csv('/home/giorgia/Desktop/MAI/Thesis/patch_info.csv')\n",
    "df = df[df.plastic!=-1]\n",
    "df_plastic = df[df.plastic==1].reset_index()\n",
    "df_noplastic = df[df.plastic==0].reset_index()\n",
    "len(df_plastic), len(df_noplastic)"
   ]
  },
  {
   "cell_type": "code",
   "execution_count": 5,
   "metadata": {},
   "outputs": [
    {
     "data": {
      "text/plain": [
       "(1170, 548)"
      ]
     },
     "execution_count": 5,
     "metadata": {},
     "output_type": "execute_result"
    }
   ],
   "source": [
    "partition = 0.90\n",
    "\n",
    "rand_ind_p = np.random.randint(0, len(df_plastic), int(partition*len(df_plastic)))\n",
    "rand_ind_np = np.random.randint(0, len(df_noplastic), int(partition*len(df_noplastic)))\n",
    "\n",
    "training_set = pd.concat([df_plastic.loc[rand_ind_p, ['patch_filename', 'plastic']], df_noplastic.loc[rand_ind_np, ['patch_filename', 'plastic']]]).reset_index()\n",
    "validation_set = pd.merge(df.loc[:, ['patch_filename', 'plastic']], training_set, indicator=True, how='outer').query('_merge==\"left_only\"').drop(['_merge','index'], axis=1).reset_index()\n",
    "\n",
    "len(training_set), len(validation_set)"
   ]
  },
  {
   "cell_type": "code",
   "execution_count": 6,
   "metadata": {},
   "outputs": [],
   "source": [
    "def prepareDataNN(df):\n",
    "    data = []\n",
    "    labels = []\n",
    "    patches_path = '/home/giorgia/Desktop/MAI/Thesis/images/patches/'\n",
    "    for i in range(len(df)):\n",
    "        patch_filename = os.path.join(patches_path, os.path.basename(df.loc[i, 'patch_filename']))\n",
    "        #im = np.amax(imread(patch_filename), axis=2) # maximum intensity projection\n",
    "        im = imread(patch_filename)\n",
    "        if im.shape == (256, 256, 3):\n",
    "            data.append(im)\n",
    "            labels.append(np.array(df.loc[i, 'plastic']))\n",
    "    return data, labels"
   ]
  },
  {
   "cell_type": "code",
   "execution_count": 19,
   "metadata": {},
   "outputs": [],
   "source": [
    "def get_preditictions(model, test_data):\n",
    "    pred_prob = model.predict(np.array(test_data))\n",
    "    pred_class = []\n",
    "    for p in pred_prob:\n",
    "        if p >= .5:\n",
    "            pred_class.append(1)\n",
    "        else:\n",
    "            pred_class.append(0)\n",
    "    print(classification_report(test_labels, pred_class))\n",
    "    return (pred_prob, pred_class)"
   ]
  },
  {
   "cell_type": "markdown",
   "metadata": {},
   "source": [
    "## Simple CNN"
   ]
  },
  {
   "cell_type": "code",
   "execution_count": 7,
   "metadata": {},
   "outputs": [
    {
     "name": "stderr",
     "output_type": "stream",
     "text": [
      "2022-02-16 16:51:07.959037: E tensorflow/stream_executor/cuda/cuda_driver.cc:271] failed call to cuInit: CUDA_ERROR_NO_DEVICE: no CUDA-capable device is detected\n",
      "2022-02-16 16:51:07.959120: I tensorflow/stream_executor/cuda/cuda_diagnostics.cc:156] kernel driver does not appear to be running on this host (giorgia-PX60-6QE): /proc/driver/nvidia/version does not exist\n",
      "2022-02-16 16:51:07.982811: I tensorflow/core/platform/cpu_feature_guard.cc:151] This TensorFlow binary is optimized with oneAPI Deep Neural Network Library (oneDNN) to use the following CPU instructions in performance-critical operations:  AVX2 FMA\n",
      "To enable them in other operations, rebuild TensorFlow with the appropriate compiler flags.\n"
     ]
    }
   ],
   "source": [
    "data_augmentation = keras.Sequential(\n",
    "    [ layers.RandomFlip(\"horizontal\"),\n",
    "      layers.RandomRotation(0.1),\n",
    "      #layers.RandomTranslation(0.8, 0.5),\n",
    "      #layers.RandomZoom(0.5),\n",
    "      layers.RandomContrast(0.7),\n",
    "    ]\n",
    ")"
   ]
  },
  {
   "cell_type": "code",
   "execution_count": 20,
   "metadata": {},
   "outputs": [
    {
     "name": "stdout",
     "output_type": "stream",
     "text": [
      "You must install pydot (`pip install pydot`) and install graphviz (see instructions at https://graphviz.gitlab.io/download/) for plot_model/model_to_dot to work.\n"
     ]
    }
   ],
   "source": [
    "def make_model(input_shape):\n",
    "    inputs = keras.Input(shape = input_shape)\n",
    "    # Image augmentation block\n",
    "    x = data_augmentation(inputs)\n",
    "\n",
    "    # Architecture \n",
    "    x = layers.Rescaling(1.0 / 255)(x)\n",
    "    \n",
    "    x = layers.Conv2D(32, 3, strides=2, padding=\"same\")(x)\n",
    "    x = layers.BatchNormalization()(x)\n",
    "    x = layers.Activation(\"relu\")(x)\n",
    "    x = layers.Dropout(0.25)(x)\n",
    "\n",
    "    x = layers.Conv2D(64, 3, padding=\"same\")(x)\n",
    "    x = layers.BatchNormalization()(x)\n",
    "    x = layers.Activation(\"relu\")(x)\n",
    "    x = layers.Dropout(0.25)(x)\n",
    "\n",
    "    x = layers.MaxPooling2D(3, strides=2, padding=\"same\")(x)\n",
    "    x = layers.GlobalAveragePooling2D()(x)\n",
    "    x = layers.Dropout(0.25)(x)\n",
    "\n",
    "    outputs = layers.Dense(1, activation=\"sigmoid\")(x)\n",
    "\n",
    "    return keras.Model(inputs, outputs)\n",
    "\n",
    "image_size = (256, 256, 3) \n",
    "model = make_model(input_shape=image_size)\n",
    "keras.utils.plot_model(model, show_shapes=True)"
   ]
  },
  {
   "cell_type": "code",
   "execution_count": 8,
   "metadata": {},
   "outputs": [],
   "source": [
    "training_data, training_labels = prepareDataNN(training_set)\n",
    "test_data, test_labels = prepareDataNN(validation_set)"
   ]
  },
  {
   "cell_type": "code",
   "execution_count": 21,
   "metadata": {},
   "outputs": [
    {
     "name": "stdout",
     "output_type": "stream",
     "text": [
      "              precision    recall  f1-score   support\n",
      "\n",
      "         0.0       0.70      0.97      0.81       239\n",
      "         1.0       0.95      0.60      0.74       245\n",
      "\n",
      "    accuracy                           0.78       484\n",
      "   macro avg       0.83      0.79      0.78       484\n",
      "weighted avg       0.83      0.78      0.78       484\n",
      "\n"
     ]
    }
   ],
   "source": [
    "model.load_weights(\"ckpts/save_at_391.h5\")\n",
    "model.compile(\n",
    "    optimizer=keras.optimizers.Adam(1e-3),\n",
    "    loss=\"binary_crossentropy\",\n",
    "    metrics=[\"accuracy\"],\n",
    ")\n",
    "pred_probs_cnn, pred_class_xìcnn = get_preditictions(model, test_data)"
   ]
  },
  {
   "cell_type": "markdown",
   "metadata": {},
   "source": [
    "## Transfer Learning"
   ]
  },
  {
   "cell_type": "markdown",
   "metadata": {},
   "source": [
    "### Training Xception"
   ]
  },
  {
   "cell_type": "code",
   "execution_count": 14,
   "metadata": {},
   "outputs": [],
   "source": [
    "# preprocess data \n",
    "inputs = keras.Input(shape = (256, 256, 3))\n",
    "x = data_augmentation(inputs)\n",
    "x = layers.Rescaling(1.0 / 255)(x)\n",
    "\n",
    "# load pre-trained model and weights without last layer\n",
    "x = Xception(weights=None, include_top=False, input_shape=(256, 256, 3))(x)\n",
    "\n",
    "# add layers on top\n",
    "x = layers.MaxPooling2D(3, strides=2, padding=\"same\")(x)\n",
    "x = layers.GlobalAveragePooling2D()(x)\n",
    "x = layers.Dropout(0.25)(x)\n",
    "outputs = layers.Dense(1, activation=\"sigmoid\")(x)\n",
    "\n",
    "# final model to train\n",
    "tf_model_xception = keras.Model(inputs, outputs)\n"
   ]
  },
  {
   "cell_type": "code",
   "execution_count": 14,
   "metadata": {},
   "outputs": [
    {
     "name": "stdout",
     "output_type": "stream",
     "text": [
      "Epoch 1/100\n",
      "24/24 [==============================] - 258s 11s/step - loss: 0.7461 - accuracy: 0.6836 - val_loss: 0.6980 - val_accuracy: 0.0000e+00\n",
      "Epoch 2/100\n",
      "24/24 [==============================] - 250s 10s/step - loss: 0.5198 - accuracy: 0.7574 - val_loss: 0.6721 - val_accuracy: 1.0000\n",
      "Epoch 3/100\n",
      "24/24 [==============================] - 253s 11s/step - loss: 0.4854 - accuracy: 0.7681 - val_loss: 0.6910 - val_accuracy: 1.0000\n",
      "Epoch 4/100\n",
      "24/24 [==============================] - 250s 10s/step - loss: 0.5044 - accuracy: 0.7493 - val_loss: 0.6585 - val_accuracy: 1.0000\n",
      "Epoch 5/100\n",
      "24/24 [==============================] - 272s 11s/step - loss: 0.4834 - accuracy: 0.7587 - val_loss: 0.6409 - val_accuracy: 1.0000\n",
      "Epoch 6/100\n",
      "24/24 [==============================] - 280s 12s/step - loss: 0.5420 - accuracy: 0.7091 - val_loss: 0.6776 - val_accuracy: 1.0000\n",
      "Epoch 7/100\n",
      "24/24 [==============================] - 294s 12s/step - loss: 0.4492 - accuracy: 0.7882 - val_loss: 0.4872 - val_accuracy: 1.0000\n",
      "Epoch 8/100\n",
      "24/24 [==============================] - 280s 12s/step - loss: 0.3817 - accuracy: 0.8217 - val_loss: 0.4822 - val_accuracy: 1.0000\n",
      "Epoch 9/100\n",
      "24/24 [==============================] - 245s 10s/step - loss: 0.4234 - accuracy: 0.8324 - val_loss: 0.3792 - val_accuracy: 1.0000\n",
      "Epoch 10/100\n",
      "24/24 [==============================] - 241s 10s/step - loss: 0.4116 - accuracy: 0.8123 - val_loss: 0.2645 - val_accuracy: 1.0000\n",
      "Epoch 11/100\n",
      "24/24 [==============================] - 234s 10s/step - loss: 0.4076 - accuracy: 0.8137 - val_loss: 0.3101 - val_accuracy: 1.0000\n",
      "Epoch 12/100\n",
      "24/24 [==============================] - 233s 10s/step - loss: 0.3893 - accuracy: 0.8324 - val_loss: 0.3789 - val_accuracy: 1.0000\n",
      "Epoch 13/100\n",
      "24/24 [==============================] - 233s 10s/step - loss: 0.3589 - accuracy: 0.8284 - val_loss: 0.1225 - val_accuracy: 1.0000\n",
      "Epoch 14/100\n",
      "24/24 [==============================] - 232s 10s/step - loss: 0.3650 - accuracy: 0.8311 - val_loss: 0.1070 - val_accuracy: 1.0000\n",
      "Epoch 15/100\n",
      "24/24 [==============================] - 233s 10s/step - loss: 0.3703 - accuracy: 0.8257 - val_loss: 0.1617 - val_accuracy: 1.0000\n",
      "Epoch 16/100\n",
      "24/24 [==============================] - 232s 10s/step - loss: 0.4370 - accuracy: 0.7936 - val_loss: 0.1631 - val_accuracy: 1.0000\n",
      "Epoch 17/100\n",
      "24/24 [==============================] - 233s 10s/step - loss: 0.4236 - accuracy: 0.8257 - val_loss: 366.9786 - val_accuracy: 0.6970\n",
      "Epoch 18/100\n",
      "24/24 [==============================] - 232s 10s/step - loss: 0.3799 - accuracy: 0.8351 - val_loss: 1.5205 - val_accuracy: 0.4242\n",
      "Epoch 19/100\n",
      "24/24 [==============================] - 235s 10s/step - loss: 0.3779 - accuracy: 0.8298 - val_loss: 62.7377 - val_accuracy: 0.3182\n",
      "Epoch 20/100\n",
      "24/24 [==============================] - 249s 10s/step - loss: 0.3763 - accuracy: 0.8284 - val_loss: 0.0894 - val_accuracy: 0.9697\n",
      "Epoch 21/100\n",
      "24/24 [==============================] - 236s 10s/step - loss: 0.3612 - accuracy: 0.8311 - val_loss: 0.4803 - val_accuracy: 0.7955\n",
      "Epoch 22/100\n",
      "24/24 [==============================] - 231s 10s/step - loss: 0.3605 - accuracy: 0.8378 - val_loss: 0.5877 - val_accuracy: 0.7424\n",
      "Epoch 23/100\n",
      "24/24 [==============================] - 232s 10s/step - loss: 0.3357 - accuracy: 0.8445 - val_loss: 0.2247 - val_accuracy: 0.9697\n",
      "Epoch 24/100\n",
      "24/24 [==============================] - 243s 10s/step - loss: 0.3762 - accuracy: 0.8231 - val_loss: 0.2856 - val_accuracy: 0.8939\n",
      "Epoch 25/100\n",
      "24/24 [==============================] - 240s 10s/step - loss: 0.4264 - accuracy: 0.7922 - val_loss: 13.1119 - val_accuracy: 0.3636\n",
      "Epoch 26/100\n",
      "24/24 [==============================] - 249s 10s/step - loss: 0.3890 - accuracy: 0.8217 - val_loss: 30.7393 - val_accuracy: 0.1136\n",
      "Epoch 27/100\n",
      "24/24 [==============================] - 236s 10s/step - loss: 0.3558 - accuracy: 0.8257 - val_loss: 0.7766 - val_accuracy: 0.6515\n",
      "Epoch 28/100\n",
      "24/24 [==============================] - 233s 10s/step - loss: 0.3703 - accuracy: 0.8164 - val_loss: 1.2478 - val_accuracy: 0.5606\n",
      "Epoch 29/100\n",
      "24/24 [==============================] - 229s 10s/step - loss: 0.3369 - accuracy: 0.8445 - val_loss: 0.2585 - val_accuracy: 0.8939\n",
      "Epoch 30/100\n",
      "24/24 [==============================] - 229s 10s/step - loss: 0.3012 - accuracy: 0.8646 - val_loss: 5.9497 - val_accuracy: 0.2424\n",
      "Epoch 31/100\n",
      "24/24 [==============================] - 229s 10s/step - loss: 0.3192 - accuracy: 0.8700 - val_loss: 0.7297 - val_accuracy: 0.6894\n",
      "Epoch 32/100\n",
      "24/24 [==============================] - 229s 10s/step - loss: 0.2985 - accuracy: 0.8660 - val_loss: 3.9326 - val_accuracy: 0.3030\n",
      "Epoch 33/100\n",
      "24/24 [==============================] - 229s 10s/step - loss: 0.3280 - accuracy: 0.8539 - val_loss: 0.4275 - val_accuracy: 0.9091\n",
      "Epoch 34/100\n",
      "24/24 [==============================] - 229s 10s/step - loss: 0.2792 - accuracy: 0.8807 - val_loss: 0.7431 - val_accuracy: 0.6667\n",
      "Epoch 35/100\n",
      "24/24 [==============================] - 230s 10s/step - loss: 0.3426 - accuracy: 0.8660 - val_loss: 0.2748 - val_accuracy: 0.9167\n",
      "Epoch 36/100\n",
      "24/24 [==============================] - 229s 10s/step - loss: 0.3553 - accuracy: 0.8445 - val_loss: 1.6356 - val_accuracy: 0.5606\n",
      "Epoch 37/100\n",
      "24/24 [==============================] - 239s 10s/step - loss: 0.2950 - accuracy: 0.8794 - val_loss: 0.3438 - val_accuracy: 0.8788\n",
      "Epoch 38/100\n",
      "24/24 [==============================] - 234s 10s/step - loss: 0.3065 - accuracy: 0.8740 - val_loss: 0.2431 - val_accuracy: 0.9167\n",
      "Epoch 39/100\n",
      "24/24 [==============================] - 229s 10s/step - loss: 0.3110 - accuracy: 0.8579 - val_loss: 0.4518 - val_accuracy: 0.7879\n",
      "Epoch 40/100\n",
      "24/24 [==============================] - 229s 10s/step - loss: 0.3164 - accuracy: 0.8606 - val_loss: 0.6183 - val_accuracy: 0.7197\n",
      "Epoch 41/100\n",
      "24/24 [==============================] - 229s 10s/step - loss: 0.2941 - accuracy: 0.8673 - val_loss: 0.3962 - val_accuracy: 0.7803\n",
      "Epoch 42/100\n",
      "24/24 [==============================] - 229s 10s/step - loss: 0.2985 - accuracy: 0.8673 - val_loss: 0.1098 - val_accuracy: 0.9621\n",
      "Epoch 43/100\n",
      "24/24 [==============================] - 229s 10s/step - loss: 0.2770 - accuracy: 0.8901 - val_loss: 0.2754 - val_accuracy: 0.8485\n",
      "Epoch 44/100\n",
      "24/24 [==============================] - 229s 10s/step - loss: 0.3141 - accuracy: 0.8472 - val_loss: 0.6713 - val_accuracy: 0.8182\n",
      "Epoch 45/100\n",
      "24/24 [==============================] - 229s 10s/step - loss: 0.3136 - accuracy: 0.8619 - val_loss: 0.3639 - val_accuracy: 0.8561\n",
      "Epoch 46/100\n",
      "24/24 [==============================] - 229s 10s/step - loss: 0.2729 - accuracy: 0.8887 - val_loss: 0.9594 - val_accuracy: 0.7803\n",
      "Epoch 47/100\n",
      "24/24 [==============================] - 229s 10s/step - loss: 0.2636 - accuracy: 0.8874 - val_loss: 0.2141 - val_accuracy: 0.9091\n",
      "Epoch 48/100\n",
      "24/24 [==============================] - 230s 10s/step - loss: 0.2604 - accuracy: 0.8981 - val_loss: 0.3878 - val_accuracy: 0.8636\n",
      "Epoch 49/100\n",
      "24/24 [==============================] - 237s 10s/step - loss: 0.2895 - accuracy: 0.8686 - val_loss: 0.2256 - val_accuracy: 0.8939\n",
      "Epoch 50/100\n",
      "24/24 [==============================] - 237s 10s/step - loss: 0.3581 - accuracy: 0.8338 - val_loss: 6.6984 - val_accuracy: 0.2652\n",
      "Epoch 51/100\n",
      "24/24 [==============================] - 235s 10s/step - loss: 0.2952 - accuracy: 0.8660 - val_loss: 0.4506 - val_accuracy: 0.8485\n",
      "Epoch 52/100\n",
      "24/24 [==============================] - 233s 10s/step - loss: 0.2924 - accuracy: 0.8646 - val_loss: 0.2893 - val_accuracy: 0.9318\n",
      "Epoch 53/100\n",
      "24/24 [==============================] - 237s 10s/step - loss: 0.2651 - accuracy: 0.8874 - val_loss: 1.2100 - val_accuracy: 0.5758\n",
      "Epoch 54/100\n",
      "24/24 [==============================] - 235s 10s/step - loss: 0.2530 - accuracy: 0.8887 - val_loss: 3.4403 - val_accuracy: 0.3939\n",
      "Epoch 55/100\n",
      "24/24 [==============================] - 231s 10s/step - loss: 0.2499 - accuracy: 0.8847 - val_loss: 1.2927 - val_accuracy: 0.5379\n",
      "Epoch 56/100\n",
      "24/24 [==============================] - 229s 10s/step - loss: 0.2412 - accuracy: 0.8954 - val_loss: 1.6763 - val_accuracy: 0.5227\n",
      "Epoch 57/100\n",
      "24/24 [==============================] - 229s 10s/step - loss: 0.2487 - accuracy: 0.8954 - val_loss: 1.5063 - val_accuracy: 0.5076\n",
      "Epoch 58/100\n",
      "24/24 [==============================] - 229s 10s/step - loss: 0.2203 - accuracy: 0.9048 - val_loss: 1.3684 - val_accuracy: 0.4848\n",
      "Epoch 59/100\n",
      "24/24 [==============================] - 229s 10s/step - loss: 0.2491 - accuracy: 0.9062 - val_loss: 1.3293 - val_accuracy: 0.5076\n",
      "Epoch 60/100\n",
      "24/24 [==============================] - 229s 10s/step - loss: 0.2362 - accuracy: 0.9142 - val_loss: 0.3771 - val_accuracy: 0.8485\n",
      "Epoch 61/100\n",
      "24/24 [==============================] - 230s 10s/step - loss: 0.2177 - accuracy: 0.9035 - val_loss: 0.5158 - val_accuracy: 0.8485\n",
      "Epoch 62/100\n",
      "24/24 [==============================] - 230s 10s/step - loss: 0.2491 - accuracy: 0.8928 - val_loss: 0.6067 - val_accuracy: 0.8485\n",
      "Epoch 63/100\n",
      "24/24 [==============================] - 230s 10s/step - loss: 0.2293 - accuracy: 0.8941 - val_loss: 1.4737 - val_accuracy: 0.7045\n",
      "Epoch 64/100\n",
      "24/24 [==============================] - 230s 10s/step - loss: 0.2853 - accuracy: 0.8633 - val_loss: 0.4616 - val_accuracy: 0.8258\n",
      "Epoch 65/100\n",
      "24/24 [==============================] - 230s 10s/step - loss: 0.2479 - accuracy: 0.8995 - val_loss: 4.6119 - val_accuracy: 0.5606\n",
      "Epoch 66/100\n",
      "24/24 [==============================] - 230s 10s/step - loss: 0.2220 - accuracy: 0.8995 - val_loss: 0.8886 - val_accuracy: 0.7121\n",
      "Epoch 67/100\n",
      "24/24 [==============================] - 230s 10s/step - loss: 0.2116 - accuracy: 0.9142 - val_loss: 1.0226 - val_accuracy: 0.6515\n",
      "Epoch 68/100\n",
      "24/24 [==============================] - 230s 10s/step - loss: 0.1709 - accuracy: 0.9370 - val_loss: 0.5335 - val_accuracy: 0.7955\n",
      "Epoch 69/100\n",
      "24/24 [==============================] - 230s 10s/step - loss: 0.2289 - accuracy: 0.9062 - val_loss: 0.2528 - val_accuracy: 0.8864\n",
      "Epoch 70/100\n",
      "24/24 [==============================] - 230s 10s/step - loss: 0.1583 - accuracy: 0.9410 - val_loss: 0.1843 - val_accuracy: 0.9394\n",
      "Epoch 71/100\n",
      "24/24 [==============================] - 230s 10s/step - loss: 0.1656 - accuracy: 0.9316 - val_loss: 0.3838 - val_accuracy: 0.9091\n",
      "Epoch 72/100\n",
      "24/24 [==============================] - 230s 10s/step - loss: 0.2883 - accuracy: 0.8807 - val_loss: 1.1186 - val_accuracy: 0.7045\n",
      "Epoch 73/100\n",
      "24/24 [==============================] - 230s 10s/step - loss: 0.2147 - accuracy: 0.9062 - val_loss: 1.0932 - val_accuracy: 0.6212\n",
      "Epoch 74/100\n",
      "24/24 [==============================] - 230s 10s/step - loss: 0.2389 - accuracy: 0.9075 - val_loss: 1.0376 - val_accuracy: 0.6288\n",
      "Epoch 75/100\n",
      "24/24 [==============================] - 230s 10s/step - loss: 0.2302 - accuracy: 0.9035 - val_loss: 2.2546 - val_accuracy: 0.4394\n",
      "Epoch 76/100\n",
      "24/24 [==============================] - 230s 10s/step - loss: 0.2031 - accuracy: 0.9182 - val_loss: 1.7840 - val_accuracy: 0.6061\n",
      "Epoch 77/100\n",
      "24/24 [==============================] - 230s 10s/step - loss: 0.2234 - accuracy: 0.9088 - val_loss: 2.0552 - val_accuracy: 0.5682\n",
      "Epoch 78/100\n",
      "24/24 [==============================] - 230s 10s/step - loss: 0.2175 - accuracy: 0.9182 - val_loss: 0.7824 - val_accuracy: 0.6515\n",
      "Epoch 79/100\n",
      "24/24 [==============================] - 230s 10s/step - loss: 0.1786 - accuracy: 0.9383 - val_loss: 0.6743 - val_accuracy: 0.7424\n",
      "Epoch 80/100\n",
      "24/24 [==============================] - 230s 10s/step - loss: 0.1368 - accuracy: 0.9424 - val_loss: 1.1442 - val_accuracy: 0.7652\n",
      "Epoch 81/100\n",
      "24/24 [==============================] - 230s 10s/step - loss: 0.1690 - accuracy: 0.9330 - val_loss: 0.3764 - val_accuracy: 0.9394\n",
      "Epoch 82/100\n",
      "24/24 [==============================] - 230s 10s/step - loss: 0.2420 - accuracy: 0.9008 - val_loss: 0.2753 - val_accuracy: 0.8864\n",
      "Epoch 83/100\n",
      "24/24 [==============================] - 230s 10s/step - loss: 0.1794 - accuracy: 0.9290 - val_loss: 1.0405 - val_accuracy: 0.7197\n",
      "Epoch 84/100\n",
      "24/24 [==============================] - 230s 10s/step - loss: 0.1834 - accuracy: 0.9316 - val_loss: 0.8839 - val_accuracy: 0.7424\n",
      "Epoch 85/100\n",
      "24/24 [==============================] - 230s 10s/step - loss: 0.1790 - accuracy: 0.9209 - val_loss: 0.6558 - val_accuracy: 0.7879\n",
      "Epoch 86/100\n",
      "24/24 [==============================] - 230s 10s/step - loss: 0.2336 - accuracy: 0.9088 - val_loss: 0.7449 - val_accuracy: 0.7045\n",
      "Epoch 87/100\n",
      "24/24 [==============================] - 230s 10s/step - loss: 0.1479 - accuracy: 0.9491 - val_loss: 1.0296 - val_accuracy: 0.7500\n",
      "Epoch 88/100\n",
      "24/24 [==============================] - 230s 10s/step - loss: 0.1573 - accuracy: 0.9370 - val_loss: 0.7418 - val_accuracy: 0.7955\n",
      "Epoch 89/100\n",
      "24/24 [==============================] - 230s 10s/step - loss: 0.1539 - accuracy: 0.9370 - val_loss: 1.7022 - val_accuracy: 0.7045\n",
      "Epoch 90/100\n",
      "24/24 [==============================] - 231s 10s/step - loss: 0.1650 - accuracy: 0.9410 - val_loss: 0.9060 - val_accuracy: 0.7955\n",
      "Epoch 91/100\n",
      "24/24 [==============================] - 230s 10s/step - loss: 0.1588 - accuracy: 0.9343 - val_loss: 1.7019 - val_accuracy: 0.6212\n",
      "Epoch 92/100\n",
      "24/24 [==============================] - 230s 10s/step - loss: 0.1170 - accuracy: 0.9598 - val_loss: 1.0762 - val_accuracy: 0.6894\n",
      "Epoch 93/100\n",
      "24/24 [==============================] - 230s 10s/step - loss: 0.1303 - accuracy: 0.9410 - val_loss: 0.4671 - val_accuracy: 0.8636\n",
      "Epoch 94/100\n",
      "24/24 [==============================] - 230s 10s/step - loss: 0.1911 - accuracy: 0.9249 - val_loss: 1.1801 - val_accuracy: 0.6970\n",
      "Epoch 95/100\n",
      "24/24 [==============================] - 230s 10s/step - loss: 0.1442 - accuracy: 0.9504 - val_loss: 0.4949 - val_accuracy: 0.8712\n",
      "Epoch 96/100\n",
      "24/24 [==============================] - 230s 10s/step - loss: 0.1774 - accuracy: 0.9196 - val_loss: 0.6975 - val_accuracy: 0.8258\n",
      "Epoch 97/100\n",
      "24/24 [==============================] - 231s 10s/step - loss: 0.2018 - accuracy: 0.9263 - val_loss: 3.8674 - val_accuracy: 0.5152\n",
      "Epoch 98/100\n",
      "24/24 [==============================] - 231s 10s/step - loss: 0.1518 - accuracy: 0.9397 - val_loss: 7.2698 - val_accuracy: 0.5379\n",
      "Epoch 99/100\n",
      "24/24 [==============================] - 231s 10s/step - loss: 0.1470 - accuracy: 0.9450 - val_loss: 0.8326 - val_accuracy: 0.7803\n",
      "Epoch 100/100\n",
      "24/24 [==============================] - 231s 10s/step - loss: 0.1479 - accuracy: 0.9531 - val_loss: 0.9528 - val_accuracy: 0.6970\n"
     ]
    },
    {
     "data": {
      "text/plain": [
       "<keras.callbacks.History at 0x7fcdc03553a0>"
      ]
     },
     "execution_count": 14,
     "metadata": {},
     "output_type": "execute_result"
    }
   ],
   "source": [
    "epochs = 100\n",
    "callbacks = [\n",
    "    keras.callbacks.ModelCheckpoint(\"ckpts/tf_xception_{epoch}.h5\", save_best_only=True),\n",
    "]\n",
    "tensorboard = keras.callbacks.TensorBoard(log_dir='./logs',\n",
    "                 histogram_freq=1, \n",
    "                 write_graph=True, \n",
    "                 write_images=False)\n",
    "\n",
    "tf_model_xception.compile(\n",
    "    optimizer=keras.optimizers.Adam(),\n",
    "    loss=\"binary_crossentropy\",\n",
    "    metrics=[\"accuracy\"],\n",
    ")\n",
    "tf_model_xception.fit(\n",
    "    x =np.array(training_data), y=np.array(training_labels), epochs=epochs, callbacks=[callbacks, tensorboard], validation_split = .15, batch_size=32\n",
    ")"
   ]
  },
  {
   "cell_type": "code",
   "execution_count": 17,
   "metadata": {},
   "outputs": [
    {
     "name": "stdout",
     "output_type": "stream",
     "text": [
      "              precision    recall  f1-score   support\n",
      "\n",
      "         0.0       0.49      1.00      0.66       239\n",
      "         1.0       0.00      0.00      0.00       245\n",
      "\n",
      "    accuracy                           0.49       484\n",
      "   macro avg       0.25      0.50      0.33       484\n",
      "weighted avg       0.24      0.49      0.33       484\n",
      "\n"
     ]
    },
    {
     "name": "stderr",
     "output_type": "stream",
     "text": [
      "/home/giorgia/Desktop/MAI/Thesis/litter_env/lib/python3.8/site-packages/sklearn/metrics/_classification.py:1318: UndefinedMetricWarning: Precision and F-score are ill-defined and being set to 0.0 in labels with no predicted samples. Use `zero_division` parameter to control this behavior.\n",
      "  _warn_prf(average, modifier, msg_start, len(result))\n",
      "/home/giorgia/Desktop/MAI/Thesis/litter_env/lib/python3.8/site-packages/sklearn/metrics/_classification.py:1318: UndefinedMetricWarning: Precision and F-score are ill-defined and being set to 0.0 in labels with no predicted samples. Use `zero_division` parameter to control this behavior.\n",
      "  _warn_prf(average, modifier, msg_start, len(result))\n",
      "/home/giorgia/Desktop/MAI/Thesis/litter_env/lib/python3.8/site-packages/sklearn/metrics/_classification.py:1318: UndefinedMetricWarning: Precision and F-score are ill-defined and being set to 0.0 in labels with no predicted samples. Use `zero_division` parameter to control this behavior.\n",
      "  _warn_prf(average, modifier, msg_start, len(result))\n"
     ]
    }
   ],
   "source": [
    "# load weights of trained model and compile \n",
    "tf_model_xception.load_weights(\"ckpts/tf_xception_14.h5\")\n",
    "tf_model_xception.compile(\n",
    "    optimizer=keras.optimizers.Adam(1e-3),\n",
    "    loss=\"binary_crossentropy\",\n",
    "    metrics=[\"accuracy\"],\n",
    ")\n",
    "pred_probs_x, pred_class_x = get_preditictions(tf_model_xception, test_data)"
   ]
  },
  {
   "cell_type": "markdown",
   "metadata": {},
   "source": [
    "### Training EfficientNetB0"
   ]
  },
  {
   "cell_type": "code",
   "execution_count": 10,
   "metadata": {},
   "outputs": [],
   "source": [
    "# preprocess data \n",
    "inputs = keras.Input(shape = (256, 256, 3))\n",
    "x = data_augmentation(inputs)\n",
    "x = layers.Rescaling(1.0 / 255)(x)\n",
    "\n",
    "# load pre-trained model and weights without last layer\n",
    "x = EfficientNetB0(weights=None, include_top=False, input_shape=(256, 256, 3))(x)\n",
    "\n",
    "# add layers on top\n",
    "x = layers.MaxPooling2D(3, strides=2, padding=\"same\")(x)\n",
    "x = layers.GlobalAveragePooling2D()(x)\n",
    "x = layers.Dropout(0.25)(x)\n",
    "outputs = layers.Dense(1, activation=\"sigmoid\")(x)\n",
    "# final model to train\n",
    "tf_model_eff = keras.Model(inputs, outputs)"
   ]
  },
  {
   "cell_type": "code",
   "execution_count": 24,
   "metadata": {},
   "outputs": [
    {
     "name": "stdout",
     "output_type": "stream",
     "text": [
      "Epoch 1/100\n",
      "28/28 [==============================] - 150s 5s/step - loss: 0.6886 - accuracy: 0.6335 - val_loss: 0.4634 - val_accuracy: 1.0000\n",
      "Epoch 2/100\n",
      "28/28 [==============================] - 146s 5s/step - loss: 0.5633 - accuracy: 0.6946 - val_loss: 0.4483 - val_accuracy: 1.0000\n",
      "Epoch 3/100\n",
      "28/28 [==============================] - 132s 5s/step - loss: 0.5547 - accuracy: 0.7296 - val_loss: 0.4323 - val_accuracy: 1.0000\n",
      "Epoch 4/100\n",
      "28/28 [==============================] - 133s 5s/step - loss: 0.5173 - accuracy: 0.7523 - val_loss: 0.2799 - val_accuracy: 1.0000\n",
      "Epoch 5/100\n",
      "28/28 [==============================] - 129s 5s/step - loss: 0.4931 - accuracy: 0.7477 - val_loss: 0.0848 - val_accuracy: 1.0000\n",
      "Epoch 6/100\n",
      "28/28 [==============================] - 124s 4s/step - loss: 0.4523 - accuracy: 0.7828 - val_loss: 0.0572 - val_accuracy: 1.0000\n",
      "Epoch 7/100\n",
      "28/28 [==============================] - 124s 4s/step - loss: 0.4585 - accuracy: 0.7828 - val_loss: 0.1806 - val_accuracy: 1.0000\n",
      "Epoch 8/100\n",
      "28/28 [==============================] - 124s 4s/step - loss: 0.4124 - accuracy: 0.7998 - val_loss: 0.0079 - val_accuracy: 1.0000\n",
      "Epoch 9/100\n",
      "28/28 [==============================] - 126s 5s/step - loss: 0.4231 - accuracy: 0.8020 - val_loss: 0.0794 - val_accuracy: 1.0000\n",
      "Epoch 10/100\n",
      "28/28 [==============================] - 134s 5s/step - loss: 0.3870 - accuracy: 0.8054 - val_loss: 0.0382 - val_accuracy: 1.0000\n",
      "Epoch 11/100\n",
      "28/28 [==============================] - 132s 5s/step - loss: 0.3977 - accuracy: 0.8281 - val_loss: 0.0612 - val_accuracy: 1.0000\n",
      "Epoch 12/100\n",
      "28/28 [==============================] - 133s 5s/step - loss: 0.3828 - accuracy: 0.8156 - val_loss: 0.0848 - val_accuracy: 1.0000\n",
      "Epoch 13/100\n",
      "28/28 [==============================] - 129s 5s/step - loss: 0.3643 - accuracy: 0.8326 - val_loss: 0.1150 - val_accuracy: 1.0000\n",
      "Epoch 14/100\n",
      "28/28 [==============================] - 126s 5s/step - loss: 0.3745 - accuracy: 0.8167 - val_loss: 0.1733 - val_accuracy: 1.0000\n",
      "Epoch 15/100\n",
      "28/28 [==============================] - 126s 4s/step - loss: 0.3650 - accuracy: 0.8348 - val_loss: 0.0443 - val_accuracy: 1.0000\n",
      "Epoch 16/100\n",
      "28/28 [==============================] - 127s 5s/step - loss: 0.3573 - accuracy: 0.8439 - val_loss: 0.1207 - val_accuracy: 1.0000\n",
      "Epoch 17/100\n",
      "28/28 [==============================] - 129s 5s/step - loss: 0.3240 - accuracy: 0.8575 - val_loss: 0.1435 - val_accuracy: 1.0000\n",
      "Epoch 18/100\n",
      "28/28 [==============================] - 117s 4s/step - loss: 0.3165 - accuracy: 0.8552 - val_loss: 0.0634 - val_accuracy: 1.0000\n",
      "Epoch 19/100\n",
      "28/28 [==============================] - 126s 4s/step - loss: 0.3024 - accuracy: 0.8643 - val_loss: 0.0088 - val_accuracy: 1.0000\n",
      "Epoch 20/100\n",
      "28/28 [==============================] - 123s 4s/step - loss: 0.3100 - accuracy: 0.8495 - val_loss: 0.0490 - val_accuracy: 1.0000\n",
      "Epoch 21/100\n",
      "28/28 [==============================] - 124s 4s/step - loss: 0.3319 - accuracy: 0.8620 - val_loss: 0.1615 - val_accuracy: 0.9936\n",
      "Epoch 22/100\n",
      "28/28 [==============================] - 126s 5s/step - loss: 0.3341 - accuracy: 0.8326 - val_loss: 0.2180 - val_accuracy: 0.9936\n",
      "Epoch 23/100\n",
      "28/28 [==============================] - 125s 4s/step - loss: 0.3316 - accuracy: 0.8462 - val_loss: 0.0938 - val_accuracy: 0.9809\n",
      "Epoch 24/100\n",
      "28/28 [==============================] - 125s 4s/step - loss: 0.3247 - accuracy: 0.8450 - val_loss: 0.0432 - val_accuracy: 0.9873\n",
      "Epoch 25/100\n",
      "28/28 [==============================] - 125s 4s/step - loss: 0.3080 - accuracy: 0.8688 - val_loss: 0.0272 - val_accuracy: 0.9936\n",
      "Epoch 26/100\n",
      "28/28 [==============================] - 125s 4s/step - loss: 0.2918 - accuracy: 0.8812 - val_loss: 0.0220 - val_accuracy: 1.0000\n",
      "Epoch 27/100\n",
      "28/28 [==============================] - 125s 4s/step - loss: 0.2689 - accuracy: 0.8937 - val_loss: 0.0543 - val_accuracy: 0.9682\n",
      "Epoch 28/100\n",
      "28/28 [==============================] - 130s 5s/step - loss: 0.2275 - accuracy: 0.9072 - val_loss: 0.1275 - val_accuracy: 0.9618\n",
      "Epoch 29/100\n",
      "28/28 [==============================] - 126s 5s/step - loss: 0.3081 - accuracy: 0.8575 - val_loss: 0.1450 - val_accuracy: 0.9427\n",
      "Epoch 30/100\n",
      "28/28 [==============================] - 128s 5s/step - loss: 0.2896 - accuracy: 0.8846 - val_loss: 0.2381 - val_accuracy: 0.9108\n",
      "Epoch 31/100\n",
      "28/28 [==============================] - 124s 4s/step - loss: 0.2639 - accuracy: 0.8824 - val_loss: 0.5647 - val_accuracy: 0.7452\n",
      "Epoch 32/100\n",
      "28/28 [==============================] - 120s 4s/step - loss: 0.2562 - accuracy: 0.8835 - val_loss: 0.2982 - val_accuracy: 0.8662\n",
      "Epoch 33/100\n",
      "28/28 [==============================] - 119s 4s/step - loss: 0.2383 - accuracy: 0.8982 - val_loss: 0.4971 - val_accuracy: 0.8025\n",
      "Epoch 34/100\n",
      "28/28 [==============================] - 126s 5s/step - loss: 0.2442 - accuracy: 0.8948 - val_loss: 0.5964 - val_accuracy: 0.8535\n",
      "Epoch 35/100\n",
      "28/28 [==============================] - 135s 5s/step - loss: 0.2421 - accuracy: 0.8914 - val_loss: 0.0434 - val_accuracy: 0.9873\n",
      "Epoch 36/100\n",
      "28/28 [==============================] - 127s 5s/step - loss: 0.2565 - accuracy: 0.8891 - val_loss: 0.0583 - val_accuracy: 0.9682\n",
      "Epoch 37/100\n",
      "28/28 [==============================] - 125s 4s/step - loss: 0.2034 - accuracy: 0.9061 - val_loss: 0.1829 - val_accuracy: 0.9172\n",
      "Epoch 38/100\n",
      "28/28 [==============================] - 125s 4s/step - loss: 0.2198 - accuracy: 0.9118 - val_loss: 0.2961 - val_accuracy: 0.9045\n",
      "Epoch 39/100\n",
      "28/28 [==============================] - 124s 4s/step - loss: 0.2047 - accuracy: 0.9186 - val_loss: 0.1750 - val_accuracy: 0.9045\n",
      "Epoch 40/100\n",
      "28/28 [==============================] - 124s 4s/step - loss: 0.2222 - accuracy: 0.9061 - val_loss: 0.7210 - val_accuracy: 0.8344\n",
      "Epoch 41/100\n",
      "28/28 [==============================] - 122s 4s/step - loss: 0.2458 - accuracy: 0.8925 - val_loss: 0.1774 - val_accuracy: 0.9045\n",
      "Epoch 42/100\n",
      "28/28 [==============================] - 121s 4s/step - loss: 0.2313 - accuracy: 0.8971 - val_loss: 0.1680 - val_accuracy: 0.9236\n",
      "Epoch 43/100\n",
      "28/28 [==============================] - 120s 4s/step - loss: 0.2045 - accuracy: 0.9072 - val_loss: 0.1574 - val_accuracy: 0.9363\n",
      "Epoch 44/100\n",
      "28/28 [==============================] - 120s 4s/step - loss: 0.2147 - accuracy: 0.9050 - val_loss: 0.4787 - val_accuracy: 0.8217\n",
      "Epoch 45/100\n",
      "28/28 [==============================] - 120s 4s/step - loss: 0.2193 - accuracy: 0.9005 - val_loss: 0.3209 - val_accuracy: 0.8917\n",
      "Epoch 46/100\n",
      "28/28 [==============================] - 120s 4s/step - loss: 0.1935 - accuracy: 0.9219 - val_loss: 0.2774 - val_accuracy: 0.8917\n",
      "Epoch 47/100\n",
      "28/28 [==============================] - 120s 4s/step - loss: 0.2457 - accuracy: 0.9016 - val_loss: 0.4394 - val_accuracy: 0.8344\n",
      "Epoch 48/100\n",
      "28/28 [==============================] - 120s 4s/step - loss: 0.2108 - accuracy: 0.9106 - val_loss: 0.8015 - val_accuracy: 0.6178\n",
      "Epoch 49/100\n",
      "28/28 [==============================] - 120s 4s/step - loss: 0.2179 - accuracy: 0.9152 - val_loss: 15.3242 - val_accuracy: 0.1911\n",
      "Epoch 50/100\n",
      "28/28 [==============================] - 120s 4s/step - loss: 0.1976 - accuracy: 0.9208 - val_loss: 2.3374 - val_accuracy: 0.8408\n",
      "Epoch 51/100\n",
      "28/28 [==============================] - 120s 4s/step - loss: 0.1945 - accuracy: 0.9163 - val_loss: 1.1817 - val_accuracy: 0.7197\n",
      "Epoch 52/100\n",
      "28/28 [==============================] - 120s 4s/step - loss: 0.1859 - accuracy: 0.9242 - val_loss: 0.7570 - val_accuracy: 0.7707\n",
      "Epoch 53/100\n",
      "28/28 [==============================] - 119s 4s/step - loss: 0.1817 - accuracy: 0.9253 - val_loss: 0.9529 - val_accuracy: 0.7325\n",
      "Epoch 54/100\n",
      "28/28 [==============================] - 120s 4s/step - loss: 0.1535 - accuracy: 0.9355 - val_loss: 0.5374 - val_accuracy: 0.8408\n",
      "Epoch 55/100\n",
      "28/28 [==============================] - 120s 4s/step - loss: 0.1811 - accuracy: 0.9231 - val_loss: 0.3070 - val_accuracy: 0.8662\n",
      "Epoch 56/100\n",
      "28/28 [==============================] - 120s 4s/step - loss: 0.1884 - accuracy: 0.9287 - val_loss: 0.4221 - val_accuracy: 0.8535\n",
      "Epoch 57/100\n",
      "28/28 [==============================] - 120s 4s/step - loss: 0.1504 - accuracy: 0.9400 - val_loss: 0.6642 - val_accuracy: 0.8025\n",
      "Epoch 58/100\n",
      "28/28 [==============================] - 120s 4s/step - loss: 0.2047 - accuracy: 0.9219 - val_loss: 0.5829 - val_accuracy: 0.8089\n",
      "Epoch 59/100\n",
      "28/28 [==============================] - 120s 4s/step - loss: 0.2032 - accuracy: 0.9152 - val_loss: 1.2025 - val_accuracy: 0.5796\n",
      "Epoch 60/100\n",
      "28/28 [==============================] - 120s 4s/step - loss: 0.1756 - accuracy: 0.9310 - val_loss: 0.9554 - val_accuracy: 0.8599\n",
      "Epoch 61/100\n",
      "28/28 [==============================] - 120s 4s/step - loss: 0.1711 - accuracy: 0.9163 - val_loss: 1.4708 - val_accuracy: 0.7580\n",
      "Epoch 62/100\n",
      "28/28 [==============================] - 120s 4s/step - loss: 0.1637 - accuracy: 0.9457 - val_loss: 0.6263 - val_accuracy: 0.7834\n",
      "Epoch 63/100\n",
      "28/28 [==============================] - 120s 4s/step - loss: 0.1132 - accuracy: 0.9570 - val_loss: 0.5154 - val_accuracy: 0.8408\n",
      "Epoch 64/100\n",
      "28/28 [==============================] - 120s 4s/step - loss: 0.1195 - accuracy: 0.9581 - val_loss: 0.6106 - val_accuracy: 0.8153\n",
      "Epoch 65/100\n",
      "28/28 [==============================] - 120s 4s/step - loss: 0.1160 - accuracy: 0.9502 - val_loss: 0.3196 - val_accuracy: 0.8917\n",
      "Epoch 66/100\n",
      "28/28 [==============================] - 120s 4s/step - loss: 0.1686 - accuracy: 0.9389 - val_loss: 0.2306 - val_accuracy: 0.9045\n",
      "Epoch 67/100\n",
      "28/28 [==============================] - 120s 4s/step - loss: 0.1604 - accuracy: 0.9367 - val_loss: 0.3619 - val_accuracy: 0.8726\n",
      "Epoch 68/100\n",
      "28/28 [==============================] - 120s 4s/step - loss: 0.1202 - accuracy: 0.9581 - val_loss: 0.1474 - val_accuracy: 0.9427\n",
      "Epoch 69/100\n",
      "28/28 [==============================] - 120s 4s/step - loss: 0.1657 - accuracy: 0.9276 - val_loss: 0.5506 - val_accuracy: 0.8408\n",
      "Epoch 70/100\n",
      "28/28 [==============================] - 119s 4s/step - loss: 0.1768 - accuracy: 0.9299 - val_loss: 1.2722 - val_accuracy: 0.8344\n",
      "Epoch 71/100\n",
      "28/28 [==============================] - 120s 4s/step - loss: 0.1389 - accuracy: 0.9423 - val_loss: 0.6097 - val_accuracy: 0.8153\n",
      "Epoch 72/100\n",
      "28/28 [==============================] - 120s 4s/step - loss: 0.1263 - accuracy: 0.9423 - val_loss: 0.6390 - val_accuracy: 0.8217\n",
      "Epoch 73/100\n",
      "28/28 [==============================] - 120s 4s/step - loss: 0.1420 - accuracy: 0.9400 - val_loss: 0.4792 - val_accuracy: 0.8280\n",
      "Epoch 74/100\n",
      "28/28 [==============================] - 120s 4s/step - loss: 0.1123 - accuracy: 0.9615 - val_loss: 0.2421 - val_accuracy: 0.9363\n",
      "Epoch 75/100\n",
      "28/28 [==============================] - 120s 4s/step - loss: 0.1541 - accuracy: 0.9400 - val_loss: 0.8243 - val_accuracy: 0.7580\n",
      "Epoch 76/100\n",
      "28/28 [==============================] - 120s 4s/step - loss: 0.1554 - accuracy: 0.9468 - val_loss: 0.4189 - val_accuracy: 0.8662\n",
      "Epoch 77/100\n",
      "28/28 [==============================] - 130s 5s/step - loss: 0.1525 - accuracy: 0.9412 - val_loss: 0.3189 - val_accuracy: 0.8854\n",
      "Epoch 78/100\n",
      " 9/28 [========>.....................] - ETA: 1:27 - loss: 0.1202 - accuracy: 0.9549"
     ]
    }
   ],
   "source": [
    "epochs = 100\n",
    "callbacks = [\n",
    "    keras.callbacks.ModelCheckpoint(\"ckpts/tf_effnetb0_{epoch}.h5\", save_best_only=True),\n",
    "]\n",
    "tensorboard = keras.callbacks.TensorBoard(log_dir='./logs',\n",
    "                 histogram_freq=1, \n",
    "                 write_graph=True, \n",
    "                 write_images=False)\n",
    "\n",
    "tf_model_eff.compile(\n",
    "    optimizer=keras.optimizers.Adam(),\n",
    "    loss=\"binary_crossentropy\",\n",
    "    metrics=[\"accuracy\"],\n",
    ")\n",
    "tf_model_eff.fit(\n",
    "    x =np.array(training_data), y=np.array(training_labels), epochs=epochs, callbacks=[callbacks, tensorboard], validation_split = .15, batch_size=32\n",
    ")"
   ]
  },
  {
   "cell_type": "code",
   "execution_count": 12,
   "metadata": {},
   "outputs": [
    {
     "name": "stdout",
     "output_type": "stream",
     "text": [
      "              precision    recall  f1-score   support\n",
      "\n",
      "         0.0       0.49      1.00      0.66       239\n",
      "         1.0       0.00      0.00      0.00       245\n",
      "\n",
      "    accuracy                           0.49       484\n",
      "   macro avg       0.25      0.50      0.33       484\n",
      "weighted avg       0.24      0.49      0.33       484\n",
      "\n"
     ]
    },
    {
     "name": "stderr",
     "output_type": "stream",
     "text": [
      "/home/giorgia/Desktop/MAI/Thesis/litter_env/lib/python3.8/site-packages/sklearn/metrics/_classification.py:1318: UndefinedMetricWarning: Precision and F-score are ill-defined and being set to 0.0 in labels with no predicted samples. Use `zero_division` parameter to control this behavior.\n",
      "  _warn_prf(average, modifier, msg_start, len(result))\n",
      "/home/giorgia/Desktop/MAI/Thesis/litter_env/lib/python3.8/site-packages/sklearn/metrics/_classification.py:1318: UndefinedMetricWarning: Precision and F-score are ill-defined and being set to 0.0 in labels with no predicted samples. Use `zero_division` parameter to control this behavior.\n",
      "  _warn_prf(average, modifier, msg_start, len(result))\n",
      "/home/giorgia/Desktop/MAI/Thesis/litter_env/lib/python3.8/site-packages/sklearn/metrics/_classification.py:1318: UndefinedMetricWarning: Precision and F-score are ill-defined and being set to 0.0 in labels with no predicted samples. Use `zero_division` parameter to control this behavior.\n",
      "  _warn_prf(average, modifier, msg_start, len(result))\n"
     ]
    }
   ],
   "source": [
    "\n",
    "tf_model_eff.load_weights(\"ckpts/tf_effnetb0_8.h5\")\n",
    "tf_model_eff.compile(\n",
    "    optimizer=keras.optimizers.Adam(1e-3),\n",
    "    loss=\"binary_crossentropy\",\n",
    "    metrics=[\"accuracy\"],\n",
    ")\n",
    "pred_probs_eff, pred_class_eff = get_preditictions(tf_model_eff, test_data)"
   ]
  },
  {
   "cell_type": "code",
   "execution_count": 22,
   "metadata": {},
   "outputs": [
    {
     "name": "stderr",
     "output_type": "stream",
     "text": [
      "/home/giorgia/Desktop/MAI/Thesis/litter_env/lib/python3.8/site-packages/seaborn/_decorators.py:36: FutureWarning: Pass the following variables as keyword args: x, y. From version 0.12, the only valid positional argument will be `data`, and passing other arguments without an explicit keyword will result in an error or misinterpretation.\n",
      "  warnings.warn(\n",
      "/home/giorgia/Desktop/MAI/Thesis/litter_env/lib/python3.8/site-packages/seaborn/_decorators.py:36: FutureWarning: Pass the following variables as keyword args: x, y. From version 0.12, the only valid positional argument will be `data`, and passing other arguments without an explicit keyword will result in an error or misinterpretation.\n",
      "  warnings.warn(\n",
      "/home/giorgia/Desktop/MAI/Thesis/litter_env/lib/python3.8/site-packages/seaborn/_decorators.py:36: FutureWarning: Pass the following variables as keyword args: x, y. From version 0.12, the only valid positional argument will be `data`, and passing other arguments without an explicit keyword will result in an error or misinterpretation.\n",
      "  warnings.warn(\n"
     ]
    },
    {
     "data": {
      "text/plain": [
       "Text(0.5, 0, 'Recall')"
      ]
     },
     "execution_count": 22,
     "metadata": {},
     "output_type": "execute_result"
    },
    {
     "data": {
      "image/png": "[encoded data removed]",
      "text/plain": [
       "<Figure size 720x720 with 1 Axes>"
      ]
     },
     "metadata": {},
     "output_type": "display_data"
    }
   ],
   "source": [
    "import matplotlib.pyplot as plt \n",
    "from sklearn.metrics import roc_curve\n",
    "\n",
    "import seaborn as sns \n",
    "\n",
    "plt.figure(figsize=(10,10))\n",
    "plt.title(\"Precision-Recall\", fontsize=20)\n",
    "sns.set_style(\"darkgrid\")\n",
    "# CNN\n",
    "fpr, tpr, thresholds = roc_curve(test_labels, pred_probs_eff)\n",
    "sns.lineplot(fpr, tpr, label=\"EfficientNetB0\")\n",
    "\n",
    "sns.set_style(\"darkgrid\")\n",
    "# Xception\n",
    "fpr, tpr, thresholds = roc_curve(test_labels, pred_probs_x)\n",
    "sns.lineplot(fpr, tpr, label=\"Xception\")\n",
    "plt.legend()\n",
    "\n",
    "sns.set_style(\"darkgrid\")\n",
    "# CNN\n",
    "fpr, tpr, thresholds = roc_curve(test_labels, pred_probs_cnn)\n",
    "sns.lineplot(fpr, tpr, label=\"CNN\")\n",
    "plt.legend()\n",
    "\n",
    "\n",
    "plt.ylabel(\"Precision\", fontsize=15)\n",
    "plt.xlabel(\"Recall\", fontsize=15)"
   ]
  },
  {
   "cell_type": "code",
   "execution_count": null,
   "metadata": {},
   "outputs": [],
   "source": []
  }
 ],
 "metadata": {
  "interpreter": {
   "hash": "a626b004e18be3dea50627db104c07a4a2d0cf9d973364797b6bab100a1927a3"
  },
  "kernelspec": {
   "display_name": "Python 3.8.10 64-bit ('litter_env': venv)",
   "language": "python",
   "name": "python3"
  },
  "language_info": {
   "codemirror_mode": {
    "name": "ipython",
    "version": 3
   },
   "file_extension": ".py",
   "mimetype": "text/x-python",
   "name": "python",
   "nbconvert_exporter": "python",
   "pygments_lexer": "ipython3",
   "version": "3.8.10"
  },
  "orig_nbformat": 4
 },
 "nbformat": 4,
 "nbformat_minor": 2
}
