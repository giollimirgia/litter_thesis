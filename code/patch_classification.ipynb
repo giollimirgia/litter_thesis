{
 "cells": [
  {
   "cell_type": "code",
   "execution_count": 58,
   "metadata": {},
   "outputs": [],
   "source": [
    "import pandas as pd \n",
    "import os\n",
    "import numpy as np\n",
    "import torch\n",
    "from skimage.io import imread\n",
    "from sklearn import svm\n",
    "from skimage.feature import hog\n",
    "from skimage.segmentation import slic\n",
    "import torchvision"
   ]
  },
  {
   "cell_type": "code",
   "execution_count": 3,
   "metadata": {},
   "outputs": [
    {
     "data": {
      "text/plain": [
       "1161"
      ]
     },
     "execution_count": 3,
     "metadata": {},
     "output_type": "execute_result"
    }
   ],
   "source": [
    "df = pd.read_csv('/home/giorgia/Desktop/MAI/Thesis/patch_info.csv')\n",
    "len(df[df.plastic!=-1])"
   ]
  },
  {
   "cell_type": "code",
   "execution_count": 4,
   "metadata": {},
   "outputs": [
    {
     "data": {
      "text/plain": [
       "(567, 594)"
      ]
     },
     "execution_count": 4,
     "metadata": {},
     "output_type": "execute_result"
    }
   ],
   "source": [
    "df = pd.read_csv('/home/giorgia/Desktop/MAI/Thesis/patch_info.csv')\n",
    "df = df[df.plastic!=-1]\n",
    "df_plastic = df[df.plastic==1].reset_index()\n",
    "df_noplastic = df[df.plastic==0].reset_index()\n",
    "len(df_plastic), len(df_noplastic)\n"
   ]
  },
  {
   "cell_type": "code",
   "execution_count": 5,
   "metadata": {},
   "outputs": [
    {
     "data": {
      "text/plain": [
       "(1032, 480)"
      ]
     },
     "execution_count": 5,
     "metadata": {},
     "output_type": "execute_result"
    }
   ],
   "source": [
    "partition = 0.89\n",
    "\n",
    "rand_ind_p = np.random.randint(0, len(df_plastic), int(partition*len(df_plastic)))\n",
    "rand_ind_np = np.random.randint(0, len(df_noplastic), int(partition*len(df_noplastic)))\n",
    "\n",
    "training_set = pd.concat([df_plastic.loc[rand_ind_p, ['patch_filename', 'plastic']], df_noplastic.loc[rand_ind_np, ['patch_filename', 'plastic']]]).reset_index()\n",
    "validation_set = pd.merge(df.loc[:, ['patch_filename', 'plastic']], training_set, indicator=True, how='outer').query('_merge==\"left_only\"').drop(['_merge','index'], axis=1).reset_index()\n",
    "\n",
    "len(training_set), len(validation_set)"
   ]
  },
  {
   "cell_type": "code",
   "execution_count": 71,
   "metadata": {},
   "outputs": [],
   "source": [
    "def prepareData(df):\n",
    "    data = []\n",
    "    labels = []\n",
    "    patches_path = '/home/giorgia/Desktop/MAI/Thesis/images/patches/'\n",
    "    for i in range(len(df)):\n",
    "        patch_filename = os.path.join(patches_path, os.path.basename(df.loc[i, 'patch_filename']))\n",
    "        #im = np.amax(imread(patch_filename), axis=2) # maximum intensity projection\n",
    "        im = imread(patch_filename)\n",
    "        if im.shape == (256, 256, 3):\n",
    "            #feat = hog(im, feature_vector=True)\n",
    "            #feat, _ = np.histogram(im, bins = 100)\n",
    "            feat = slic(im).flatten()\n",
    "            #feat_descriptor.detect_and_extract(im)\n",
    "            #feat = feat_descriptor.descriptors\n",
    "            data.append(feat)\n",
    "            #data.append(im.flatten()) # use mip intensities as feature vectors\n",
    "            labels.append(df.loc[i, 'plastic'])\n",
    "    return data, labels\n"
   ]
  },
  {
   "cell_type": "code",
   "execution_count": 72,
   "metadata": {},
   "outputs": [],
   "source": [
    "training_data, training_labels = prepareData(training_set)\n",
    "test_data, test_labels = prepareData(validation_set)"
   ]
  },
  {
   "cell_type": "code",
   "execution_count": 73,
   "metadata": {},
   "outputs": [
    {
     "data": {
      "text/plain": [
       "65536"
      ]
     },
     "execution_count": 73,
     "metadata": {},
     "output_type": "execute_result"
    }
   ],
   "source": [
    "len(training_data[2])"
   ]
  },
  {
   "cell_type": "code",
   "execution_count": 74,
   "metadata": {},
   "outputs": [],
   "source": [
    "rbf_svc = svm.SVC(kernel='rbf')\n",
    "rbf_svc.fit(training_data, training_labels)\n",
    "rbf_svc.score(test_data, test_labels)"
   ]
  },
  {
   "cell_type": "code",
   "execution_count": 56,
   "metadata": {},
   "outputs": [
    {
     "data": {
      "text/plain": [
       "0.7948717948717948"
      ]
     },
     "execution_count": 56,
     "metadata": {},
     "output_type": "execute_result"
    }
   ],
   "source": [
    "from sklearn.ensemble import RandomForestClassifier \n",
    "\n",
    "rfc = RandomForestClassifier()\n",
    "rfc.fit(training_data, training_labels)\n",
    "rfc.score(test_data, test_labels)\n"
   ]
  },
  {
   "cell_type": "code",
   "execution_count": 6,
   "metadata": {},
   "outputs": [],
   "source": [
    "def loadBatch(img_df, batch_size=16):\n",
    "    if len(img_df)<=batch_size:\n",
    "        X = [imread(img_df.loc[i,'patch_filename']) for i in img_df.index.values.to_list()]\n",
    "        Y = img_df.plastic.values.to_list()\n",
    "    else:\n",
    "        shuffled_ind = np.random.randi(0, img_df.index.max(), batch_size)\n",
    "        X = [imread(img_df.loc[i,'patch_filename']) for i in shuffled_ind]\n",
    "        Y = img_df.loc[shuffled_ind,'plastic'].values\n",
    "        img_df = img_df.drop(img_df.index[shuffled_ind])\n",
    "    return X, Y, img_df"
   ]
  },
  {
   "cell_type": "code",
   "execution_count": 7,
   "metadata": {},
   "outputs": [],
   "source": [
    "import torch.nn as nn\n",
    "import torch.nn.functional as F\n",
    "\n",
    "\n",
    "class Net(nn.Module):\n",
    "    def __init__(self):\n",
    "        super().__init__()\n",
    "        self.conv1 = nn.Conv2d(3, 6, 5)\n",
    "        self.pool = nn.MaxPool2d(2, 2)\n",
    "        self.conv2 = nn.Conv2d(6, 16, 5)\n",
    "        self.fc1 = nn.Linear(16 * 5 * 5, 120)\n",
    "        self.fc2 = nn.Linear(120, 84)\n",
    "        self.fc3 = nn.Linear(84, 10)\n",
    "\n",
    "    def forward(self, x):\n",
    "        x = self.pool(F.relu(self.conv1(x)))\n",
    "        x = self.pool(F.relu(self.conv2(x)))\n",
    "        x = torch.flatten(x, 1) # flatten all dimensions except batch\n",
    "        x = F.relu(self.fc1(x))\n",
    "        x = F.relu(self.fc2(x))\n",
    "        x = self.fc3(x)\n",
    "        return x\n",
    "\n",
    "net = Net()"
   ]
  },
  {
   "cell_type": "code",
   "execution_count": 8,
   "metadata": {},
   "outputs": [],
   "source": [
    "import torch.optim as optim\n",
    "\n",
    "criterion = nn.CrossEntropyLoss()\n",
    "optimizer = optim.SGD(net.parameters(), lr=0.001, momentum=0.9)"
   ]
  },
  {
   "cell_type": "code",
   "execution_count": null,
   "metadata": {},
   "outputs": [],
   "source": [
    "dataset = datasets.ImageFolder('path', transform=transform)"
   ]
  },
  {
   "cell_type": "code",
   "execution_count": null,
   "metadata": {},
   "outputs": [],
   "source": [
    "for epoch in range(2):  # loop over the dataset multiple times\n",
    "\n",
    "    running_loss = 0.0\n",
    "    for i, data in enumerate(trainloader, 0):\n",
    "        # get the inputs; data is a list of [inputs, labels]\n",
    "        inputs, labels = data\n",
    "\n",
    "        # zero the parameter gradients\n",
    "        optimizer.zero_grad()\n",
    "\n",
    "        # forward + backward + optimize\n",
    "        outputs = net(inputs)\n",
    "        loss = criterion(outputs, labels)\n",
    "        loss.backward()\n",
    "        optimizer.step()\n",
    "\n",
    "        # print statistics\n",
    "        running_loss += loss.item()\n",
    "        if i % 2000 == 1999:    # print every 2000 mini-batches\n",
    "            print(f'[{epoch + 1}, {i + 1:5d}] loss: {running_loss / 2000:.3f}')\n",
    "            running_loss = 0.0\n",
    "\n",
    "print('Finished Training')"
   ]
  }
 ],
 "metadata": {
  "interpreter": {
   "hash": "a626b004e18be3dea50627db104c07a4a2d0cf9d973364797b6bab100a1927a3"
  },
  "kernelspec": {
   "display_name": "Python 3.8.10 64-bit ('litter_env': venv)",
   "language": "python",
   "name": "python3"
  },
  "language_info": {
   "codemirror_mode": {
    "name": "ipython",
    "version": 3
   },
   "file_extension": ".py",
   "mimetype": "text/x-python",
   "name": "python",
   "nbconvert_exporter": "python",
   "pygments_lexer": "ipython3",
   "version": "3.8.10"
  },
  "orig_nbformat": 4
 },
 "nbformat": 4,
 "nbformat_minor": 2
}
