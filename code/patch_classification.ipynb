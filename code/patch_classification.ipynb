{
 "cells": [
  {
   "cell_type": "code",
   "execution_count": 1,
   "metadata": {},
   "outputs": [],
   "source": [
    "import pandas as pd \n",
    "import os\n",
    "import numpy as np\n",
    "from skimage.io import imread\n",
    "from sklearn import svm\n",
    "from sklearn.model_selection import KFold\n",
    "from sklearn.metrics import accuracy_score, classification_report\n",
    "from sklearn.model_selection import GridSearchCV\n"
   ]
  },
  {
   "cell_type": "markdown",
   "metadata": {},
   "source": [
    "## Dataset preparation"
   ]
  },
  {
   "cell_type": "code",
   "execution_count": 2,
   "metadata": {},
   "outputs": [
    {
     "data": {
      "text/plain": [
       "1161"
      ]
     },
     "execution_count": 2,
     "metadata": {},
     "output_type": "execute_result"
    }
   ],
   "source": [
    "df = pd.read_csv('/home/giorgia/Desktop/MAI/Thesis/patch_info.csv')\n",
    "len(df[df.plastic!=-1])"
   ]
  },
  {
   "cell_type": "code",
   "execution_count": 3,
   "metadata": {},
   "outputs": [
    {
     "data": {
      "text/plain": [
       "(567, 594)"
      ]
     },
     "execution_count": 3,
     "metadata": {},
     "output_type": "execute_result"
    }
   ],
   "source": [
    "df = pd.read_csv('/home/giorgia/Desktop/MAI/Thesis/patch_info.csv')\n",
    "df = df[df.plastic!=-1]\n",
    "df_plastic = df[df.plastic==1].reset_index()\n",
    "df_noplastic = df[df.plastic==0].reset_index()\n",
    "len(df_plastic), len(df_noplastic)"
   ]
  },
  {
   "cell_type": "code",
   "execution_count": 4,
   "metadata": {},
   "outputs": [
    {
     "data": {
      "text/plain": [
       "(1032, 477)"
      ]
     },
     "execution_count": 4,
     "metadata": {},
     "output_type": "execute_result"
    }
   ],
   "source": [
    "partition = 0.89\n",
    "\n",
    "rand_ind_p = np.random.randint(0, len(df_plastic), int(partition*len(df_plastic)))\n",
    "rand_ind_np = np.random.randint(0, len(df_noplastic), int(partition*len(df_noplastic)))\n",
    "\n",
    "training_set = pd.concat([df_plastic.loc[rand_ind_p, ['patch_filename', 'plastic']], df_noplastic.loc[rand_ind_np, ['patch_filename', 'plastic']]]).reset_index()\n",
    "validation_set = pd.merge(df.loc[:, ['patch_filename', 'plastic']], training_set, indicator=True, how='outer').query('_merge==\"left_only\"').drop(['_merge','index'], axis=1).reset_index()\n",
    "\n",
    "len(training_set), len(validation_set)"
   ]
  },
  {
   "cell_type": "code",
   "execution_count": 5,
   "metadata": {},
   "outputs": [],
   "source": [
    "def prepareData(df):\n",
    "    data = []\n",
    "    labels = []\n",
    "    patches_path = '/home/giorgia/Desktop/MAI/Thesis/images/patches/'\n",
    "    for i in range(len(df)):\n",
    "        patch_filename = os.path.join(patches_path, os.path.basename(df.loc[i, 'patch_filename']))\n",
    "        #im = np.amax(imread(patch_filename), axis=2) # maximum intensity projection\n",
    "        im = imread(patch_filename)\n",
    "        if im.shape == (256, 256, 3):\n",
    "            feat, _ = np.histogram(im, bins = 100)\n",
    "            data.append(feat)\n",
    "            labels.append(df.loc[i, 'plastic'])\n",
    "    return data, labels\n"
   ]
  },
  {
   "cell_type": "code",
   "execution_count": 6,
   "metadata": {},
   "outputs": [],
   "source": [
    "training_data, training_labels = prepareData(training_set)\n",
    "test_data, test_labels = prepareData(validation_set)\n",
    "\n",
    "X = np.array(training_data )\n",
    "y = np.array(training_labels )"
   ]
  },
  {
   "cell_type": "markdown",
   "metadata": {},
   "source": [
    "## SVM "
   ]
  },
  {
   "cell_type": "code",
   "execution_count": 7,
   "metadata": {},
   "outputs": [
    {
     "name": "stdout",
     "output_type": "stream",
     "text": [
      "# Tuning hyper-parameters for precision\n",
      "\n"
     ]
    },
    {
     "name": "stderr",
     "output_type": "stream",
     "text": [
      "/home/giorgia/Desktop/MAI/Thesis/litter_env/lib/python3.8/site-packages/sklearn/metrics/_classification.py:1318: UndefinedMetricWarning: Precision is ill-defined and being set to 0.0 in labels with no predicted samples. Use `zero_division` parameter to control this behavior.\n",
      "  _warn_prf(average, modifier, msg_start, len(result))\n",
      "/home/giorgia/Desktop/MAI/Thesis/litter_env/lib/python3.8/site-packages/sklearn/metrics/_classification.py:1318: UndefinedMetricWarning: Precision is ill-defined and being set to 0.0 in labels with no predicted samples. Use `zero_division` parameter to control this behavior.\n",
      "  _warn_prf(average, modifier, msg_start, len(result))\n",
      "/home/giorgia/Desktop/MAI/Thesis/litter_env/lib/python3.8/site-packages/sklearn/metrics/_classification.py:1318: UndefinedMetricWarning: Precision is ill-defined and being set to 0.0 in labels with no predicted samples. Use `zero_division` parameter to control this behavior.\n",
      "  _warn_prf(average, modifier, msg_start, len(result))\n",
      "/home/giorgia/Desktop/MAI/Thesis/litter_env/lib/python3.8/site-packages/sklearn/metrics/_classification.py:1318: UndefinedMetricWarning: Precision is ill-defined and being set to 0.0 in labels with no predicted samples. Use `zero_division` parameter to control this behavior.\n",
      "  _warn_prf(average, modifier, msg_start, len(result))\n",
      "/home/giorgia/Desktop/MAI/Thesis/litter_env/lib/python3.8/site-packages/sklearn/metrics/_classification.py:1318: UndefinedMetricWarning: Precision is ill-defined and being set to 0.0 in labels with no predicted samples. Use `zero_division` parameter to control this behavior.\n",
      "  _warn_prf(average, modifier, msg_start, len(result))\n",
      "/home/giorgia/Desktop/MAI/Thesis/litter_env/lib/python3.8/site-packages/sklearn/metrics/_classification.py:1318: UndefinedMetricWarning: Precision is ill-defined and being set to 0.0 in labels with no predicted samples. Use `zero_division` parameter to control this behavior.\n",
      "  _warn_prf(average, modifier, msg_start, len(result))\n",
      "/home/giorgia/Desktop/MAI/Thesis/litter_env/lib/python3.8/site-packages/sklearn/metrics/_classification.py:1318: UndefinedMetricWarning: Precision is ill-defined and being set to 0.0 in labels with no predicted samples. Use `zero_division` parameter to control this behavior.\n",
      "  _warn_prf(average, modifier, msg_start, len(result))\n",
      "/home/giorgia/Desktop/MAI/Thesis/litter_env/lib/python3.8/site-packages/sklearn/metrics/_classification.py:1318: UndefinedMetricWarning: Precision is ill-defined and being set to 0.0 in labels with no predicted samples. Use `zero_division` parameter to control this behavior.\n",
      "  _warn_prf(average, modifier, msg_start, len(result))\n"
     ]
    }
   ],
   "source": [
    "kf = KFold(n_splits=3, shuffle=True)\n",
    "\n",
    "# Set the parameters by cross-validation\n",
    "tuned_parameters = [\n",
    "    {\"kernel\": [\"rbf\"], \"gamma\": [1e-3, 1e-4], \"C\": [1, 10, 100, 1000]},\n",
    "    {\"kernel\": [\"linear\"], \"C\": [1, 10, 100, 1000]},\n",
    "]\n",
    "scores = [\"precision\", \"recall\"]\n",
    "for train_index, test_index in kf.split(X):\n",
    "    X_train, X_test = X[train_index], X[test_index]\n",
    "    y_train, y_test = y[train_index], y[test_index]\n",
    "    for score in scores:\n",
    "        print(\"# Tuning hyper-parameters for %s\" % score)\n",
    "        print()\n",
    "\n",
    "        clf = GridSearchCV(svm.SVC(), tuned_parameters, scoring=\"%s_macro\" % score)\n",
    "        clf.fit(X_train, y_train)\n",
    "\n",
    "        print(\"Best parameters set found on development set:\")\n",
    "        print()\n",
    "        print(clf.best_params_)\n",
    "        print()\n",
    "        print(\"Grid scores on development set:\")\n",
    "        print()\n",
    "        means = clf.cv_results_[\"mean_test_score\"]\n",
    "        stds = clf.cv_results_[\"std_test_score\"]\n",
    "        for mean, std, params in zip(means, stds, clf.cv_results_[\"params\"]):\n",
    "            print(\"%0.3f (+/-%0.03f) for %r\" % (mean, std * 2, params))\n",
    "        print()\n",
    "\n",
    "        print(\"Detailed classification report:\")\n",
    "        print()\n",
    "        print(\"The model is trained on the full development set.\")\n",
    "        print(\"The scores are computed on the full evaluation set.\")\n",
    "        print()\n",
    "        y_true, y_pred = y_test, clf.predict(X_test)\n",
    "        print(classification_report(y_true, y_pred))\n",
    "        print()"
   ]
  },
  {
   "cell_type": "code",
   "execution_count": 101,
   "metadata": {},
   "outputs": [],
   "source": [
    "from sklearn.model_selection import ShuffleSplit\n",
    "from sklearn.model_selection import cross_val_score\n",
    "\n",
    "rbf_svc = svm.SVC(kernel='linear')\n",
    "#cv = ShuffleSplit(n_splits=5, test_size=0.3, random_state=0)\n",
    "#scores = cross_val_score(rbf_svc, training_data, training_labels, cv=cv)\n",
    "#print(\"%0.2f accuracy with a standard deviation of %0.2f\" % (scores.mean(), scores.std()))\n",
    "rbf_svc.fit(training_data, training_labels)\n",
    "rbf_svc.score(test_data, test_labels)"
   ]
  },
  {
   "cell_type": "markdown",
   "metadata": {},
   "source": [
    "## Random Forest Classifier "
   ]
  },
  {
   "cell_type": "code",
   "execution_count": 36,
   "metadata": {},
   "outputs": [],
   "source": [
    "from sklearn.ensemble import RandomForestClassifier \n",
    "from sklearn.model_selection import RandomizedSearchCV\n",
    "\n",
    "n_estimators = [int(x) for x in np.linspace(start = 10, stop = 200, num = 10)]\n",
    "# Number of features to consider at every split\n",
    "max_features = ['auto', 'sqrt']\n",
    "# Maximum number of levels in tree\n",
    "max_depth = [int(x) for x in np.linspace(10, 110, num = 11)]\n",
    "max_depth.append(None)\n",
    "# Minimum number of samples required to split a node\n",
    "min_samples_split = [2, 5, 10]\n",
    "# Minimum number of samples required at each leaf node\n",
    "min_samples_leaf = [1, 2, 4]\n",
    "# Method of selecting samples for training each tree\n",
    "bootstrap = [True, False]\n",
    "# Create the random grid\n",
    "random_grid = {'n_estimators': n_estimators,\n",
    "               'max_features': max_features,\n",
    "               'max_depth': max_depth,\n",
    "               'min_samples_split': min_samples_split,\n",
    "               'min_samples_leaf': min_samples_leaf,\n",
    "               'bootstrap': bootstrap}\n"
   ]
  },
  {
   "cell_type": "code",
   "execution_count": 37,
   "metadata": {},
   "outputs": [],
   "source": [
    "training_data, training_labels = prepareData(training_set)\n",
    "test_data, test_labels = prepareData(validation_set)"
   ]
  },
  {
   "cell_type": "code",
   "execution_count": 38,
   "metadata": {},
   "outputs": [
    {
     "data": {
      "text/plain": [
       "RandomizedSearchCV(cv=3,\n",
       "                   estimator=RandomForestClassifier(max_features=10,\n",
       "                                                    n_estimators=10),\n",
       "                   n_iter=100, n_jobs=-1,\n",
       "                   param_distributions={'bootstrap': [True, False],\n",
       "                                        'max_depth': [10, 20, 30, 40, 50, 60,\n",
       "                                                      70, 80, 90, 100, 110,\n",
       "                                                      None],\n",
       "                                        'max_features': ['auto', 'sqrt'],\n",
       "                                        'min_samples_leaf': [1, 2, 4],\n",
       "                                        'min_samples_split': [2, 5, 10],\n",
       "                                        'n_estimators': [10, 31, 52, 73, 94,\n",
       "                                                         115, 136, 157, 178,\n",
       "                                                         200]},\n",
       "                   random_state=42)"
      ]
     },
     "execution_count": 38,
     "metadata": {},
     "output_type": "execute_result"
    }
   ],
   "source": [
    "rfc = RandomForestClassifier(n_estimators=10, max_features=10)\n",
    "# Random search of parameters, using 3 fold cross validation, \n",
    "# search across 100 different combinations, and use all available cores\n",
    "rf_random = RandomizedSearchCV(estimator = rfc, param_distributions = random_grid, n_iter = 100, cv = 3, random_state=42, n_jobs = -1) #, verbose=2\n",
    "# Fit the random search model\n",
    "rf_random.fit(training_data, training_labels)"
   ]
  },
  {
   "cell_type": "code",
   "execution_count": 39,
   "metadata": {},
   "outputs": [
    {
     "name": "stdout",
     "output_type": "stream",
     "text": [
      "              precision    recall  f1-score   support\n",
      "\n",
      "         0.0       0.76      0.78      0.77       201\n",
      "         1.0       0.79      0.78      0.79       219\n",
      "\n",
      "    accuracy                           0.78       420\n",
      "   macro avg       0.78      0.78      0.78       420\n",
      "weighted avg       0.78      0.78      0.78       420\n",
      "\n"
     ]
    }
   ],
   "source": [
    "best_rfc = rf_random.best_estimator_\n",
    "best_rfc.fit(training_data, training_labels)\n",
    "pred_probs_rf = best_rfc.predict_proba(test_data)[:, 1]\n",
    "accuracy_score(test_labels, best_rfc.predict(test_data))\n",
    "print(classification_report(test_labels,  best_rfc.predict(test_data)))"
   ]
  },
  {
   "cell_type": "markdown",
   "metadata": {},
   "source": [
    "## CNN "
   ]
  },
  {
   "cell_type": "code",
   "execution_count": 16,
   "metadata": {},
   "outputs": [
    {
     "name": "stderr",
     "output_type": "stream",
     "text": [
      "2022-02-09 08:23:32.818641: W tensorflow/stream_executor/platform/default/dso_loader.cc:64] Could not load dynamic library 'libcudart.so.11.0'; dlerror: libcudart.so.11.0: cannot open shared object file: No such file or directory\n",
      "2022-02-09 08:23:32.818668: I tensorflow/stream_executor/cuda/cudart_stub.cc:29] Ignore above cudart dlerror if you do not have a GPU set up on your machine.\n"
     ]
    }
   ],
   "source": [
    "import tensorflow as tf\n",
    "from tensorflow import keras\n",
    "from tensorflow.keras import layers"
   ]
  },
  {
   "cell_type": "code",
   "execution_count": 12,
   "metadata": {},
   "outputs": [],
   "source": [
    "def prepareDataNN(df):\n",
    "    data = []\n",
    "    labels = []\n",
    "    patches_path = '/home/giorgia/Desktop/MAI/Thesis/images/patches/'\n",
    "    for i in range(len(df)):\n",
    "        patch_filename = os.path.join(patches_path, os.path.basename(df.loc[i, 'patch_filename']))\n",
    "        #im = np.amax(imread(patch_filename), axis=2) # maximum intensity projection\n",
    "        im = imread(patch_filename)\n",
    "        if im.shape == (256, 256, 3):\n",
    "            data.append(im)\n",
    "            labels.append(np.array(df.loc[i, 'plastic']))\n",
    "    return data, labels"
   ]
  },
  {
   "cell_type": "code",
   "execution_count": 45,
   "metadata": {},
   "outputs": [],
   "source": [
    "training_data, training_labels = prepareDataNN(training_set)\n",
    "test_data, test_labels = prepareDataNN(validation_set)\n",
    "#training_data += test_data\n",
    "#training_labels += test_labels"
   ]
  },
  {
   "cell_type": "code",
   "execution_count": 17,
   "metadata": {},
   "outputs": [
    {
     "name": "stderr",
     "output_type": "stream",
     "text": [
      "2022-02-09 08:23:37.281703: E tensorflow/stream_executor/cuda/cuda_driver.cc:271] failed call to cuInit: CUDA_ERROR_NO_DEVICE: no CUDA-capable device is detected\n",
      "2022-02-09 08:23:37.281758: I tensorflow/stream_executor/cuda/cuda_diagnostics.cc:156] kernel driver does not appear to be running on this host (giorgia-PX60-6QE): /proc/driver/nvidia/version does not exist\n",
      "2022-02-09 08:23:37.299203: I tensorflow/core/platform/cpu_feature_guard.cc:151] This TensorFlow binary is optimized with oneAPI Deep Neural Network Library (oneDNN) to use the following CPU instructions in performance-critical operations:  AVX2 FMA\n",
      "To enable them in other operations, rebuild TensorFlow with the appropriate compiler flags.\n"
     ]
    }
   ],
   "source": [
    "data_augmentation = keras.Sequential(\n",
    "    [ layers.RandomFlip(\"horizontal\"),\n",
    "      layers.RandomRotation(0.1),\n",
    "      #layers.RandomTranslation(0.8, 0.5),\n",
    "      #layers.RandomZoom(0.5),\n",
    "      layers.RandomContrast(0.7),\n",
    "    ]\n",
    ")"
   ]
  },
  {
   "cell_type": "code",
   "execution_count": 18,
   "metadata": {},
   "outputs": [
    {
     "name": "stdout",
     "output_type": "stream",
     "text": [
      "You must install pydot (`pip install pydot`) and install graphviz (see instructions at https://graphviz.gitlab.io/download/) for plot_model/model_to_dot to work.\n"
     ]
    }
   ],
   "source": [
    "def make_model(input_shape, num_classes):\n",
    "    inputs = keras.Input(shape = input_shape)\n",
    "    # Image augmentation block\n",
    "    x = data_augmentation(inputs)\n",
    "\n",
    "    # Architecture \n",
    "    x = layers.Rescaling(1.0 / 255)(x)\n",
    "    \n",
    "    x = layers.Conv2D(32, 3, strides=2, padding=\"same\")(x)\n",
    "    x = layers.BatchNormalization()(x)\n",
    "    x = layers.Activation(\"relu\")(x)\n",
    "    x = layers.Dropout(0.25)(x)\n",
    "\n",
    "    x = layers.Conv2D(64, 3, padding=\"same\")(x)\n",
    "    x = layers.BatchNormalization()(x)\n",
    "    x = layers.Activation(\"relu\")(x)\n",
    "    x = layers.Dropout(0.25)(x)\n",
    "\n",
    "    x = layers.MaxPooling2D(3, strides=2, padding=\"same\")(x)\n",
    "    x = layers.GlobalAveragePooling2D()(x)\n",
    "    x = layers.Dropout(0.25)(x)\n",
    "\n",
    "    outputs = layers.Dense(1, activation=\"sigmoid\")(x)\n",
    "\n",
    "    return keras.Model(inputs, outputs)\n",
    "\n",
    "image_size = (256, 256, 3) \n",
    "model = make_model(input_shape=image_size , num_classes=2)\n",
    "keras.utils.plot_model(model, show_shapes=True)"
   ]
  },
  {
   "cell_type": "code",
   "execution_count": 24,
   "metadata": {},
   "outputs": [
    {
     "name": "stdout",
     "output_type": "stream",
     "text": [
      "Epoch 1/200\n",
      "24/24 [==============================] - 32s 1s/step - loss: 0.4115 - accuracy: 0.8154 - val_loss: 0.0521 - val_accuracy: 1.0000\n",
      "Epoch 2/200\n",
      "24/24 [==============================] - 30s 1s/step - loss: 0.4243 - accuracy: 0.7984 - val_loss: 0.1347 - val_accuracy: 1.0000\n",
      "Epoch 3/200\n",
      "24/24 [==============================] - 29s 1s/step - loss: 0.4484 - accuracy: 0.7958 - val_loss: 0.2311 - val_accuracy: 0.9926\n",
      "Epoch 4/200\n",
      "24/24 [==============================] - 28s 1s/step - loss: 0.3900 - accuracy: 0.8141 - val_loss: 0.1716 - val_accuracy: 1.0000\n",
      "Epoch 5/200\n",
      "24/24 [==============================] - 32s 1s/step - loss: 0.3830 - accuracy: 0.8390 - val_loss: 0.3446 - val_accuracy: 0.9481\n",
      "Epoch 6/200\n",
      "24/24 [==============================] - 28s 1s/step - loss: 0.3771 - accuracy: 0.8442 - val_loss: 0.3493 - val_accuracy: 0.9481\n",
      "Epoch 7/200\n",
      "24/24 [==============================] - 27s 1s/step - loss: 0.3835 - accuracy: 0.8377 - val_loss: 0.3093 - val_accuracy: 0.9111\n",
      "Epoch 8/200\n",
      "24/24 [==============================] - 27s 1s/step - loss: 0.3912 - accuracy: 0.8233 - val_loss: 0.2183 - val_accuracy: 1.0000\n",
      "Epoch 9/200\n",
      "24/24 [==============================] - 28s 1s/step - loss: 0.3847 - accuracy: 0.8351 - val_loss: 0.2114 - val_accuracy: 0.9778\n",
      "Epoch 10/200\n",
      "24/24 [==============================] - 27s 1s/step - loss: 0.4100 - accuracy: 0.8272 - val_loss: 2.6513 - val_accuracy: 0.5778\n",
      "Epoch 11/200\n",
      "24/24 [==============================] - 27s 1s/step - loss: 0.4071 - accuracy: 0.8246 - val_loss: 0.9040 - val_accuracy: 0.6889\n",
      "Epoch 12/200\n",
      "24/24 [==============================] - 27s 1s/step - loss: 0.3958 - accuracy: 0.8181 - val_loss: 0.7846 - val_accuracy: 0.7037\n",
      "Epoch 13/200\n",
      "24/24 [==============================] - 27s 1s/step - loss: 0.3851 - accuracy: 0.8312 - val_loss: 0.7927 - val_accuracy: 0.6815\n",
      "Epoch 14/200\n",
      "24/24 [==============================] - 27s 1s/step - loss: 0.4083 - accuracy: 0.8220 - val_loss: 0.0660 - val_accuracy: 1.0000\n",
      "Epoch 15/200\n",
      "24/24 [==============================] - 27s 1s/step - loss: 0.4168 - accuracy: 0.8089 - val_loss: 0.2259 - val_accuracy: 0.9259\n",
      "Epoch 16/200\n",
      "24/24 [==============================] - 27s 1s/step - loss: 0.3878 - accuracy: 0.8168 - val_loss: 0.6221 - val_accuracy: 0.7704\n",
      "Epoch 17/200\n",
      "24/24 [==============================] - 27s 1s/step - loss: 0.3987 - accuracy: 0.8298 - val_loss: 0.3390 - val_accuracy: 0.9630\n",
      "Epoch 18/200\n",
      "24/24 [==============================] - 27s 1s/step - loss: 0.3967 - accuracy: 0.8168 - val_loss: 0.3427 - val_accuracy: 0.8963\n",
      "Epoch 19/200\n",
      "24/24 [==============================] - 27s 1s/step - loss: 0.4142 - accuracy: 0.8298 - val_loss: 0.2370 - val_accuracy: 0.9926\n",
      "Epoch 20/200\n",
      "24/24 [==============================] - 27s 1s/step - loss: 0.3978 - accuracy: 0.8089 - val_loss: 0.5927 - val_accuracy: 0.8000\n",
      "Epoch 21/200\n",
      "24/24 [==============================] - 27s 1s/step - loss: 0.4015 - accuracy: 0.8246 - val_loss: 0.3424 - val_accuracy: 0.9778\n",
      "Epoch 22/200\n",
      "24/24 [==============================] - 27s 1s/step - loss: 0.4001 - accuracy: 0.8220 - val_loss: 0.2476 - val_accuracy: 0.9926\n",
      "Epoch 23/200\n",
      "24/24 [==============================] - 27s 1s/step - loss: 0.3922 - accuracy: 0.8181 - val_loss: 0.3885 - val_accuracy: 0.9333\n",
      "Epoch 24/200\n",
      "24/24 [==============================] - 28s 1s/step - loss: 0.3991 - accuracy: 0.8128 - val_loss: 0.6775 - val_accuracy: 0.5778\n",
      "Epoch 25/200\n",
      "24/24 [==============================] - 27s 1s/step - loss: 0.4191 - accuracy: 0.8102 - val_loss: 0.9691 - val_accuracy: 0.5926\n",
      "Epoch 26/200\n",
      "24/24 [==============================] - 26s 1s/step - loss: 0.3959 - accuracy: 0.8128 - val_loss: 0.2316 - val_accuracy: 0.9630\n",
      "Epoch 27/200\n",
      "24/24 [==============================] - 26s 1s/step - loss: 0.3757 - accuracy: 0.8338 - val_loss: 0.2105 - val_accuracy: 0.9926\n",
      "Epoch 28/200\n",
      "24/24 [==============================] - 26s 1s/step - loss: 0.3989 - accuracy: 0.8154 - val_loss: 0.3562 - val_accuracy: 0.8889\n",
      "Epoch 29/200\n",
      "24/24 [==============================] - 26s 1s/step - loss: 0.4030 - accuracy: 0.8285 - val_loss: 0.3108 - val_accuracy: 0.9852\n",
      "Epoch 30/200\n",
      "24/24 [==============================] - 26s 1s/step - loss: 0.3909 - accuracy: 0.8233 - val_loss: 0.6720 - val_accuracy: 0.7556\n",
      "Epoch 31/200\n",
      "24/24 [==============================] - 26s 1s/step - loss: 0.4130 - accuracy: 0.8154 - val_loss: 0.3243 - val_accuracy: 0.9704\n",
      "Epoch 32/200\n",
      "24/24 [==============================] - 26s 1s/step - loss: 0.3833 - accuracy: 0.8338 - val_loss: 0.5123 - val_accuracy: 0.8296\n",
      "Epoch 33/200\n",
      "24/24 [==============================] - 26s 1s/step - loss: 0.3682 - accuracy: 0.8377 - val_loss: 0.2598 - val_accuracy: 0.9852\n",
      "Epoch 34/200\n",
      "24/24 [==============================] - 26s 1s/step - loss: 0.3624 - accuracy: 0.8429 - val_loss: 0.1501 - val_accuracy: 0.9926\n",
      "Epoch 35/200\n",
      "24/24 [==============================] - 26s 1s/step - loss: 0.3889 - accuracy: 0.8233 - val_loss: 0.6600 - val_accuracy: 0.7037\n",
      "Epoch 36/200\n",
      "24/24 [==============================] - 26s 1s/step - loss: 0.4030 - accuracy: 0.8272 - val_loss: 0.0863 - val_accuracy: 0.9926\n",
      "Epoch 37/200\n",
      "24/24 [==============================] - 26s 1s/step - loss: 0.4006 - accuracy: 0.8207 - val_loss: 0.0808 - val_accuracy: 0.9926\n",
      "Epoch 38/200\n",
      "24/24 [==============================] - 26s 1s/step - loss: 0.3951 - accuracy: 0.8325 - val_loss: 0.1747 - val_accuracy: 0.9778\n",
      "Epoch 39/200\n",
      "24/24 [==============================] - 26s 1s/step - loss: 0.3824 - accuracy: 0.8416 - val_loss: 0.2747 - val_accuracy: 0.9407\n",
      "Epoch 40/200\n",
      "24/24 [==============================] - 26s 1s/step - loss: 0.3768 - accuracy: 0.8338 - val_loss: 0.2559 - val_accuracy: 1.0000\n",
      "Epoch 41/200\n",
      "24/24 [==============================] - 26s 1s/step - loss: 0.3864 - accuracy: 0.8259 - val_loss: 0.3972 - val_accuracy: 0.8815\n",
      "Epoch 42/200\n",
      "24/24 [==============================] - 27s 1s/step - loss: 0.3659 - accuracy: 0.8298 - val_loss: 0.3004 - val_accuracy: 0.9481\n",
      "Epoch 43/200\n",
      "24/24 [==============================] - 28s 1s/step - loss: 0.3928 - accuracy: 0.8220 - val_loss: 0.4866 - val_accuracy: 0.7630\n",
      "Epoch 44/200\n",
      "24/24 [==============================] - 28s 1s/step - loss: 0.3749 - accuracy: 0.8246 - val_loss: 0.2533 - val_accuracy: 0.9852\n",
      "Epoch 45/200\n",
      "24/24 [==============================] - 31s 1s/step - loss: 0.3828 - accuracy: 0.8181 - val_loss: 5.3739 - val_accuracy: 0.4370\n",
      "Epoch 46/200\n",
      "24/24 [==============================] - 31s 1s/step - loss: 0.3784 - accuracy: 0.8298 - val_loss: 3.3911 - val_accuracy: 0.4741\n",
      "Epoch 47/200\n",
      "24/24 [==============================] - 31s 1s/step - loss: 0.4433 - accuracy: 0.8063 - val_loss: 0.3877 - val_accuracy: 0.8593\n",
      "Epoch 48/200\n",
      "24/24 [==============================] - 29s 1s/step - loss: 0.4065 - accuracy: 0.8246 - val_loss: 0.2662 - val_accuracy: 0.9407\n",
      "Epoch 49/200\n",
      "24/24 [==============================] - 29s 1s/step - loss: 0.4056 - accuracy: 0.8194 - val_loss: 0.2654 - val_accuracy: 1.0000\n",
      "Epoch 50/200\n",
      "24/24 [==============================] - 29s 1s/step - loss: 0.3541 - accuracy: 0.8482 - val_loss: 0.5301 - val_accuracy: 0.8148\n",
      "Epoch 51/200\n",
      "24/24 [==============================] - 30s 1s/step - loss: 0.3960 - accuracy: 0.8076 - val_loss: 0.3365 - val_accuracy: 0.9556\n",
      "Epoch 52/200\n",
      "24/24 [==============================] - 29s 1s/step - loss: 0.4083 - accuracy: 0.8181 - val_loss: 0.4958 - val_accuracy: 0.8148\n",
      "Epoch 53/200\n",
      "24/24 [==============================] - 29s 1s/step - loss: 0.4019 - accuracy: 0.8194 - val_loss: 0.3077 - val_accuracy: 0.9111\n",
      "Epoch 54/200\n",
      "24/24 [==============================] - 29s 1s/step - loss: 0.4140 - accuracy: 0.8168 - val_loss: 0.1778 - val_accuracy: 0.9926\n",
      "Epoch 55/200\n",
      "24/24 [==============================] - 29s 1s/step - loss: 0.4162 - accuracy: 0.8050 - val_loss: 101.5025 - val_accuracy: 0.1556\n",
      "Epoch 56/200\n",
      "24/24 [==============================] - 29s 1s/step - loss: 0.4165 - accuracy: 0.8194 - val_loss: 37.8049 - val_accuracy: 0.3630\n",
      "Epoch 57/200\n",
      "24/24 [==============================] - 29s 1s/step - loss: 0.3871 - accuracy: 0.8154 - val_loss: 4.6928 - val_accuracy: 0.5333\n",
      "Epoch 58/200\n",
      "24/24 [==============================] - 29s 1s/step - loss: 0.3809 - accuracy: 0.8416 - val_loss: 0.4676 - val_accuracy: 0.8370\n",
      "Epoch 59/200\n",
      "24/24 [==============================] - 29s 1s/step - loss: 0.3832 - accuracy: 0.8325 - val_loss: 0.3039 - val_accuracy: 0.9778\n",
      "Epoch 60/200\n",
      "24/24 [==============================] - 29s 1s/step - loss: 0.3772 - accuracy: 0.8298 - val_loss: 0.2919 - val_accuracy: 0.9407\n",
      "Epoch 61/200\n",
      "24/24 [==============================] - 29s 1s/step - loss: 0.3962 - accuracy: 0.8194 - val_loss: 0.2582 - val_accuracy: 0.8889\n",
      "Epoch 62/200\n",
      "24/24 [==============================] - 29s 1s/step - loss: 0.4186 - accuracy: 0.8076 - val_loss: 0.4233 - val_accuracy: 0.8519\n",
      "Epoch 63/200\n",
      "24/24 [==============================] - 29s 1s/step - loss: 0.4086 - accuracy: 0.8115 - val_loss: 0.4159 - val_accuracy: 0.9037\n",
      "Epoch 64/200\n",
      "24/24 [==============================] - 29s 1s/step - loss: 0.4111 - accuracy: 0.7997 - val_loss: 10.8330 - val_accuracy: 0.4370\n",
      "Epoch 65/200\n",
      "24/24 [==============================] - 29s 1s/step - loss: 0.4021 - accuracy: 0.8194 - val_loss: 0.7222 - val_accuracy: 0.6444\n",
      "Epoch 66/200\n",
      "24/24 [==============================] - 29s 1s/step - loss: 0.3649 - accuracy: 0.8364 - val_loss: 0.4564 - val_accuracy: 0.8741\n",
      "Epoch 67/200\n",
      "24/24 [==============================] - 29s 1s/step - loss: 0.3976 - accuracy: 0.8220 - val_loss: 0.2928 - val_accuracy: 0.9704\n",
      "Epoch 68/200\n",
      "24/24 [==============================] - 29s 1s/step - loss: 0.3999 - accuracy: 0.8076 - val_loss: 0.1429 - val_accuracy: 1.0000\n",
      "Epoch 69/200\n",
      "24/24 [==============================] - 29s 1s/step - loss: 0.4079 - accuracy: 0.8181 - val_loss: 0.2556 - val_accuracy: 0.9926\n",
      "Epoch 70/200\n",
      "24/24 [==============================] - 29s 1s/step - loss: 0.3869 - accuracy: 0.8325 - val_loss: 0.4658 - val_accuracy: 0.8741\n",
      "Epoch 71/200\n",
      "24/24 [==============================] - 30s 1s/step - loss: 0.4060 - accuracy: 0.8285 - val_loss: 0.1969 - val_accuracy: 0.9926\n",
      "Epoch 72/200\n",
      "24/24 [==============================] - 29s 1s/step - loss: 0.3789 - accuracy: 0.8246 - val_loss: 0.3202 - val_accuracy: 0.9852\n",
      "Epoch 73/200\n",
      "24/24 [==============================] - 28s 1s/step - loss: 0.3754 - accuracy: 0.8429 - val_loss: 0.3084 - val_accuracy: 0.9630\n",
      "Epoch 74/200\n",
      "24/24 [==============================] - 27s 1s/step - loss: 0.3840 - accuracy: 0.8325 - val_loss: 0.2093 - val_accuracy: 0.9926\n",
      "Epoch 75/200\n",
      "24/24 [==============================] - 31s 1s/step - loss: 0.3856 - accuracy: 0.8495 - val_loss: 0.1208 - val_accuracy: 0.9926\n",
      "Epoch 76/200\n",
      "24/24 [==============================] - 33s 1s/step - loss: 0.3773 - accuracy: 0.8325 - val_loss: 1.9165 - val_accuracy: 0.4000\n",
      "Epoch 77/200\n",
      "24/24 [==============================] - 31s 1s/step - loss: 0.3676 - accuracy: 0.8521 - val_loss: 0.3579 - val_accuracy: 0.8815\n",
      "Epoch 78/200\n",
      "24/24 [==============================] - 30s 1s/step - loss: 0.3715 - accuracy: 0.8469 - val_loss: 0.3382 - val_accuracy: 0.8963\n",
      "Epoch 79/200\n",
      "24/24 [==============================] - 29s 1s/step - loss: 0.3457 - accuracy: 0.8495 - val_loss: 0.3177 - val_accuracy: 0.9481\n",
      "Epoch 80/200\n",
      "24/24 [==============================] - 29s 1s/step - loss: 0.3624 - accuracy: 0.8338 - val_loss: 0.4457 - val_accuracy: 0.8519\n",
      "Epoch 81/200\n",
      "24/24 [==============================] - 29s 1s/step - loss: 0.4099 - accuracy: 0.8102 - val_loss: 0.7154 - val_accuracy: 0.7926\n",
      "Epoch 82/200\n",
      "24/24 [==============================] - 29s 1s/step - loss: 0.4179 - accuracy: 0.8154 - val_loss: 0.6189 - val_accuracy: 0.7481\n",
      "Epoch 83/200\n",
      "24/24 [==============================] - 29s 1s/step - loss: 0.3745 - accuracy: 0.8207 - val_loss: 0.4088 - val_accuracy: 0.8815\n",
      "Epoch 84/200\n",
      "24/24 [==============================] - 28s 1s/step - loss: 0.3832 - accuracy: 0.8390 - val_loss: 0.3344 - val_accuracy: 0.9407\n",
      "Epoch 85/200\n",
      "24/24 [==============================] - 26s 1s/step - loss: 0.3971 - accuracy: 0.8194 - val_loss: 0.2835 - val_accuracy: 0.9926\n",
      "Epoch 86/200\n",
      "24/24 [==============================] - 26s 1s/step - loss: 0.4060 - accuracy: 0.8102 - val_loss: 0.2392 - val_accuracy: 0.9926\n",
      "Epoch 87/200\n",
      "24/24 [==============================] - 26s 1s/step - loss: 0.3892 - accuracy: 0.8259 - val_loss: 0.2867 - val_accuracy: 0.9481\n",
      "Epoch 88/200\n",
      "24/24 [==============================] - 26s 1s/step - loss: 0.3937 - accuracy: 0.8181 - val_loss: 0.4673 - val_accuracy: 0.8296\n",
      "Epoch 89/200\n",
      "24/24 [==============================] - 26s 1s/step - loss: 0.3734 - accuracy: 0.8312 - val_loss: 0.4674 - val_accuracy: 0.7926\n",
      "Epoch 90/200\n",
      "24/24 [==============================] - 26s 1s/step - loss: 0.3814 - accuracy: 0.8429 - val_loss: 0.6702 - val_accuracy: 0.6370\n",
      "Epoch 91/200\n",
      "24/24 [==============================] - 26s 1s/step - loss: 0.3639 - accuracy: 0.8403 - val_loss: 0.3617 - val_accuracy: 0.9407\n",
      "Epoch 92/200\n",
      "24/24 [==============================] - 26s 1s/step - loss: 0.3777 - accuracy: 0.8338 - val_loss: 0.3969 - val_accuracy: 0.8741\n",
      "Epoch 93/200\n",
      "24/24 [==============================] - 26s 1s/step - loss: 0.3724 - accuracy: 0.8455 - val_loss: 0.3027 - val_accuracy: 0.9481\n",
      "Epoch 94/200\n",
      "24/24 [==============================] - 26s 1s/step - loss: 0.3733 - accuracy: 0.8351 - val_loss: 0.2377 - val_accuracy: 0.9556\n",
      "Epoch 95/200\n",
      "24/24 [==============================] - 26s 1s/step - loss: 0.3489 - accuracy: 0.8338 - val_loss: 0.1213 - val_accuracy: 1.0000\n",
      "Epoch 96/200\n",
      "24/24 [==============================] - 27s 1s/step - loss: 0.3688 - accuracy: 0.8390 - val_loss: 0.4518 - val_accuracy: 0.8519\n",
      "Epoch 97/200\n",
      "24/24 [==============================] - 26s 1s/step - loss: 0.3793 - accuracy: 0.8285 - val_loss: 14.3580 - val_accuracy: 0.0741\n",
      "Epoch 98/200\n",
      "24/24 [==============================] - 26s 1s/step - loss: 0.3831 - accuracy: 0.8115 - val_loss: 3.1568 - val_accuracy: 0.6074\n",
      "Epoch 99/200\n",
      "24/24 [==============================] - 26s 1s/step - loss: 0.3747 - accuracy: 0.8403 - val_loss: 1.1694 - val_accuracy: 0.7926\n",
      "Epoch 100/200\n",
      "24/24 [==============================] - 26s 1s/step - loss: 0.3650 - accuracy: 0.8390 - val_loss: 0.3548 - val_accuracy: 0.9111\n",
      "Epoch 101/200\n",
      "24/24 [==============================] - 26s 1s/step - loss: 0.3562 - accuracy: 0.8377 - val_loss: 0.1831 - val_accuracy: 0.9926\n",
      "Epoch 102/200\n",
      "24/24 [==============================] - 26s 1s/step - loss: 0.3908 - accuracy: 0.8338 - val_loss: 0.2639 - val_accuracy: 0.9333\n",
      "Epoch 103/200\n",
      "24/24 [==============================] - 26s 1s/step - loss: 0.3974 - accuracy: 0.8194 - val_loss: 5.9655 - val_accuracy: 0.3852\n",
      "Epoch 104/200\n",
      "24/24 [==============================] - 26s 1s/step - loss: 0.3773 - accuracy: 0.8377 - val_loss: 0.8978 - val_accuracy: 0.6000\n",
      "Epoch 105/200\n",
      "24/24 [==============================] - 26s 1s/step - loss: 0.3842 - accuracy: 0.8207 - val_loss: 0.8852 - val_accuracy: 0.6444\n",
      "Epoch 106/200\n",
      "24/24 [==============================] - 26s 1s/step - loss: 0.3911 - accuracy: 0.8233 - val_loss: 0.4550 - val_accuracy: 0.8519\n",
      "Epoch 107/200\n",
      "24/24 [==============================] - 26s 1s/step - loss: 0.3821 - accuracy: 0.8390 - val_loss: 0.1987 - val_accuracy: 0.9778\n",
      "Epoch 108/200\n",
      "24/24 [==============================] - 26s 1s/step - loss: 0.3893 - accuracy: 0.8325 - val_loss: 0.4612 - val_accuracy: 0.8444\n",
      "Epoch 109/200\n",
      "24/24 [==============================] - 26s 1s/step - loss: 0.3927 - accuracy: 0.8102 - val_loss: 0.2535 - val_accuracy: 0.9778\n",
      "Epoch 110/200\n",
      "24/24 [==============================] - 26s 1s/step - loss: 0.3636 - accuracy: 0.8442 - val_loss: 0.5502 - val_accuracy: 0.8074\n",
      "Epoch 111/200\n",
      "24/24 [==============================] - 26s 1s/step - loss: 0.3623 - accuracy: 0.8338 - val_loss: 0.5897 - val_accuracy: 0.6593\n",
      "Epoch 112/200\n",
      "24/24 [==============================] - 26s 1s/step - loss: 0.3538 - accuracy: 0.8416 - val_loss: 0.2506 - val_accuracy: 0.9556\n",
      "Epoch 113/200\n",
      "24/24 [==============================] - 26s 1s/step - loss: 0.3800 - accuracy: 0.8312 - val_loss: 0.5533 - val_accuracy: 0.7481\n",
      "Epoch 114/200\n",
      "24/24 [==============================] - 26s 1s/step - loss: 0.3927 - accuracy: 0.8141 - val_loss: 0.2280 - val_accuracy: 0.9926\n",
      "Epoch 115/200\n",
      "24/24 [==============================] - 26s 1s/step - loss: 0.3855 - accuracy: 0.8312 - val_loss: 0.3014 - val_accuracy: 0.9704\n",
      "Epoch 116/200\n",
      "24/24 [==============================] - 26s 1s/step - loss: 0.3943 - accuracy: 0.8207 - val_loss: 0.3140 - val_accuracy: 0.9630\n",
      "Epoch 117/200\n",
      "24/24 [==============================] - 26s 1s/step - loss: 0.3653 - accuracy: 0.8298 - val_loss: 0.6982 - val_accuracy: 0.7185\n",
      "Epoch 118/200\n",
      "24/24 [==============================] - 26s 1s/step - loss: 0.3954 - accuracy: 0.8312 - val_loss: 0.8203 - val_accuracy: 0.4963\n",
      "Epoch 119/200\n",
      "24/24 [==============================] - 26s 1s/step - loss: 0.3763 - accuracy: 0.8338 - val_loss: 0.2531 - val_accuracy: 0.9852\n",
      "Epoch 120/200\n",
      "24/24 [==============================] - 26s 1s/step - loss: 0.3771 - accuracy: 0.8259 - val_loss: 0.3366 - val_accuracy: 0.9407\n",
      "Epoch 121/200\n",
      "24/24 [==============================] - 26s 1s/step - loss: 0.3807 - accuracy: 0.8285 - val_loss: 0.2812 - val_accuracy: 0.9556\n",
      "Epoch 122/200\n",
      "24/24 [==============================] - 26s 1s/step - loss: 0.3420 - accuracy: 0.8429 - val_loss: 0.2835 - val_accuracy: 0.9704\n",
      "Epoch 123/200\n",
      "24/24 [==============================] - 26s 1s/step - loss: 0.3601 - accuracy: 0.8416 - val_loss: 0.4094 - val_accuracy: 0.8889\n",
      "Epoch 124/200\n",
      "24/24 [==============================] - 26s 1s/step - loss: 0.3620 - accuracy: 0.8338 - val_loss: 0.3827 - val_accuracy: 0.9111\n",
      "Epoch 125/200\n",
      "24/24 [==============================] - 26s 1s/step - loss: 0.3803 - accuracy: 0.8181 - val_loss: 0.2679 - val_accuracy: 0.9852\n",
      "Epoch 126/200\n",
      "24/24 [==============================] - 26s 1s/step - loss: 0.3725 - accuracy: 0.8338 - val_loss: 0.2972 - val_accuracy: 0.9704\n",
      "Epoch 127/200\n",
      "24/24 [==============================] - 26s 1s/step - loss: 0.3709 - accuracy: 0.8246 - val_loss: 0.4153 - val_accuracy: 0.8889\n",
      "Epoch 128/200\n",
      "24/24 [==============================] - 26s 1s/step - loss: 0.3798 - accuracy: 0.8246 - val_loss: 0.4446 - val_accuracy: 0.8444\n",
      "Epoch 129/200\n",
      "24/24 [==============================] - 26s 1s/step - loss: 0.3753 - accuracy: 0.8351 - val_loss: 0.4164 - val_accuracy: 0.8667\n",
      "Epoch 130/200\n",
      "24/24 [==============================] - 26s 1s/step - loss: 0.3540 - accuracy: 0.8285 - val_loss: 0.1747 - val_accuracy: 0.9926\n",
      "Epoch 131/200\n",
      "24/24 [==============================] - 26s 1s/step - loss: 0.3674 - accuracy: 0.8285 - val_loss: 0.2168 - val_accuracy: 0.9926\n",
      "Epoch 132/200\n",
      "24/24 [==============================] - 26s 1s/step - loss: 0.3909 - accuracy: 0.8377 - val_loss: 0.2567 - val_accuracy: 0.9185\n",
      "Epoch 133/200\n",
      "24/24 [==============================] - 26s 1s/step - loss: 0.3788 - accuracy: 0.8298 - val_loss: 1.0828 - val_accuracy: 0.4148\n",
      "Epoch 134/200\n",
      "24/24 [==============================] - 26s 1s/step - loss: 0.3634 - accuracy: 0.8377 - val_loss: 0.8099 - val_accuracy: 0.5037\n",
      "Epoch 135/200\n",
      "24/24 [==============================] - 26s 1s/step - loss: 0.3619 - accuracy: 0.8377 - val_loss: 0.5120 - val_accuracy: 0.7259\n",
      "Epoch 136/200\n",
      "24/24 [==============================] - 26s 1s/step - loss: 0.3538 - accuracy: 0.8455 - val_loss: 0.2335 - val_accuracy: 0.9259\n",
      "Epoch 137/200\n",
      "24/24 [==============================] - 26s 1s/step - loss: 0.3898 - accuracy: 0.8220 - val_loss: 0.3122 - val_accuracy: 0.9778\n",
      "Epoch 138/200\n",
      "24/24 [==============================] - 26s 1s/step - loss: 0.3587 - accuracy: 0.8429 - val_loss: 0.3936 - val_accuracy: 0.8889\n",
      "Epoch 139/200\n",
      "24/24 [==============================] - 26s 1s/step - loss: 0.3739 - accuracy: 0.8272 - val_loss: 0.2808 - val_accuracy: 0.9407\n",
      "Epoch 140/200\n",
      "24/24 [==============================] - 26s 1s/step - loss: 0.3811 - accuracy: 0.8207 - val_loss: 0.4702 - val_accuracy: 0.8222\n",
      "Epoch 141/200\n",
      "24/24 [==============================] - 26s 1s/step - loss: 0.4017 - accuracy: 0.8364 - val_loss: 0.3343 - val_accuracy: 0.9037\n",
      "Epoch 142/200\n",
      "24/24 [==============================] - 26s 1s/step - loss: 0.3563 - accuracy: 0.8455 - val_loss: 0.4099 - val_accuracy: 0.8444\n",
      "Epoch 143/200\n",
      "24/24 [==============================] - 26s 1s/step - loss: 0.3665 - accuracy: 0.8534 - val_loss: 0.2098 - val_accuracy: 0.9630\n",
      "Epoch 144/200\n",
      "24/24 [==============================] - 26s 1s/step - loss: 0.3741 - accuracy: 0.8377 - val_loss: 0.6575 - val_accuracy: 0.6593\n",
      "Epoch 145/200\n",
      "24/24 [==============================] - 26s 1s/step - loss: 0.3797 - accuracy: 0.8325 - val_loss: 0.6243 - val_accuracy: 0.7556\n",
      "Epoch 146/200\n",
      "24/24 [==============================] - 26s 1s/step - loss: 0.3655 - accuracy: 0.8325 - val_loss: 0.3139 - val_accuracy: 0.9259\n",
      "Epoch 147/200\n",
      "24/24 [==============================] - 26s 1s/step - loss: 0.3534 - accuracy: 0.8403 - val_loss: 0.2873 - val_accuracy: 0.9481\n",
      "Epoch 148/200\n",
      "24/24 [==============================] - 26s 1s/step - loss: 0.3750 - accuracy: 0.8403 - val_loss: 0.3361 - val_accuracy: 0.8741\n",
      "Epoch 149/200\n",
      "24/24 [==============================] - 26s 1s/step - loss: 0.3762 - accuracy: 0.8390 - val_loss: 0.2188 - val_accuracy: 0.9704\n",
      "Epoch 150/200\n",
      "24/24 [==============================] - 26s 1s/step - loss: 0.3669 - accuracy: 0.8482 - val_loss: 0.7013 - val_accuracy: 0.7259\n",
      "Epoch 151/200\n",
      "24/24 [==============================] - 26s 1s/step - loss: 0.3483 - accuracy: 0.8508 - val_loss: 0.3195 - val_accuracy: 0.9778\n",
      "Epoch 152/200\n",
      "24/24 [==============================] - 26s 1s/step - loss: 0.3663 - accuracy: 0.8377 - val_loss: 0.2880 - val_accuracy: 0.9926\n",
      "Epoch 153/200\n",
      "24/24 [==============================] - 26s 1s/step - loss: 0.3624 - accuracy: 0.8259 - val_loss: 0.2580 - val_accuracy: 0.9926\n",
      "Epoch 154/200\n",
      "24/24 [==============================] - 26s 1s/step - loss: 0.3653 - accuracy: 0.8469 - val_loss: 0.1354 - val_accuracy: 0.9926\n",
      "Epoch 155/200\n",
      "24/24 [==============================] - 26s 1s/step - loss: 0.3894 - accuracy: 0.8285 - val_loss: 0.2009 - val_accuracy: 0.9852\n",
      "Epoch 156/200\n",
      "24/24 [==============================] - 26s 1s/step - loss: 0.3691 - accuracy: 0.8364 - val_loss: 0.2293 - val_accuracy: 0.9852\n",
      "Epoch 157/200\n",
      "24/24 [==============================] - 26s 1s/step - loss: 0.3741 - accuracy: 0.8338 - val_loss: 0.1325 - val_accuracy: 1.0000\n",
      "Epoch 158/200\n",
      "24/24 [==============================] - 26s 1s/step - loss: 0.3532 - accuracy: 0.8469 - val_loss: 0.2573 - val_accuracy: 0.9852\n",
      "Epoch 159/200\n",
      "24/24 [==============================] - 26s 1s/step - loss: 0.3745 - accuracy: 0.8403 - val_loss: 0.2071 - val_accuracy: 0.9481\n",
      "Epoch 160/200\n",
      "24/24 [==============================] - 26s 1s/step - loss: 0.3706 - accuracy: 0.8338 - val_loss: 0.2194 - val_accuracy: 0.9778\n",
      "Epoch 161/200\n",
      "24/24 [==============================] - 26s 1s/step - loss: 0.3502 - accuracy: 0.8547 - val_loss: 0.1451 - val_accuracy: 0.9926\n",
      "Epoch 162/200\n",
      "24/24 [==============================] - 26s 1s/step - loss: 0.3520 - accuracy: 0.8455 - val_loss: 0.3209 - val_accuracy: 0.9407\n",
      "Epoch 163/200\n",
      "24/24 [==============================] - 26s 1s/step - loss: 0.3677 - accuracy: 0.8455 - val_loss: 6.2816 - val_accuracy: 0.6593\n",
      "Epoch 164/200\n",
      "24/24 [==============================] - 26s 1s/step - loss: 0.3616 - accuracy: 0.8442 - val_loss: 15.6777 - val_accuracy: 0.3852\n",
      "Epoch 165/200\n",
      "24/24 [==============================] - 26s 1s/step - loss: 0.3701 - accuracy: 0.8351 - val_loss: 1.2092 - val_accuracy: 0.6222\n",
      "Epoch 166/200\n",
      "24/24 [==============================] - 26s 1s/step - loss: 0.3873 - accuracy: 0.8285 - val_loss: 0.1801 - val_accuracy: 0.9778\n",
      "Epoch 167/200\n",
      "24/24 [==============================] - 26s 1s/step - loss: 0.3578 - accuracy: 0.8521 - val_loss: 2.1557 - val_accuracy: 0.5704\n",
      "Epoch 168/200\n",
      "24/24 [==============================] - 26s 1s/step - loss: 0.3823 - accuracy: 0.8338 - val_loss: 0.6452 - val_accuracy: 0.7185\n",
      "Epoch 169/200\n",
      "24/24 [==============================] - 26s 1s/step - loss: 0.3822 - accuracy: 0.8102 - val_loss: 0.2310 - val_accuracy: 0.9630\n",
      "Epoch 170/200\n",
      "24/24 [==============================] - 26s 1s/step - loss: 0.4057 - accuracy: 0.8141 - val_loss: 0.3568 - val_accuracy: 0.9185\n",
      "Epoch 171/200\n",
      "24/24 [==============================] - 26s 1s/step - loss: 0.3748 - accuracy: 0.8351 - val_loss: 0.6313 - val_accuracy: 0.7333\n",
      "Epoch 172/200\n",
      "24/24 [==============================] - 26s 1s/step - loss: 0.3670 - accuracy: 0.8220 - val_loss: 0.1226 - val_accuracy: 0.9926\n",
      "Epoch 173/200\n",
      "24/24 [==============================] - 26s 1s/step - loss: 0.3636 - accuracy: 0.8469 - val_loss: 0.2334 - val_accuracy: 0.9630\n",
      "Epoch 174/200\n",
      "24/24 [==============================] - 26s 1s/step - loss: 0.3780 - accuracy: 0.8390 - val_loss: 0.5860 - val_accuracy: 0.7778\n",
      "Epoch 175/200\n",
      "24/24 [==============================] - 26s 1s/step - loss: 0.3748 - accuracy: 0.8220 - val_loss: 0.2374 - val_accuracy: 0.9630\n",
      "Epoch 176/200\n",
      "24/24 [==============================] - 26s 1s/step - loss: 0.3658 - accuracy: 0.8246 - val_loss: 0.1711 - val_accuracy: 0.9778\n",
      "Epoch 177/200\n",
      "24/24 [==============================] - 26s 1s/step - loss: 0.3570 - accuracy: 0.8455 - val_loss: 0.2785 - val_accuracy: 0.9630\n",
      "Epoch 178/200\n",
      "24/24 [==============================] - 26s 1s/step - loss: 0.3865 - accuracy: 0.8181 - val_loss: 0.3405 - val_accuracy: 0.9333\n",
      "Epoch 179/200\n",
      "24/24 [==============================] - 26s 1s/step - loss: 0.3695 - accuracy: 0.8390 - val_loss: 1.0645 - val_accuracy: 0.7185\n",
      "Epoch 180/200\n",
      "24/24 [==============================] - 26s 1s/step - loss: 0.3483 - accuracy: 0.8586 - val_loss: 0.1618 - val_accuracy: 0.9926\n",
      "Epoch 181/200\n",
      "24/24 [==============================] - 26s 1s/step - loss: 0.3633 - accuracy: 0.8246 - val_loss: 0.4122 - val_accuracy: 0.8963\n",
      "Epoch 182/200\n",
      "24/24 [==============================] - 26s 1s/step - loss: 0.3729 - accuracy: 0.8403 - val_loss: 0.5240 - val_accuracy: 0.6815\n",
      "Epoch 183/200\n",
      "24/24 [==============================] - 26s 1s/step - loss: 0.3482 - accuracy: 0.8495 - val_loss: 0.4750 - val_accuracy: 0.8519\n",
      "Epoch 184/200\n",
      "24/24 [==============================] - 26s 1s/step - loss: 0.3683 - accuracy: 0.8298 - val_loss: 0.4656 - val_accuracy: 0.8519\n",
      "Epoch 185/200\n",
      "24/24 [==============================] - 26s 1s/step - loss: 0.4105 - accuracy: 0.8285 - val_loss: 0.2349 - val_accuracy: 0.9778\n",
      "Epoch 186/200\n",
      "24/24 [==============================] - 26s 1s/step - loss: 0.3735 - accuracy: 0.8377 - val_loss: 0.2703 - val_accuracy: 0.9926\n",
      "Epoch 187/200\n",
      "24/24 [==============================] - 26s 1s/step - loss: 0.3801 - accuracy: 0.8364 - val_loss: 0.1007 - val_accuracy: 0.9926\n",
      "Epoch 188/200\n",
      "24/24 [==============================] - 26s 1s/step - loss: 0.3713 - accuracy: 0.8272 - val_loss: 0.2800 - val_accuracy: 0.9556\n",
      "Epoch 189/200\n",
      "24/24 [==============================] - 26s 1s/step - loss: 0.3672 - accuracy: 0.8429 - val_loss: 0.2469 - val_accuracy: 1.0000\n",
      "Epoch 190/200\n",
      "24/24 [==============================] - 26s 1s/step - loss: 0.3289 - accuracy: 0.8495 - val_loss: 0.2135 - val_accuracy: 0.9926\n",
      "Epoch 191/200\n",
      "24/24 [==============================] - 26s 1s/step - loss: 0.3578 - accuracy: 0.8482 - val_loss: 0.3305 - val_accuracy: 0.9037\n",
      "Epoch 192/200\n",
      "24/24 [==============================] - 26s 1s/step - loss: 0.3749 - accuracy: 0.8246 - val_loss: 0.1923 - val_accuracy: 0.9630\n",
      "Epoch 193/200\n",
      "24/24 [==============================] - 26s 1s/step - loss: 0.3630 - accuracy: 0.8455 - val_loss: 0.3933 - val_accuracy: 0.8889\n",
      "Epoch 194/200\n",
      "24/24 [==============================] - 26s 1s/step - loss: 0.3865 - accuracy: 0.8246 - val_loss: 0.1532 - val_accuracy: 0.9778\n",
      "Epoch 195/200\n",
      "24/24 [==============================] - 26s 1s/step - loss: 0.3758 - accuracy: 0.8259 - val_loss: 0.1488 - val_accuracy: 0.9926\n",
      "Epoch 196/200\n",
      "24/24 [==============================] - 26s 1s/step - loss: 0.3641 - accuracy: 0.8298 - val_loss: 0.2986 - val_accuracy: 0.9481\n",
      "Epoch 197/200\n",
      "24/24 [==============================] - 26s 1s/step - loss: 0.3549 - accuracy: 0.8403 - val_loss: 0.2335 - val_accuracy: 0.9704\n",
      "Epoch 198/200\n",
      "24/24 [==============================] - 26s 1s/step - loss: 0.3406 - accuracy: 0.8442 - val_loss: 0.2589 - val_accuracy: 0.9556\n",
      "Epoch 199/200\n",
      "24/24 [==============================] - 26s 1s/step - loss: 0.3505 - accuracy: 0.8364 - val_loss: 0.3070 - val_accuracy: 0.9852\n",
      "Epoch 200/200\n",
      "24/24 [==============================] - 26s 1s/step - loss: 0.3592 - accuracy: 0.8442 - val_loss: 0.2841 - val_accuracy: 0.9630\n"
     ]
    },
    {
     "data": {
      "text/plain": [
       "<keras.callbacks.History at 0x7fce602908e0>"
      ]
     },
     "execution_count": 24,
     "metadata": {},
     "output_type": "execute_result"
    }
   ],
   "source": [
    "epochs = 200\n",
    "\n",
    "callbacks = [\n",
    "    keras.callbacks.ModelCheckpoint(\"ckpts/save_at_{epoch}.h5\", save_best_only=True),\n",
    "]\n",
    "tensorboard = keras.callbacks.TensorBoard(log_dir='./logs',\n",
    "                 histogram_freq=1, \n",
    "                 write_graph=True, \n",
    "                 write_images=False)\n",
    "# exponential decay learning rate \n",
    "lr_schedule = keras.optimizers.schedules.ExponentialDecay(\n",
    "    initial_learning_rate=1e-2,\n",
    "    decay_steps=10000,\n",
    "    decay_rate=0.9)\n",
    "\n",
    "model.compile(\n",
    "    optimizer=keras.optimizers.Adam(lr_schedule),\n",
    "    loss=\"binary_crossentropy\",\n",
    "    metrics=[\"accuracy\"],\n",
    ")\n",
    "model.fit(\n",
    "    x=np.array(training_data), y=np.array(training_labels) , epochs=epochs, callbacks=[callbacks, tensorboard], shuffle=True, batch_size=32, validation_split=.15\n",
    ")\n",
    "\n"
   ]
  },
  {
   "cell_type": "code",
   "execution_count": 19,
   "metadata": {},
   "outputs": [],
   "source": [
    "model.load_weights(\"ckpts/save_at_391.h5\")\n",
    "model.compile(\n",
    "    optimizer=keras.optimizers.Adam(1e-3),\n",
    "    loss=\"binary_crossentropy\",\n",
    "    metrics=[\"accuracy\"],\n",
    ")\n"
   ]
  },
  {
   "cell_type": "code",
   "execution_count": 20,
   "metadata": {},
   "outputs": [],
   "source": [
    "import itertools\n",
    "#loss, acc = model.evaluate(np.array(test_data), np.array(test_labels), verbose=2)\n",
    "\n",
    "predictions = model.predict(np.array(test_data))\n",
    "df_pred = pd.DataFrame(data={\"pred_probability\":list(itertools.chain.from_iterable(predictions)),\"target\":test_labels})\n",
    "pred_class = []\n",
    "for i in range(len(df_pred)):\n",
    "    if df_pred.loc[i,\"pred_probability\"] >= .5:\n",
    "        pred_class.append(1)\n",
    "    else:\n",
    "        pred_class.append(0)\n",
    "df_pred[\"pred_class\"] = pred_class\n"
   ]
  },
  {
   "cell_type": "code",
   "execution_count": 21,
   "metadata": {},
   "outputs": [
    {
     "name": "stdout",
     "output_type": "stream",
     "text": [
      "              precision    recall  f1-score   support\n",
      "\n",
      "         0.0       0.70      0.92      0.79       201\n",
      "         1.0       0.90      0.63      0.74       219\n",
      "\n",
      "    accuracy                           0.77       420\n",
      "   macro avg       0.80      0.78      0.77       420\n",
      "weighted avg       0.80      0.77      0.76       420\n",
      "\n"
     ]
    }
   ],
   "source": [
    "df_misclassified = pd.DataFrame()\n",
    "print(classification_report(test_labels, pred_class))"
   ]
  },
  {
   "cell_type": "code",
   "execution_count": 28,
   "metadata": {},
   "outputs": [
    {
     "name": "stderr",
     "output_type": "stream",
     "text": [
      "2022-02-09 08:31:20.240216: W tensorflow/core/framework/cpu_allocator_impl.cc:82] Allocation of 1916796928 exceeds 10% of free system memory.\n",
      "2022-02-09 08:31:21.302249: W tensorflow/core/framework/cpu_allocator_impl.cc:82] Allocation of 1916796928 exceeds 10% of free system memory.\n",
      "2022-02-09 08:31:21.730004: W tensorflow/core/framework/cpu_allocator_impl.cc:82] Allocation of 1916796928 exceeds 10% of free system memory.\n",
      "2022-02-09 08:31:22.190075: W tensorflow/core/framework/cpu_allocator_impl.cc:82] Allocation of 1916796928 exceeds 10% of free system memory.\n",
      "2022-02-09 08:31:22.511232: W tensorflow/core/framework/cpu_allocator_impl.cc:82] Allocation of 3833593856 exceeds 10% of free system memory.\n"
     ]
    }
   ],
   "source": [
    "final_layer = \"global_average_pooling2d\"\n",
    "extractor = keras.Model(inputs=model.input,\n",
    "                        outputs=model.get_layer(final_layer).output)\n",
    "features = extractor(np.array(training_data))"
   ]
  },
  {
   "cell_type": "code",
   "execution_count": 46,
   "metadata": {},
   "outputs": [
    {
     "data": {
      "text/plain": [
       "RandomForestClassifier(bootstrap=False, max_depth=110, max_features='sqrt',\n",
       "                       min_samples_leaf=2, n_estimators=52)"
      ]
     },
     "execution_count": 46,
     "metadata": {},
     "output_type": "execute_result"
    }
   ],
   "source": [
    "rfcnn = RandomForestClassifier(n_estimators=10, max_features=10)\n",
    "# Random search of parameters, using 3 fold cross validation, \n",
    "# search across 100 different combinations, and use all available cores\n",
    "rfcnn_random = RandomizedSearchCV(estimator = rfcnn, param_distributions = random_grid, n_iter = 100, cv = 3, random_state=42, n_jobs = -1) #verbose=2, \n",
    "# Fit the random search model\n",
    "rfcnn_random.fit(np.array(features), training_labels)\n",
    "\n",
    "best_rfcnn = rfcnn_random.best_estimator_\n",
    "best_rfcnn.fit(np.array(features), training_labels)"
   ]
  },
  {
   "cell_type": "code",
   "execution_count": 47,
   "metadata": {},
   "outputs": [
    {
     "name": "stdout",
     "output_type": "stream",
     "text": [
      "              precision    recall  f1-score   support\n",
      "\n",
      "         0.0       0.84      0.77      0.80       201\n",
      "         1.0       0.80      0.86      0.83       219\n",
      "\n",
      "    accuracy                           0.82       420\n",
      "   macro avg       0.82      0.81      0.82       420\n",
      "weighted avg       0.82      0.82      0.82       420\n",
      "\n"
     ]
    }
   ],
   "source": [
    "features_test = np.array(extractor(np.array(test_data)))\n",
    "pred_probs_rfcnn = best_rfcnn.predict_proba(features_test)[:, 1]\n",
    "accuracy_score(test_labels, best_rfcnn.predict(features_test))\n",
    "print(classification_report(test_labels,  best_rfcnn.predict(features_test)))"
   ]
  },
  {
   "cell_type": "code",
   "execution_count": 48,
   "metadata": {},
   "outputs": [
    {
     "name": "stderr",
     "output_type": "stream",
     "text": [
      "/home/giorgia/Desktop/MAI/Thesis/litter_env/lib/python3.8/site-packages/seaborn/_decorators.py:36: FutureWarning: Pass the following variables as keyword args: x, y. From version 0.12, the only valid positional argument will be `data`, and passing other arguments without an explicit keyword will result in an error or misinterpretation.\n",
      "  warnings.warn(\n",
      "/home/giorgia/Desktop/MAI/Thesis/litter_env/lib/python3.8/site-packages/seaborn/_decorators.py:36: FutureWarning: Pass the following variables as keyword args: x, y. From version 0.12, the only valid positional argument will be `data`, and passing other arguments without an explicit keyword will result in an error or misinterpretation.\n",
      "  warnings.warn(\n",
      "/home/giorgia/Desktop/MAI/Thesis/litter_env/lib/python3.8/site-packages/seaborn/_decorators.py:36: FutureWarning: Pass the following variables as keyword args: x, y. From version 0.12, the only valid positional argument will be `data`, and passing other arguments without an explicit keyword will result in an error or misinterpretation.\n",
      "  warnings.warn(\n"
     ]
    },
    {
     "data": {
      "text/plain": [
       "Text(0.5, 0, 'Recall')"
      ]
     },
     "execution_count": 48,
     "metadata": {},
     "output_type": "execute_result"
    },
    {
     "data": {
      "image/png": "[encoded data removed]",
      "text/plain": [
       "<Figure size 720x720 with 1 Axes>"
      ]
     },
     "metadata": {},
     "output_type": "display_data"
    }
   ],
   "source": [
    "import matplotlib.pyplot as plt \n",
    "from sklearn.metrics import roc_curve\n",
    "\n",
    "import seaborn as sns \n",
    "\n",
    "plt.figure(figsize=(10,10))\n",
    "plt.title(\"Precision-Recall\", fontsize=20)\n",
    "sns.set_style(\"darkgrid\")\n",
    "# CNN\n",
    "fpr, tpr, thresholds = roc_curve(test_labels, predictions)\n",
    "sns.lineplot(fpr, tpr, label=\"CNN\")\n",
    "\n",
    "sns.set_style(\"darkgrid\")\n",
    "# RF\n",
    "fpr, tpr, thresholds = roc_curve(test_labels, pred_probs_rf)\n",
    "sns.lineplot(fpr, tpr, label=\"Random Forest\")\n",
    "plt.legend()\n",
    "\n",
    "sns.set_style(\"darkgrid\")\n",
    "# CNN + RF\n",
    "fpr, tpr, thresholds = roc_curve(test_labels, pred_probs_rfcnn)\n",
    "sns.lineplot(fpr, tpr, label=\"CNN  + RF\")\n",
    "plt.legend()\n",
    "\n",
    "\n",
    "plt.ylabel(\"Precision\", fontsize=15)\n",
    "plt.xlabel(\"Recall\", fontsize=15)"
   ]
  },
  {
   "cell_type": "code",
   "execution_count": null,
   "metadata": {},
   "outputs": [],
   "source": []
  }
 ],
 "metadata": {
  "interpreter": {
   "hash": "a626b004e18be3dea50627db104c07a4a2d0cf9d973364797b6bab100a1927a3"
  },
  "kernelspec": {
   "display_name": "Python 3.8.10 64-bit ('litter_env': venv)",
   "language": "python",
   "name": "python3"
  },
  "language_info": {
   "codemirror_mode": {
    "name": "ipython",
    "version": 3
   },
   "file_extension": ".py",
   "mimetype": "text/x-python",
   "name": "python",
   "nbconvert_exporter": "python",
   "pygments_lexer": "ipython3",
   "version": "3.8.10"
  },
  "orig_nbformat": 4
 },
 "nbformat": 4,
 "nbformat_minor": 2
}
