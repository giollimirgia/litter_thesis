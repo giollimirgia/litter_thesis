{
 "cells": [
  {
   "cell_type": "code",
   "execution_count": 1,
   "metadata": {},
   "outputs": [],
   "source": [
    "import pandas as pd \n",
    "import numpy as np\n",
    "from skimage.io import imread, imsave\n",
    "import matplotlib.pyplot as plt\n",
    "import os"
   ]
  },
  {
   "cell_type": "code",
   "execution_count": 6,
   "metadata": {},
   "outputs": [],
   "source": [
    "df_lab = pd.read_csv('/home/giorgia/Desktop/MAI/Thesis/all_labeled.csv', index_col=0)"
   ]
  },
  {
   "cell_type": "code",
   "execution_count": 9,
   "metadata": {},
   "outputs": [],
   "source": [
    "X, Y , imfilename = [], [], []\n",
    "\n",
    "for i in range(len(df_lab)):\n",
    "    f = os.path.basename(df_lab.loc[i,'patch_filename']).replace(\".JPG\", \"\").split('_')\n",
    "    imfilename.append('_'.join(f[0:2]) + \".JPG\")\n",
    "    X.append(int(f[2].replace(\"X\", \"\")))\n",
    "    Y.append(int(f[3].replace(\"Y\", \"\")))\n",
    "df_lab['X'] = X\n",
    "df_lab['Y'] = Y\n",
    "df_lab['imfilename'] = imfilename\n",
    "df_lab = df_lab.sort_values(by='imfilename').reset_index(drop=True)"
   ]
  },
  {
   "cell_type": "code",
   "execution_count": 10,
   "metadata": {},
   "outputs": [],
   "source": [
    "black_patch=np.zeros([256, 256, 3])\n",
    "imgs = np.unique(df_lab['imfilename'])\n",
    "outpath = '/home/giorgia/Desktop/MAI/Thesis/images/predicted_blends/'\n",
    "for imf in imgs:\n",
    "    df = df_lab[df_lab['imfilename']==imf].reset_index(drop=True)\n",
    "    im = imread(os.path.join(os.path.dirname(df.loc[0, 'patch_filename']), imf))\n",
    "    for i in range(len(df)):\n",
    "        if df.loc[i, 'plastic']==0:\n",
    "            x, y = df.loc[i,'X'], df.loc[i,'Y']\n",
    "            im[y: y+256 , x: x+256] = im[y: y+256 , x: x+256] * 0.5 + black_patch * 0.5\n",
    "    imsave(os.path.join(outpath, 'predictions_' + imf), im)"
   ]
  },
  {
   "cell_type": "code",
   "execution_count": 12,
   "metadata": {},
   "outputs": [
    {
     "name": "stdout",
     "output_type": "stream",
     "text": [
      "DJI_0838.JPG DJI_0838_X2816_Y1792.JPG\n",
      "DJI_0838.JPG DJI_0838_X3072_Y1792.JPG\n",
      "DJI_0838.JPG DJI_0838_X3328_Y1792.JPG\n",
      "DJI_0838.JPG DJI_0838_X3584_Y1792.JPG\n",
      "DJI_0838.JPG DJI_0838_X3840_Y1792.JPG\n",
      "DJI_0838.JPG DJI_0838_X4096_Y1792.JPG\n",
      "DJI_0838.JPG DJI_0838_X4352_Y1792.JPG\n",
      "DJI_0838.JPG DJI_0838_X4608_Y1792.JPG\n",
      "DJI_0838.JPG DJI_0838_X4864_Y1792.JPG\n",
      "DJI_0838.JPG DJI_0838_X5120_Y1792.JPG\n"
     ]
    }
   ],
   "source": [
    "df = pd.read_csv('/home/giorgia/Desktop/MAI/Thesis/patch_info.csv')\n",
    "for i in range(10):\n",
    "    print(os.path.basename(df.loc[i, 'imfilename']), os.path.basename(df.loc[i, 'patch_filename']))"
   ]
  },
  {
   "cell_type": "code",
   "execution_count": 29,
   "metadata": {},
   "outputs": [],
   "source": [
    "infoold = pd.read_csv('/home/giorgia/Desktop/MAI/Thesis/patch_info.csv', index_col=0)\n",
    "infonew = pd.read_csv('/home/giorgia/Desktop/MAI/Thesis/patch_info_new.csv', index_col=0)"
   ]
  },
  {
   "cell_type": "code",
   "execution_count": 30,
   "metadata": {},
   "outputs": [
    {
     "data": {
      "text/plain": [
       "(988, 673)"
      ]
     },
     "execution_count": 30,
     "metadata": {},
     "output_type": "execute_result"
    }
   ],
   "source": [
    "len(infonew[infonew['plastic']==0]), len(infonew[infonew['plastic']==1])\n"
   ]
  },
  {
   "cell_type": "code",
   "execution_count": 25,
   "metadata": {},
   "outputs": [
    {
     "data": {
      "text/plain": [
       "(7755, 7920)"
      ]
     },
     "execution_count": 25,
     "metadata": {},
     "output_type": "execute_result"
    }
   ],
   "source": [
    "len(infoold.index), len(infonew.index)"
   ]
  },
  {
   "cell_type": "code",
   "execution_count": null,
   "metadata": {},
   "outputs": [],
   "source": [
    "import matplotlib.pyplot as plt \n",
    "\n",
    "\n",
    "imread(os.path.join('/home/giorgia/Desktop/MAI/Thesis/images/patches', os.path.basename(row['patch_filename'])))"
   ]
  }
 ],
 "metadata": {
  "interpreter": {
   "hash": "a626b004e18be3dea50627db104c07a4a2d0cf9d973364797b6bab100a1927a3"
  },
  "kernelspec": {
   "display_name": "Python 3.8.10 64-bit ('litter_env': venv)",
   "language": "python",
   "name": "python3"
  },
  "language_info": {
   "codemirror_mode": {
    "name": "ipython",
    "version": 3
   },
   "file_extension": ".py",
   "mimetype": "text/x-python",
   "name": "python",
   "nbconvert_exporter": "python",
   "pygments_lexer": "ipython3",
   "version": "3.8.10"
  },
  "orig_nbformat": 4
 },
 "nbformat": 4,
 "nbformat_minor": 2
}
