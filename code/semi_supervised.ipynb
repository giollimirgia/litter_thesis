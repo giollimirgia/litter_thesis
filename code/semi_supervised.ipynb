{
 "cells": [
  {
   "cell_type": "code",
   "execution_count": 1,
   "metadata": {},
   "outputs": [],
   "source": [
    "import numpy as np\n",
    "from sklearn.semi_supervised import *\n",
    "import os\n",
    "import pandas as pd\n",
    "from skimage.io import imread\n",
    "from sklearn.metrics import classification_report\n",
    "import tensorflow as tf\n",
    "from tensorflow import keras\n",
    "from tensorflow.keras import layers\n",
    "from tensorflow.keras.applications import MobileNetV2\n",
    "import itertools\n"
   ]
  },
  {
   "cell_type": "code",
   "execution_count": 2,
   "metadata": {},
   "outputs": [],
   "source": [
    "def prepareDataNN(df):\n",
    "    data = []\n",
    "    labels = []\n",
    "    df_filtered = pd.DataFrame(columns=[\"patch_filename\", \"plastic\"])\n",
    "    patches_path = '/home/giorgia/Desktop/MAI/Thesis/images/patches/'\n",
    "    for i in range(len(df)):\n",
    "        patch_filename = os.path.join(patches_path, os.path.basename(df.loc[i, 'patch_filename']))\n",
    "        im = imread(patch_filename)\n",
    "        if im.shape == (256, 256, 3):\n",
    "            data.append(im)\n",
    "            labels.append(np.array(df.loc[i, 'plastic']))\n",
    "            df_filtered = df_filtered.append(pd.Series(data={\"patch_filename\":df.loc[i, 'patch_filename'], \"plastic\":df.loc[i, 'plastic']}), ignore_index=True)\n",
    "    return data, labels, df_filtered"
   ]
  },
  {
   "cell_type": "code",
   "execution_count": 3,
   "metadata": {},
   "outputs": [],
   "source": [
    "def prepareData(df):\n",
    "    data = []\n",
    "    labels = []\n",
    "    patches_path = '/home/giorgia/Desktop/MAI/Thesis/images/patches/'\n",
    "    for i in range(len(df)):\n",
    "        patch_filename = os.path.join(patches_path, os.path.basename(df.loc[i, 'patch_filename']))\n",
    "        #im = np.amax(imread(patch_filename), axis=2) # maximum intensity projection\n",
    "        im = imread(patch_filename)\n",
    "        if im.shape == (256, 256, 3):\n",
    "            feat, _ = np.histogram(im, bins = 100)\n",
    "            data.append(feat)\n",
    "            labels.append(df.loc[i, 'plastic'])\n",
    "    return data, labels"
   ]
  },
  {
   "cell_type": "code",
   "execution_count": 10,
   "metadata": {},
   "outputs": [
    {
     "data": {
      "text/plain": [
       "(583, 575)"
      ]
     },
     "execution_count": 10,
     "metadata": {},
     "output_type": "execute_result"
    }
   ],
   "source": [
    "df = pd.read_csv('/home/giorgia/Desktop/MAI/Thesis/patch_info.csv')\n",
    "_,_,df = prepareDataNN(df) # filter patches of size < 256 * 256\n",
    "\n",
    "df_plastic = df[df.plastic==1].reset_index()\n",
    "df_noplastic = df[df.plastic==0].reset_index()\n",
    "df_unlabeled = df[df.plastic!=-1].reset_index()\n",
    "len(df_plastic), len(df_noplastic)"
   ]
  },
  {
   "cell_type": "code",
   "execution_count": 11,
   "metadata": {},
   "outputs": [
    {
     "name": "stdout",
     "output_type": "stream",
     "text": [
      "1158\n",
      "347\n"
     ]
    }
   ],
   "source": [
    "partition = .7\n",
    "test_set = df.copy()\n",
    "print(len(test_set))\n",
    "training_set = test_set.sample(frac=partition)\n",
    "test_set = pd.merge(test_set, training_set, indicator=True, how='outer').query('_merge==\"left_only\"').drop(['_merge'], axis=1).reset_index()\n",
    "print(len(test_set))\n",
    "#validation_set = test_set.sample(frac=.5)\n",
    "#test_set = pd.merge(test_set, validation_set, indicator=True, how='outer').query('_merge==\"left_only\"').drop(['_merge','index'], axis=1).reset_index()\n",
    "#print(len(test_set))\n"
   ]
  },
  {
   "cell_type": "code",
   "execution_count": 12,
   "metadata": {},
   "outputs": [],
   "source": [
    "def get_preditictions(model, test_data, test_labels):\n",
    "    pred_prob = model.predict(np.array(test_data))\n",
    "    pred_class = []\n",
    "    for p in pred_prob:\n",
    "        if p >= .5:\n",
    "            pred_class.append(1)\n",
    "        else:\n",
    "            pred_class.append(0)\n",
    "    print(classification_report(test_labels, pred_class))\n",
    "    return (pred_prob, pred_class)"
   ]
  },
  {
   "cell_type": "code",
   "execution_count": 13,
   "metadata": {},
   "outputs": [],
   "source": [
    "training_data, training_labels, _ = prepareDataNN(training_set.reset_index())\n",
    "test_data, test_labels, _ = prepareDataNN(test_set)"
   ]
  },
  {
   "cell_type": "code",
   "execution_count": 14,
   "metadata": {},
   "outputs": [],
   "source": [
    "# unlabeled\n",
    "X, Y, _ = prepareDataNN(df_unlabeled)\n",
    "\n",
    "# merge labeled and unlabeled datasets\n",
    "training_data = training_data + X \n",
    "training_labels = training_labels + Y"
   ]
  },
  {
   "cell_type": "code",
   "execution_count": 15,
   "metadata": {},
   "outputs": [
    {
     "name": "stderr",
     "output_type": "stream",
     "text": [
      "2022-03-23 14:43:05.507628: E tensorflow/stream_executor/cuda/cuda_driver.cc:271] failed call to cuInit: CUDA_ERROR_NO_DEVICE: no CUDA-capable device is detected\n",
      "2022-03-23 14:43:05.507737: I tensorflow/stream_executor/cuda/cuda_diagnostics.cc:156] kernel driver does not appear to be running on this host (giorgia-PX60-6QE): /proc/driver/nvidia/version does not exist\n",
      "2022-03-23 14:43:05.531309: I tensorflow/core/platform/cpu_feature_guard.cc:151] This TensorFlow binary is optimized with oneAPI Deep Neural Network Library (oneDNN) to use the following CPU instructions in performance-critical operations:  AVX2 FMA\n",
      "To enable them in other operations, rebuild TensorFlow with the appropriate compiler flags.\n"
     ]
    }
   ],
   "source": [
    "data_augmentation = keras.Sequential(\n",
    "    [ layers.RandomFlip(\"horizontal\"),\n",
    "      layers.RandomRotation(0.2),\n",
    "      #layers.RandomTranslation(0.8, 0.5),\n",
    "      #layers.RandomZoom(0.5),\n",
    "      layers.RandomContrast(0.1),\n",
    "    ]\n",
    ")"
   ]
  },
  {
   "cell_type": "code",
   "execution_count": 16,
   "metadata": {},
   "outputs": [
    {
     "name": "stdout",
     "output_type": "stream",
     "text": [
      "WARNING:tensorflow:`input_shape` is undefined or non-square, or `rows` is not in [96, 128, 160, 192, 224]. Weights for input shape (224, 224) will be loaded as the default.\n",
      "input_1\n",
      "sequential\n",
      "rescaling\n",
      "mobilenetv2_1.00_224\n",
      "global_average_pooling2d\n",
      "dropout\n",
      "dense\n"
     ]
    }
   ],
   "source": [
    "# preprocess data \n",
    "inputs = keras.Input(shape = (256, 256, 3))\n",
    "x = data_augmentation(inputs)\n",
    "x = layers.Rescaling(1.0 / 255)(x)\n",
    "\n",
    "# load pre-trained model and weights without last layer\n",
    "x = MobileNetV2(weights='imagenet', include_top=False, input_shape=(256, 256, 3))(x)\n",
    "\n",
    "# add layers on top\n",
    "x = layers.GlobalAveragePooling2D()(x)\n",
    "x = layers.Dropout(0.25)(x)\n",
    "outputs = layers.Dense(1, activation=\"sigmoid\")(x)\n",
    "\n",
    "# trained model \n",
    "tf_model_mobnet = keras.Model(inputs, outputs)\n",
    "tf_model_mobnet.load_weights(\"ckpts/mobnetv2_20.h5\")\n",
    "tf_model_mobnet.compile(\n",
    "    optimizer=keras.optimizers.Adam(1e-3),\n",
    "    loss=\"binary_crossentropy\",\n",
    "    metrics=[\"accuracy\"],\n",
    ")\n",
    "\n",
    "for layer in tf_model_mobnet.layers:\n",
    "    print(layer.name)"
   ]
  },
  {
   "cell_type": "code",
   "execution_count": 17,
   "metadata": {},
   "outputs": [
    {
     "name": "stderr",
     "output_type": "stream",
     "text": [
      "2022-03-23 14:43:18.750882: W tensorflow/core/framework/cpu_allocator_impl.cc:82] Allocation of 1887436800 exceeds 10% of free system memory.\n",
      "2022-03-23 14:43:19.002569: W tensorflow/core/framework/cpu_allocator_impl.cc:82] Allocation of 1887436800 exceeds 10% of free system memory.\n",
      "2022-03-23 14:43:19.366399: W tensorflow/core/framework/cpu_allocator_impl.cc:82] Allocation of 1887436800 exceeds 10% of free system memory.\n",
      "2022-03-23 14:43:19.676463: W tensorflow/core/framework/cpu_allocator_impl.cc:82] Allocation of 1917043200 exceeds 10% of free system memory.\n",
      "2022-03-23 14:43:25.801717: W tensorflow/core/framework/cpu_allocator_impl.cc:82] Allocation of 1887436800 exceeds 10% of free system memory.\n"
     ]
    }
   ],
   "source": [
    "final_layer = \"global_average_pooling2d\"\n",
    "extractor = keras.Model(inputs=tf_model_mobnet.input,\n",
    "                        outputs=tf_model_mobnet.get_layer(final_layer).output)\n",
    "features = []\n",
    "step = 300\n",
    "for i in range(0, len(training_data), step):\n",
    "    if i + step >= len(training_data):\n",
    "        end = len(training_data)\n",
    "    else: \n",
    "        end = i + step\n",
    "    features.append(np.array(extractor(np.array(training_data[i:end]))))\n",
    "features = np.array(list(itertools.chain(*features)))"
   ]
  },
  {
   "cell_type": "code",
   "execution_count": 147,
   "metadata": {},
   "outputs": [
    {
     "name": "stderr",
     "output_type": "stream",
     "text": [
      "/home/giorgia/Desktop/MAI/Thesis/litter_env/lib/python3.8/site-packages/sklearn/semi_supervised/_label_propagation.py:316: ConvergenceWarning: max_iter=1000 was reached without convergence.\n",
      "  warnings.warn(\n"
     ]
    }
   ],
   "source": [
    "label_prop_model = LabelPropagation()\n",
    "label_prop_model.fit(features, training_labels)\n",
    "print(classification_report(test_labels,  label_prop_model.predict(extractor(np.array(test_data)))))"
   ]
  },
  {
   "cell_type": "code",
   "execution_count": 28,
   "metadata": {},
   "outputs": [],
   "source": [
    "from sklearn.ensemble import RandomForestClassifier \n",
    "rf = RandomForestClassifier(n_estimators=10, max_features=100)"
   ]
  },
  {
   "cell_type": "code",
   "execution_count": 29,
   "metadata": {},
   "outputs": [
    {
     "name": "stdout",
     "output_type": "stream",
     "text": [
      "              precision    recall  f1-score   support\n",
      "\n",
      "         0.0       0.76      0.81      0.78       175\n",
      "         1.0       0.79      0.74      0.76       172\n",
      "\n",
      "    accuracy                           0.77       347\n",
      "   macro avg       0.77      0.77      0.77       347\n",
      "weighted avg       0.77      0.77      0.77       347\n",
      "\n"
     ]
    }
   ],
   "source": [
    "features_test = np.array(extractor(np.array(test_data)))\n",
    "self_training_model = SelfTrainingClassifier(base_estimator=rf)\n",
    "self_training_model.fit(features, training_labels)\n",
    "print(classification_report(test_labels,  self_training_model.predict(features_test)))"
   ]
  },
  {
   "cell_type": "code",
   "execution_count": 30,
   "metadata": {},
   "outputs": [
    {
     "name": "stdout",
     "output_type": "stream",
     "text": [
      "              precision    recall  f1-score   support\n",
      "\n",
      "         0.0       0.78      0.80      0.79       175\n",
      "         1.0       0.79      0.77      0.78       172\n",
      "\n",
      "    accuracy                           0.78       347\n",
      "   macro avg       0.78      0.78      0.78       347\n",
      "weighted avg       0.78      0.78      0.78       347\n",
      "\n"
     ]
    }
   ],
   "source": [
    "pred_probs_rfmobnet = self_training_model.predict_proba(features_test)[:, 1]\n",
    "pred_probs_mobnet, _ = get_preditictions(tf_model_mobnet, test_data, test_labels)"
   ]
  },
  {
   "cell_type": "code",
   "execution_count": 31,
   "metadata": {},
   "outputs": [
    {
     "name": "stderr",
     "output_type": "stream",
     "text": [
      "/home/giorgia/Desktop/MAI/Thesis/litter_env/lib/python3.8/site-packages/seaborn/_decorators.py:36: FutureWarning: Pass the following variables as keyword args: x, y. From version 0.12, the only valid positional argument will be `data`, and passing other arguments without an explicit keyword will result in an error or misinterpretation.\n",
      "  warnings.warn(\n",
      "/home/giorgia/Desktop/MAI/Thesis/litter_env/lib/python3.8/site-packages/seaborn/_decorators.py:36: FutureWarning: Pass the following variables as keyword args: x, y. From version 0.12, the only valid positional argument will be `data`, and passing other arguments without an explicit keyword will result in an error or misinterpretation.\n",
      "  warnings.warn(\n"
     ]
    },
    {
     "data": {
      "text/plain": [
       "<matplotlib.legend.Legend at 0x7f81484ec520>"
      ]
     },
     "execution_count": 31,
     "metadata": {},
     "output_type": "execute_result"
    },
    {
     "data": {
      "image/png": "[encoded data removed]",
      "text/plain": [
       "<Figure size 720x720 with 1 Axes>"
      ]
     },
     "metadata": {},
     "output_type": "display_data"
    }
   ],
   "source": [
    "import matplotlib.pyplot as plt \n",
    "from sklearn.metrics import roc_curve\n",
    "\n",
    "import seaborn as sns \n",
    "\n",
    "plt.figure(figsize=(10,10))\n",
    "plt.title(\"Precision-Recall\", fontsize=20)\n",
    "\n",
    "# SVM\n",
    "fpr, tpr, thresholds = roc_curve(test_labels, pred_probs_mobnet)\n",
    "sns.lineplot(fpr, tpr, label=\"MobNetV2\")\n",
    "\n",
    "# RF\n",
    "fpr, tpr, thresholds = roc_curve(test_labels, pred_probs_rfmobnet)\n",
    "sns.lineplot(fpr, tpr, label=\"MobNetV2 + RF Self-Supervised\")\n",
    "\n",
    "sns.set_style(\"darkgrid\")\n",
    "plt.legend()"
   ]
  },
  {
   "cell_type": "code",
   "execution_count": null,
   "metadata": {},
   "outputs": [],
   "source": [
    "xenia.ivashkovych@vito.be"
   ]
  }
 ],
 "metadata": {
  "interpreter": {
   "hash": "a626b004e18be3dea50627db104c07a4a2d0cf9d973364797b6bab100a1927a3"
  },
  "kernelspec": {
   "display_name": "milan_env",
   "language": "python",
   "name": "python3"
  },
  "language_info": {
   "codemirror_mode": {
    "name": "ipython",
    "version": 3
   },
   "file_extension": ".py",
   "mimetype": "text/x-python",
   "name": "python",
   "nbconvert_exporter": "python",
   "pygments_lexer": "ipython3",
   "version": "3.8.10"
  },
  "orig_nbformat": 4
 },
 "nbformat": 4,
 "nbformat_minor": 2
}
