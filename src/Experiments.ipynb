{
  "nbformat": 4,
  "nbformat_minor": 0,
  "metadata": {
    "colab": {
      "name": "Experiments.ipynb",
      "provenance": [],
      "collapsed_sections": []
    },
    "kernelspec": {
      "name": "python3",
      "display_name": "Python 3"
    },
    "language_info": {
      "name": "python"
    },
    "accelerator": "GPU"
  },
  "cells": [
    {
      "cell_type": "code",
      "execution_count": 1,
      "metadata": {
        "id": "rjafdawnj4Ou"
      },
      "outputs": [],
      "source": [
        "import pandas as pd \n",
        "import os\n",
        "import numpy as np\n",
        "from skimage.io import imread\n",
        "from sklearn.metrics import accuracy_score, classification_report\n",
        "import tensorflow as tf\n",
        "from tensorflow import keras\n",
        "from tensorflow.keras import layers\n",
        "from tensorflow.keras.applications import MobileNetV2\n",
        "import itertools\n",
        "import pickle\n",
        "import matplotlib.pyplot as plt \n",
        "import seaborn as sns\n",
        "import random\n",
        "import os"
      ]
    },
    {
      "cell_type": "code",
      "source": [
        "from google.colab import drive\n",
        "drive.mount('/content/drive/')\n",
        "os.chdir('/content/drive/MyDrive/thesis/')"
      ],
      "metadata": {
        "colab": {
          "base_uri": "https://localhost:8080/"
        },
        "id": "ftWh7e6lj_Ux",
        "outputId": "b368d39a-3c55-4ebc-e780-8b2252b94eb6"
      },
      "execution_count": 2,
      "outputs": [
        {
          "output_type": "stream",
          "name": "stdout",
          "text": [
            "Mounted at /content/drive/\n"
          ]
        }
      ]
    },
    {
      "cell_type": "markdown",
      "source": [
        "### Functions for data preparation and prediction"
      ],
      "metadata": {
        "id": "M_uDFNLeTYMC"
      }
    },
    {
      "cell_type": "code",
      "source": [
        "def prepareDataNN(df):\n",
        "    data = []\n",
        "    labels = []\n",
        "    df_filtered = pd.DataFrame(columns=[\"patch_filename\", \"plastic\"])\n",
        "    patches_path = 'root_patches/patches/'\n",
        "    for i in range(len(df)):\n",
        "        patch_filename = os.path.join(patches_path, os.path.basename(df.loc[i, 'patch_filename']))\n",
        "        im = imread(patch_filename)\n",
        "        if im.shape == (256, 256, 3):\n",
        "            data.append(im)\n",
        "            labels.append(np.array(df.loc[i, 'plastic']))\n",
        "            df_filtered = df_filtered.append(pd.Series(data={\"patch_filename\":df.loc[i, 'patch_filename'], \"plastic\":df.loc[i, 'plastic']}), ignore_index=True)\n",
        "    return data, labels, df_filtered"
      ],
      "metadata": {
        "id": "OPA4MxhekDNe"
      },
      "execution_count": 3,
      "outputs": []
    },
    {
      "cell_type": "code",
      "source": [
        "def prepareData(df):\n",
        "    data = []\n",
        "    labels = []\n",
        "    patches_path = 'root_patches/patches/'\n",
        "    df_filtered = pd.DataFrame(columns=[\"patch_filename\", \"plastic\"])\n",
        "    for i in range(len(df)):\n",
        "        patch_filename = os.path.join(patches_path, os.path.basename(df.loc[i, 'patch_filename']))\n",
        "        im = imread(patch_filename)\n",
        "        if im.shape == (256, 256, 3):\n",
        "            feat, _ = np.histogram(im, bins = 100)\n",
        "            data.append(feat)\n",
        "            labels.append(df.loc[i, 'plastic'])\n",
        "            df_filtered = df_filtered.append(pd.Series(data={\"patch_filename\":df.loc[i, 'patch_filename'], \"plastic\":df.loc[i, 'plastic']}), ignore_index=True)\n",
        "    return data, labels, df_filtered"
      ],
      "metadata": {
        "id": "3mBaLt7wnh0t"
      },
      "execution_count": 4,
      "outputs": []
    },
    {
      "cell_type": "code",
      "source": [
        "def get_preditictions(model, test_data, labels):\n",
        "    pred_prob = model.predict(np.array(test_data))\n",
        "    pred_class = []\n",
        "    for p in pred_prob:\n",
        "        if p >= .5:\n",
        "            pred_class.append(1)\n",
        "        else:\n",
        "            pred_class.append(0)\n",
        "    print(classification_report(labels, pred_class))\n",
        "    return (pred_prob, pred_class)"
      ],
      "metadata": {
        "id": "nXzOR69mkKu1"
      },
      "execution_count": 5,
      "outputs": []
    },
    {
      "cell_type": "code",
      "source": [
        "\"\"\"df = pd.read_csv('patch_info.csv')\n",
        "_,_,df = prepareDataNN(df) # filter patches of size < 256 * 256\n",
        "\n",
        "df_plastic = df[df.plastic==1].reset_index()\n",
        "df_noplastic = df[df.plastic==0].reset_index()\n",
        "df_unlab = df[df.plastic==-1].reset_index()\n",
        "\n",
        "len(df_plastic), len(df_noplastic)\"\"\""
      ],
      "metadata": {
        "id": "KhOji6JFoAbQ",
        "colab": {
          "base_uri": "https://localhost:8080/",
          "height": 0
        },
        "outputId": "b6c9d78f-5327-4c45-98f3-e27276b85dd8"
      },
      "execution_count": 6,
      "outputs": [
        {
          "output_type": "execute_result",
          "data": {
            "text/plain": [
              "\"df = pd.read_csv('patch_info.csv')\\n_,_,df = prepareDataNN(df) # filter patches of size < 256 * 256\\n\\ndf_plastic = df[df.plastic==1].reset_index()\\ndf_noplastic = df[df.plastic==0].reset_index()\\ndf_unlab = df[df.plastic==-1].reset_index()\\n\\nlen(df_plastic), len(df_noplastic)\""
            ],
            "application/vnd.google.colaboratory.intrinsic+json": {
              "type": "string"
            }
          },
          "metadata": {},
          "execution_count": 6
        }
      ]
    },
    {
      "cell_type": "code",
      "source": [
        "\"\"\"df_labeled = pd.concat([df_plastic, df_noplastic], ignore_index=True)\n",
        "partition = .85\n",
        "test_set = df_labeled.copy()\n",
        "print(len(test_set))\n",
        "training_set = test_set.sample(frac=partition)\n",
        "test_set = pd.merge(test_set, training_set, indicator=True, how='outer').query('_merge==\"left_only\"').drop(['_merge'], axis=1)#.reset_index()\n",
        "print(len(test_set))\n",
        "validation_set = test_set.sample(frac=.5)\n",
        "test_set = pd.merge(test_set, validation_set, indicator=True, how='outer').query('_merge==\"left_only\"').drop(['_merge','index'], axis=1)#.reset_index()\n",
        "print(len(test_set))\"\"\""
      ],
      "metadata": {
        "colab": {
          "base_uri": "https://localhost:8080/",
          "height": 0
        },
        "id": "LEVH61BdkFgy",
        "outputId": "3cd4c21d-7ee4-4396-fd20-a969b8a1c703"
      },
      "execution_count": 7,
      "outputs": [
        {
          "output_type": "execute_result",
          "data": {
            "text/plain": [
              "'df_labeled = pd.concat([df_plastic, df_noplastic], ignore_index=True)\\npartition = .85\\ntest_set = df_labeled.copy()\\nprint(len(test_set))\\ntraining_set = test_set.sample(frac=partition)\\ntest_set = pd.merge(test_set, training_set, indicator=True, how=\\'outer\\').query(\\'_merge==\"left_only\"\\').drop([\\'_merge\\'], axis=1)#.reset_index()\\nprint(len(test_set))\\nvalidation_set = test_set.sample(frac=.5)\\ntest_set = pd.merge(test_set, validation_set, indicator=True, how=\\'outer\\').query(\\'_merge==\"left_only\"\\').drop([\\'_merge\\',\\'index\\'], axis=1)#.reset_index()\\nprint(len(test_set))'"
            ],
            "application/vnd.google.colaboratory.intrinsic+json": {
              "type": "string"
            }
          },
          "metadata": {},
          "execution_count": 7
        }
      ]
    },
    {
      "cell_type": "code",
      "source": [
        "#training_set.to_csv('training_set.csv')\n",
        "#test_set.to_csv('test_set.csv')\n",
        "#validation_set.to_csv('validation_set.csv')\n",
        "#df_unlab.to_csv('unlabeled.csv')\n",
        "\n",
        "df_unlab = pd.read_csv('unlabeled.csv')\n",
        "training_set = pd.read_csv('training_set.csv')\n",
        "test_set = pd.read_csv('test_set.csv')\n",
        "validation_set = pd.read_csv('validation_set.csv')"
      ],
      "metadata": {
        "id": "pO__VKlzqR3g"
      },
      "execution_count": 8,
      "outputs": []
    },
    {
      "cell_type": "code",
      "source": [
        "print(len(training_set[training_set['plastic']==0]), len(training_set[training_set['plastic']==1]) )\n",
        "print(len(validation_set[validation_set['plastic']==0]), len(validation_set[validation_set['plastic']==1]) )\n",
        "print(len(test_set[test_set['plastic']==0]), len(test_set[test_set['plastic']==1]) )"
      ],
      "metadata": {
        "colab": {
          "base_uri": "https://localhost:8080/"
        },
        "id": "nUIij2eQkIm_",
        "outputId": "aace303e-ef7d-4247-e26b-3404fffe1311"
      },
      "execution_count": 9,
      "outputs": [
        {
          "output_type": "stream",
          "name": "stdout",
          "text": [
            "1079 681\n",
            "94 61\n",
            "99 56\n"
          ]
        }
      ]
    },
    {
      "cell_type": "markdown",
      "source": [
        "# Random Forest"
      ],
      "metadata": {
        "id": "pTtKUq97mTzt"
      }
    },
    {
      "cell_type": "code",
      "source": [
        "from sklearn.ensemble import RandomForestClassifier \n",
        "from sklearn.model_selection import RandomizedSearchCV\n",
        "\n",
        "n_estimators = [int(x) for x in np.linspace(start = 10, stop = 200, num = 10)]\n",
        "# Number of features to consider at every split\n",
        "max_features = ['auto', 'sqrt']\n",
        "# Maximum number of levels in tree\n",
        "max_depth = [int(x) for x in np.linspace(10, 110, num = 11)]\n",
        "max_depth.append(None)\n",
        "# Minimum number of samples required to split a node\n",
        "min_samples_split = [2, 5, 10]\n",
        "# Minimum number of samples required at each leaf node\n",
        "min_samples_leaf = [1, 2, 4]\n",
        "# Method of selecting samples for training each tree\n",
        "bootstrap = [True, False]\n",
        "# Create the random grid\n",
        "random_grid = {'n_estimators': n_estimators,\n",
        "               'max_features': max_features,\n",
        "               'max_depth': max_depth,\n",
        "               'min_samples_split': min_samples_split,\n",
        "               'min_samples_leaf': min_samples_leaf,\n",
        "               'bootstrap': bootstrap}"
      ],
      "metadata": {
        "id": "YFcZSMU8mS5K"
      },
      "execution_count": null,
      "outputs": []
    },
    {
      "cell_type": "code",
      "source": [
        "training_data_, training_labels_, _ = prepareData(training_set)\n",
        "test_data_, test_labels_, _ = prepareData(test_set)"
      ],
      "metadata": {
        "id": "w48iV03XuMd6"
      },
      "execution_count": null,
      "outputs": []
    },
    {
      "cell_type": "markdown",
      "source": [
        "#### Training and selecting hyper-parameters"
      ],
      "metadata": {
        "id": "YLhhsvydJdPU"
      }
    },
    {
      "cell_type": "code",
      "source": [
        "rfc = RandomForestClassifier(n_estimators=100, max_features=50)\n",
        "# Random search of parameters, using 3 fold cross validation, \n",
        "# search across 100 different combinations, and use all available cores\n",
        "rf_random = RandomizedSearchCV(estimator = rfc, param_distributions = random_grid, n_iter = 100, cv = 3, random_state=42, n_jobs = -1)\n",
        "# Fit the random search model\n",
        "rf_random.fit(training_data_, training_labels_)\n",
        "best_rfc = rf_random.best_estimator_\n",
        "best_rfc.fit(training_data_, training_labels_)\n",
        "pred_probs_rf = best_rfc.predict_proba(test_data_)[:, 1]\n",
        "\n",
        "print(classification_report(test_labels_,  best_rfc.predict(test_data_)))"
      ],
      "metadata": {
        "colab": {
          "base_uri": "https://localhost:8080/"
        },
        "id": "fnCbrSsqmYm9",
        "outputId": "19056f2a-e530-428c-ea79-ef3d1455684a"
      },
      "execution_count": null,
      "outputs": [
        {
          "output_type": "stream",
          "name": "stdout",
          "text": [
            "              precision    recall  f1-score   support\n",
            "\n",
            "         0.0       0.90      0.92      0.91        99\n",
            "         1.0       0.85      0.82      0.84        56\n",
            "\n",
            "    accuracy                           0.88       155\n",
            "   macro avg       0.88      0.87      0.87       155\n",
            "weighted avg       0.88      0.88      0.88       155\n",
            "\n"
          ]
        }
      ]
    },
    {
      "cell_type": "markdown",
      "source": [
        "#### Predicting using estimated hyper-parameters"
      ],
      "metadata": {
        "id": "7liU-nRmJnYQ"
      }
    },
    {
      "cell_type": "code",
      "source": [
        "best_rfc = RandomForestClassifier(bootstrap=False, max_depth=100, max_features='sqrt',\n",
        "                       min_samples_split=5, n_estimators=73)\n",
        "\n",
        "best_rfc.fit(training_data_, training_labels_)\n",
        "pred_probs_rf = best_rfc.predict_proba(training_data_)[:, 1]\n",
        "print(\"Performance on the Training set\")\n",
        "print(classification_report(training_labels_,  best_rfc.predict(training_data_)))\n",
        "\n",
        "pred_probs_rf = best_rfc.predict_proba(test_data_)[:, 1]\n",
        "print(\"Performance on the Test set\")\n",
        "print(classification_report(test_labels_,  best_rfc.predict(test_data_)))"
      ],
      "metadata": {
        "colab": {
          "base_uri": "https://localhost:8080/"
        },
        "id": "pYmKg0r-JZ-V",
        "outputId": "984f06ff-139d-43a1-beaf-f1cf2a8436d1"
      },
      "execution_count": null,
      "outputs": [
        {
          "output_type": "stream",
          "name": "stdout",
          "text": [
            "Performance on the Training set\n",
            "              precision    recall  f1-score   support\n",
            "\n",
            "         0.0       1.00      1.00      1.00      1079\n",
            "         1.0       1.00      1.00      1.00       681\n",
            "\n",
            "    accuracy                           1.00      1760\n",
            "   macro avg       1.00      1.00      1.00      1760\n",
            "weighted avg       1.00      1.00      1.00      1760\n",
            "\n",
            "Performance on the Test set\n",
            "              precision    recall  f1-score   support\n",
            "\n",
            "         0.0       0.90      0.92      0.91        99\n",
            "         1.0       0.85      0.82      0.84        56\n",
            "\n",
            "    accuracy                           0.88       155\n",
            "   macro avg       0.88      0.87      0.87       155\n",
            "weighted avg       0.88      0.88      0.88       155\n",
            "\n"
          ]
        }
      ]
    },
    {
      "cell_type": "code",
      "source": [
        "best_rfc"
      ],
      "metadata": {
        "colab": {
          "base_uri": "https://localhost:8080/"
        },
        "id": "IT5kq2LQD5oX",
        "outputId": "59adba28-34a6-464a-a287-9676781cd1fd"
      },
      "execution_count": null,
      "outputs": [
        {
          "output_type": "execute_result",
          "data": {
            "text/plain": [
              "RandomForestClassifier(bootstrap=False, max_depth=100, max_features='sqrt',\n",
              "                       min_samples_split=5, n_estimators=73)"
            ]
          },
          "metadata": {},
          "execution_count": 15
        }
      ]
    },
    {
      "cell_type": "markdown",
      "source": [
        "# CNN"
      ],
      "metadata": {
        "id": "Wvom_O2TSY9R"
      }
    },
    {
      "cell_type": "code",
      "source": [
        "# prepare data\n",
        "\n",
        "training_data, training_labels, _ = prepareDataNN(training_set)\n",
        "validation_data, validation_labels, _ = prepareDataNN(validation_set)\n",
        "test_data, test_labels, _ = prepareDataNN(test_set)"
      ],
      "metadata": {
        "id": "PBIXnqQVkMz9"
      },
      "execution_count": 10,
      "outputs": []
    },
    {
      "cell_type": "markdown",
      "source": [
        "### from scratch"
      ],
      "metadata": {
        "id": "eF2hmPm_SwaB"
      }
    },
    {
      "cell_type": "code",
      "source": [
        "data_augmentation = keras.Sequential(\n",
        "    [ layers.RandomFlip(\"horizontal\"),\n",
        "      layers.RandomRotation(0.2),\n",
        "      layers.RandomTranslation(0.8, 0.5),\n",
        "      layers.RandomFlip(\"vertical\"),\n",
        "      #layers.RandomZoom(0.5),\n",
        "      layers.RandomContrast(0.3),\n",
        "    ]\n",
        ")"
      ],
      "metadata": {
        "id": "zUR3JZbSkNrA"
      },
      "execution_count": null,
      "outputs": []
    },
    {
      "cell_type": "code",
      "source": [
        "def make_model(input_shape):\n",
        "    inputs = keras.Input(shape = input_shape)\n",
        "    # Image augmentation block\n",
        "    x = data_augmentation(inputs)\n",
        "\n",
        "    # Architecture \n",
        "    x = layers.Rescaling(1.0 / 255)(x)\n",
        "\n",
        "    #### added layers\n",
        "    x = layers.Conv2D(16, 3, strides=2, padding=\"same\")(x)\n",
        "    x = layers.BatchNormalization()(x)\n",
        "    x = layers.Activation(\"relu\")(x)\n",
        "    x = layers.MaxPooling2D(pool_size=(2, 2))(x)###\n",
        "    x = layers.Dropout(0.25)(x)\n",
        "    ####\n",
        "\n",
        "    x = layers.Conv2D(32, 3, strides=2, padding=\"same\")(x)\n",
        "    x = layers.BatchNormalization()(x)\n",
        "    x = layers.Activation(\"relu\")(x)\n",
        "    x = layers.MaxPooling2D(pool_size=(2, 2))(x)###\n",
        "    x = layers.Dropout(0.25)(x)\n",
        "\n",
        "    x = layers.Conv2D(64, 3, padding=\"same\")(x)\n",
        "    x = layers.BatchNormalization()(x)\n",
        "    x = layers.Activation(\"relu\")(x)\n",
        "    x = layers.MaxPooling2D(pool_size=(2, 2))(x)###\n",
        "    x = layers.Dropout(0.25)(x)\n",
        "\n",
        "    #x = layers.MaxPooling2D(3, strides=2, padding=\"same\")(x)\n",
        "    #x = layers.GlobalAveragePooling2D()(x)\n",
        "    x = layers.Flatten()(x)\n",
        "    x = layers.Dense(64)(x)\n",
        "    x = layers.Activation(\"relu\")(x)\n",
        "    x = layers.Dropout(0.50)(x) # increased from .25\n",
        "\n",
        "    outputs = layers.Dense(1, activation=\"sigmoid\")(x)\n",
        "\n",
        "    return keras.Model(inputs, outputs)\n",
        "\n",
        "image_size = (256, 256, 3) \n",
        "model = make_model(input_shape=image_size)\n",
        "keras.utils.plot_model(model, to_file='code/figures/CNN_new.png', show_shapes=True)"
      ],
      "metadata": {
        "colab": {
          "base_uri": "https://localhost:8080/",
          "height": 1000
        },
        "id": "HWcrH1fVkX2D",
        "outputId": "490841f2-be21-477e-ee44-2be163c65f9a"
      },
      "execution_count": null,
      "outputs": [
        {
          "output_type": "execute_result",
          "data": {
            "text/plain": [
              "<IPython.core.display.Image object>"
            ],
            "image/png": "[encoded data removed]"
          },
          "metadata": {},
          "execution_count": 13
        }
      ]
    },
    {
      "cell_type": "code",
      "source": [
        "X, Y = np.array(training_data + validation_data), np.array(training_labels + validation_labels)\n",
        "X.shape, Y.shape "
      ],
      "metadata": {
        "id": "7NNCL3QwdXbQ"
      },
      "execution_count": null,
      "outputs": []
    },
    {
      "cell_type": "code",
      "source": [
        "#train with kfold\n",
        "\n",
        "from sklearn.model_selection import KFold\n",
        "\n",
        "kf = KFold(n_splits=3)\n",
        "k = 1\n",
        "epochs = 300\n",
        "\n",
        "for train_ind, val_ind in kf.split(X):\n",
        "  x_train,y_train = X[train_ind,:,:,:], Y[train_ind]\n",
        "  x_val,y_val = X[val_ind,:,:,:], Y[val_ind]\n",
        "\n",
        "  callbacks = [\n",
        "      keras.callbacks.ModelCheckpoint(\"code/ckpts/cnn2_kf{}.h5\".format(k), save_best_only=True, mode='min'),\n",
        "      keras.callbacks.ReduceLROnPlateau(),\n",
        "  ]\n",
        "  tensorboard = keras.callbacks.TensorBoard(log_dir='./logs',\n",
        "                  histogram_freq=1, \n",
        "                  write_graph=True, \n",
        "                  write_images=False)\n",
        "  \n",
        "  model = make_model(input_shape=image_size)\n",
        "  model.compile(\n",
        "      optimizer=keras.optimizers.Adam(1e-3),\n",
        "      loss=\"binary_crossentropy\",\n",
        "      metrics=[\"accuracy\"],\n",
        "  )\n",
        "  hist_cnn = model.fit(\n",
        "      x=x_train, y=y_train , epochs=epochs, callbacks=[callbacks, tensorboard], batch_size=32, validation_data=(x_val, y_val))\n",
        "\n",
        "  # save history \n",
        "  with open('code/ckpts/trainHistoryCNN2_kf{}'.format(k), 'wb') as file_pi:\n",
        "      pickle.dump(hist_cnn.history, file_pi)\n",
        "  k += 1"
      ],
      "metadata": {
        "id": "oWsT81KwkjMq"
      },
      "execution_count": null,
      "outputs": []
    },
    {
      "cell_type": "code",
      "source": [
        "hist_cnn1 = pd.read_pickle('code/ckpts/trainHistoryCNN_kf1')\n",
        "hist_cnn2 = pd.read_pickle('code/ckpts/trainHistoryCNN_kf2')\n",
        "hist_cnn3 = pd.read_pickle('code/ckpts/trainHistoryCNN_kf3')\n",
        "\n",
        "plt.figure(figsize=(20,10))\n",
        "sns.set_style(\"darkgrid\")\n",
        "plt.subplot(121)\n",
        "plt.plot(np.mean([hist_cnn1['accuracy'], hist_cnn2['accuracy'], hist_cnn3['accuracy']], axis=0))\n",
        "plt.plot(np.mean([hist_cnn1['val_accuracy'], hist_cnn2['val_accuracy'], hist_cnn3['val_accuracy']], axis=0))\n",
        "plt.title('CNN average Accuracy', fontsize=15)\n",
        "plt.ylabel('accuracy', fontsize=12)\n",
        "plt.xlabel('epoch', fontsize=12)\n",
        "plt.legend(['training', 'validation'], loc='upper left')\n",
        "plt.subplot(122)\n",
        "plt.plot(np.mean([hist_cnn1['loss'], hist_cnn2['loss'], hist_cnn3['loss']], axis=0))\n",
        "plt.plot(np.mean([hist_cnn1['val_loss'], hist_cnn2['val_loss'], hist_cnn3['val_loss']], axis=0))\n",
        "plt.title('CNN average Loss', fontsize=15)\n",
        "plt.ylabel('loss', fontsize=12)\n",
        "plt.xlabel('epoch', fontsize=12)\n",
        "plt.legend(['training', 'validation'], loc='upper right')\n",
        "plt.savefig(\"code/figures/CNN_training_kf.png\")"
      ],
      "metadata": {
        "id": "T5PM_jwvlg2m"
      },
      "execution_count": null,
      "outputs": []
    },
    {
      "cell_type": "code",
      "source": [
        "model.load_weights(\"code/ckpts/cnn2_kf3.h5\")\n",
        "#model.load_weights(\"code/ckpts/new_cnn_51.h5\")\n",
        "#model.compile(\n",
        "#    optimizer=keras.optimizers.Adam(1e-4),\n",
        "#    loss=\"binary_crossentropy\",\n",
        "#    metrics=[\"accuracy\"],\n",
        "#)\n",
        "pred_probs_cnn, pred_class_cnn = get_preditictions(model, test_data)"
      ],
      "metadata": {
        "colab": {
          "base_uri": "https://localhost:8080/"
        },
        "id": "YLMAV6Y6lKcV",
        "outputId": "053263ae-46f2-491e-dc2b-7ea08554e685"
      },
      "execution_count": null,
      "outputs": [
        {
          "output_type": "stream",
          "name": "stdout",
          "text": [
            "              precision    recall  f1-score   support\n",
            "\n",
            "         0.0       0.91      0.90      0.90        99\n",
            "         1.0       0.82      0.84      0.83        56\n",
            "\n",
            "    accuracy                           0.88       155\n",
            "   macro avg       0.87      0.87      0.87       155\n",
            "weighted avg       0.88      0.88      0.88       155\n",
            "\n"
          ]
        }
      ]
    },
    {
      "cell_type": "markdown",
      "source": [
        "#### Performance and Predictions on Training and Test"
      ],
      "metadata": {
        "id": "iwNmvY8RKxFi"
      }
    },
    {
      "cell_type": "code",
      "source": [
        "# assess performance on test \n",
        "# load kfold models\n",
        "model1 = make_model(input_shape=image_size)\n",
        "model1.load_weights(\"code/ckpts/cnn2_kf1.h5\")\n",
        "\n",
        "model2 = make_model(input_shape=image_size)\n",
        "model2.load_weights(\"code/ckpts/cnn2_kf2.h5\")\n",
        "\n",
        "model3 = make_model(input_shape=image_size)\n",
        "model3.load_weights(\"code/ckpts/cnn2_kf3.h5\")\n",
        "\n",
        "models = [model1, model2, model3]\n",
        "\n",
        "merged_preds = np.zeros([len(training_labels),])\n",
        "# majority voting for training\n",
        "for m in models:\n",
        "  pred_probs_cnn, pred_class_cnn = get_preditictions(m, training_data, training_labels)\n",
        "  merged_preds += np.array(pred_class_cnn)\n",
        "merged_preds = merged_preds // 2 # convert to classes\n",
        "\n",
        "print(\"Performance on Training set\")\n",
        "print(classification_report(training_labels,  merged_preds))\n",
        "\n",
        "# majority voting for test\n",
        "merged_preds = np.zeros([len(test_labels),])\n",
        "for m in models:\n",
        "  pred_probs_cnn, pred_class_cnn = get_preditictions(m, test_data, test_labels)\n",
        "  merged_preds += np.array(pred_class_cnn)\n",
        "\n",
        "merged_preds = merged_preds // 2 # convert to classes\n",
        "print(\"Performance on Test set\")\n",
        "print(classification_report(test_labels,  merged_preds))"
      ],
      "metadata": {
        "id": "rUwdThPvHI4_",
        "colab": {
          "base_uri": "https://localhost:8080/"
        },
        "outputId": "8ea469c4-8a2f-41e3-e1ae-473446862919"
      },
      "execution_count": null,
      "outputs": [
        {
          "output_type": "stream",
          "name": "stdout",
          "text": [
            "              precision    recall  f1-score   support\n",
            "\n",
            "         0.0       0.86      0.89      0.88      1079\n",
            "         1.0       0.82      0.77      0.79       681\n",
            "\n",
            "    accuracy                           0.85      1760\n",
            "   macro avg       0.84      0.83      0.84      1760\n",
            "weighted avg       0.84      0.85      0.84      1760\n",
            "\n",
            "              precision    recall  f1-score   support\n",
            "\n",
            "         0.0       0.82      0.90      0.86      1079\n",
            "         1.0       0.82      0.69      0.75       681\n",
            "\n",
            "    accuracy                           0.82      1760\n",
            "   macro avg       0.82      0.80      0.80      1760\n",
            "weighted avg       0.82      0.82      0.82      1760\n",
            "\n",
            "              precision    recall  f1-score   support\n",
            "\n",
            "         0.0       0.90      0.85      0.88      1079\n",
            "         1.0       0.79      0.85      0.82       681\n",
            "\n",
            "    accuracy                           0.85      1760\n",
            "   macro avg       0.84      0.85      0.85      1760\n",
            "weighted avg       0.86      0.85      0.85      1760\n",
            "\n",
            "Performance on Training set\n",
            "              precision    recall  f1-score   support\n",
            "\n",
            "         0.0       0.86      0.89      0.87      1079\n",
            "         1.0       0.81      0.77      0.79       681\n",
            "\n",
            "    accuracy                           0.84      1760\n",
            "   macro avg       0.84      0.83      0.83      1760\n",
            "weighted avg       0.84      0.84      0.84      1760\n",
            "\n",
            "              precision    recall  f1-score   support\n",
            "\n",
            "         0.0       0.87      0.91      0.89        99\n",
            "         1.0       0.82      0.75      0.79        56\n",
            "\n",
            "    accuracy                           0.85       155\n",
            "   macro avg       0.84      0.83      0.84       155\n",
            "weighted avg       0.85      0.85      0.85       155\n",
            "\n",
            "              precision    recall  f1-score   support\n",
            "\n",
            "         0.0       0.86      0.91      0.88        99\n",
            "         1.0       0.82      0.73      0.77        56\n",
            "\n",
            "    accuracy                           0.85       155\n",
            "   macro avg       0.84      0.82      0.83       155\n",
            "weighted avg       0.84      0.85      0.84       155\n",
            "\n",
            "              precision    recall  f1-score   support\n",
            "\n",
            "         0.0       0.91      0.90      0.90        99\n",
            "         1.0       0.82      0.84      0.83        56\n",
            "\n",
            "    accuracy                           0.88       155\n",
            "   macro avg       0.87      0.87      0.87       155\n",
            "weighted avg       0.88      0.88      0.88       155\n",
            "\n",
            "Performance on Test set\n",
            "              precision    recall  f1-score   support\n",
            "\n",
            "         0.0       0.88      0.91      0.90        99\n",
            "         1.0       0.83      0.79      0.81        56\n",
            "\n",
            "    accuracy                           0.86       155\n",
            "   macro avg       0.86      0.85      0.85       155\n",
            "weighted avg       0.86      0.86      0.86       155\n",
            "\n"
          ]
        }
      ]
    },
    {
      "cell_type": "markdown",
      "source": [
        "### CNN + Random Forest"
      ],
      "metadata": {
        "id": "-TzqkE5Pmj-j"
      }
    },
    {
      "cell_type": "code",
      "source": [
        "final_layer = \"dense_5\"#\"global_average_pooling2d\"\n",
        "extractor = keras.Model(inputs=model.input,\n",
        "                        outputs=model.get_layer(final_layer).output)\n",
        "features = extractor(np.array(training_data))\n",
        "\n",
        "rfcnn = RandomForestClassifier(n_estimators=100, max_features=50)\n",
        "# Random search of parameters, using 3 fold cross validation, \n",
        "# search across 100 different combinations, and use all available cores\n",
        "rfcnn_random = RandomizedSearchCV(estimator = rfcnn, param_distributions = random_grid, n_iter = 100, cv = 3, random_state=42, n_jobs = -1) #verbose=2, \n",
        "# Fit the random search model\n",
        "rfcnn_random.fit(np.array(features), training_labels)\n",
        "\n",
        "best_rfcnn = rfcnn_random.best_estimator_\n",
        "best_rfcnn.fit(np.array(features), training_labels)\n",
        "\n",
        "features_test = np.array(extractor(np.array(test_data)))\n",
        "pred_probs_rfcnn = best_rfcnn.predict_proba(features_test)[:, 1]\n",
        "accuracy_score(test_labels, best_rfcnn.predict(features_test))\n",
        "print(classification_report(test_labels,  best_rfcnn.predict(features_test)))"
      ],
      "metadata": {
        "colab": {
          "base_uri": "https://localhost:8080/"
        },
        "id": "0Wju5z8ImjEz",
        "outputId": "fa92c086-61f7-4e09-ca66-47aae568f337"
      },
      "execution_count": null,
      "outputs": [
        {
          "output_type": "stream",
          "name": "stdout",
          "text": [
            "              precision    recall  f1-score   support\n",
            "\n",
            "         0.0       0.91      0.96      0.94        99\n",
            "         1.0       0.92      0.84      0.88        56\n",
            "\n",
            "    accuracy                           0.92       155\n",
            "   macro avg       0.92      0.90      0.91       155\n",
            "weighted avg       0.92      0.92      0.92       155\n",
            "\n"
          ]
        }
      ]
    },
    {
      "cell_type": "code",
      "source": [
        "best_rfcnn"
      ],
      "metadata": {
        "colab": {
          "base_uri": "https://localhost:8080/"
        },
        "id": "yb49siRRJIrw",
        "outputId": "aa9ecce2-d6d0-4127-c999-7c3ec71f828f"
      },
      "execution_count": null,
      "outputs": [
        {
          "output_type": "execute_result",
          "data": {
            "text/plain": [
              "RandomForestClassifier(max_depth=70, min_samples_leaf=4, min_samples_split=10,\n",
              "                       n_estimators=31)"
            ]
          },
          "metadata": {},
          "execution_count": 24
        }
      ]
    },
    {
      "cell_type": "markdown",
      "source": [
        "#### Performances on Training and Test"
      ],
      "metadata": {
        "id": "k4l6ZUSlMdeR"
      }
    },
    {
      "cell_type": "code",
      "source": [
        "#cnn = make_model(input_shape=image_size)\n",
        "#cnn.load_weights(\"code/ckpts/cnn2_kf3.h5\")\n",
        "final_layer = \"dense_25\"#\"global_average_pooling2d\"\n",
        "extractor = keras.Model(inputs=cnn.input,\n",
        "                        outputs=cnn.get_layer(final_layer).output)\n",
        "features = extractor(np.array(training_data))\n",
        "\n",
        "best_rfcnn = RandomForestClassifier(max_depth=70, min_samples_leaf=4, min_samples_split=10,\n",
        "                       n_estimators=31)\n",
        "best_rfcnn.fit(np.array(features), training_labels)\n",
        "pred_probs_rfcnn = best_rfcnn.predict_proba(features_test)[:, 1]\n",
        "print(\"Performance on the Training set\")\n",
        "print(classification_report(training_labels,  best_rfcnn.predict(features)))\n",
        "\n",
        "features_test = np.array(extractor(np.array(test_data)))\n",
        "print(\"Performance on the Test set\")\n",
        "print(classification_report(test_labels,  best_rfcnn.predict(features_test)))"
      ],
      "metadata": {
        "colab": {
          "base_uri": "https://localhost:8080/"
        },
        "id": "SXmdSjvDLN0m",
        "outputId": "2791f312-e77b-4c13-b276-d2e0f7eafee8"
      },
      "execution_count": null,
      "outputs": [
        {
          "output_type": "stream",
          "name": "stdout",
          "text": [
            "Performance on the Training set\n",
            "              precision    recall  f1-score   support\n",
            "\n",
            "         0.0       0.96      0.97      0.96      1079\n",
            "         1.0       0.95      0.94      0.94       681\n",
            "\n",
            "    accuracy                           0.96      1760\n",
            "   macro avg       0.96      0.95      0.95      1760\n",
            "weighted avg       0.96      0.96      0.96      1760\n",
            "\n",
            "Performance on the Test set\n",
            "              precision    recall  f1-score   support\n",
            "\n",
            "         0.0       0.91      0.95      0.93        99\n",
            "         1.0       0.90      0.84      0.87        56\n",
            "\n",
            "    accuracy                           0.91       155\n",
            "   macro avg       0.91      0.89      0.90       155\n",
            "weighted avg       0.91      0.91      0.91       155\n",
            "\n"
          ]
        }
      ]
    },
    {
      "cell_type": "markdown",
      "source": [
        "# MobNetV2"
      ],
      "metadata": {
        "id": "DN9tn3klSlnS"
      }
    },
    {
      "cell_type": "markdown",
      "source": [
        "### Transfer Learning"
      ],
      "metadata": {
        "id": "HkVy88NYklBy"
      }
    },
    {
      "cell_type": "code",
      "source": [
        "# balance training classes according to number of litter patches=681\n",
        "def balance_train_classes(training_data, training_labels):\n",
        "  x_train = []\n",
        "  x_train_lab = []\n",
        "  count1 = 0\n",
        "  count2 = 0\n",
        "  for i in range(len(training_data)):\n",
        "    if training_labels[i] == 0 and count1 <= 681:\n",
        "      x_train.append(training_data[i])\n",
        "      x_train_lab.append(0)\n",
        "      count1 += 1\n",
        "    elif training_labels[i] == 1 and count2 <= 681:\n",
        "      x_train.append(training_data[i])\n",
        "      x_train_lab.append(1)\n",
        "      count2 += 1\n",
        "  return x_train, x_train_lab"
      ],
      "metadata": {
        "id": "BLF9RNyvAGey"
      },
      "execution_count": null,
      "outputs": []
    },
    {
      "cell_type": "code",
      "source": [
        "data_augmentation = keras.Sequential(\n",
        "    [ layers.RandomFlip(\"horizontal\"),\n",
        "      layers.RandomRotation(0.2),\n",
        "      layers.RandomContrast(0.1),\n",
        "    ]\n",
        ")\n",
        "\n",
        "def make_mobilenetv2(training=True):\n",
        "  if training:\n",
        "    inputs = keras.Input(shape = (256, 256, 3))\n",
        "    inputs = data_augmentation(inputs)\n",
        "\n",
        "    # load pre-trained model and weights without last layer\n",
        "    mobnet = MobileNetV2(weights='imagenet', include_top=False, input_shape=(256, 256, 3))\n",
        "    mobnet.trainable = False\n",
        "    x = mobnet(inputs, training=False)\n",
        "    x = keras.layers.GlobalAveragePooling2D()(x)\n",
        "    # A Dense classifier with a single unit (binary classification)\n",
        "    outputs = keras.layers.Dense(1, activation='sigmoid')(x)\n",
        "\n",
        "    # final model to train\n",
        "    tf_model_mobnet = keras.Model(inputs, outputs)\n",
        "    \n",
        "  else:\n",
        "    inputs = keras.Input(shape = (256, 256, 3))\n",
        "    x = data_augmentation(inputs)\n",
        "\n",
        "    # load pre-trained model and weights without last layer\n",
        "    x = MobileNetV2(weights='imagenet', include_top=False, input_shape=(256, 256, 3))(x)\n",
        "    x = keras.layers.GlobalAveragePooling2D()(x)\n",
        "    # A Dense classifier with a single unit (binary classification)\n",
        "    outputs = keras.layers.Dense(1, activation='sigmoid')(x)    \n",
        "\n",
        "    # final model\n",
        "    tf_model_mobnet = keras.Model(inputs, outputs)\n",
        "  return tf_model_mobnet"
      ],
      "metadata": {
        "id": "0S4-23gDsmof"
      },
      "execution_count": null,
      "outputs": []
    },
    {
      "cell_type": "code",
      "source": [
        "from  tensorflow.keras.applications import mobilenet_v2\n",
        "\n",
        "#####################################################################################################\n",
        "#Transfer Learning\n",
        "#####################################################################################################\n",
        "epochs_tl = 30\n",
        "callbacks = [\n",
        "    keras.callbacks.ModelCheckpoint(\"code/ckpts/warmup_mobnet/mobnetv2_{epoch}.h5\", save_best_only=True),\n",
        "    keras.callbacks.ReduceLROnPlateau(),\n",
        "]\n",
        "\n",
        "tensorboard = keras.callbacks.TensorBoard(log_dir='./logs',\n",
        "                 histogram_freq=1, \n",
        "                 write_graph=True, \n",
        "                 write_images=False)\n",
        "\n",
        "x_train, x_train_lab = balance_train_classes(training_data, training_labels)\n",
        "x_train = mobilenet_v2.preprocess_input(np.array(x_train))\n",
        "x_val = mobilenet_v2.preprocess_input(np.array(validation_data))\n",
        "\n",
        "tf_model_mobnet = make_mobilenetv2()\n",
        "tf_model_mobnet.compile(\n",
        "    optimizer=keras.optimizers.Adam(),\n",
        "    loss=keras.losses.BinaryCrossentropy(),\n",
        "    metrics=[keras.metrics.BinaryAccuracy()]\n",
        "    )\n",
        "\n",
        "hist_mobnet1 = tf_model_mobnet.fit(\n",
        "    x=x_train,\n",
        "    y=np.array(x_train_lab),\n",
        "    epochs=epochs_tl,\n",
        "    callbacks=[callbacks, tensorboard],\n",
        "    shuffle=False, batch_size=32,\n",
        "    validation_data=(x_val, np.array(validation_labels))\n",
        ")\n",
        "# save history \n",
        "with open('code/ckpts/trainHistoryMobNetV2', 'wb') as file_pi:\n",
        "    pickle.dump(hist_mobnet1.history, file_pi)"
      ],
      "metadata": {
        "colab": {
          "base_uri": "https://localhost:8080/"
        },
        "id": "ITXkZUYckxhJ",
        "outputId": "9f20f76b-ed33-4dbf-975b-a9561da018d2"
      },
      "execution_count": null,
      "outputs": [
        {
          "output_type": "stream",
          "name": "stdout",
          "text": [
            "WARNING:tensorflow:`input_shape` is undefined or non-square, or `rows` is not in [96, 128, 160, 192, 224]. Weights for input shape (224, 224) will be loaded as the default.\n"
          ]
        },
        {
          "output_type": "stream",
          "name": "stderr",
          "text": [
            "WARNING:tensorflow:`input_shape` is undefined or non-square, or `rows` is not in [96, 128, 160, 192, 224]. Weights for input shape (224, 224) will be loaded as the default.\n"
          ]
        },
        {
          "output_type": "stream",
          "name": "stdout",
          "text": [
            "Epoch 1/30\n",
            "43/43 [==============================] - 13s 222ms/step - loss: 0.5016 - binary_accuracy: 0.7483 - val_loss: 0.6897 - val_binary_accuracy: 0.6065 - lr: 0.0010\n",
            "Epoch 2/30\n",
            "43/43 [==============================] - 6s 136ms/step - loss: 0.4242 - binary_accuracy: 0.7916 - val_loss: 0.5509 - val_binary_accuracy: 0.7097 - lr: 0.0010\n",
            "Epoch 3/30\n",
            "43/43 [==============================] - 5s 115ms/step - loss: 0.3718 - binary_accuracy: 0.8254 - val_loss: 0.5114 - val_binary_accuracy: 0.7484 - lr: 0.0010\n",
            "Epoch 4/30\n",
            "43/43 [==============================] - 5s 114ms/step - loss: 0.3542 - binary_accuracy: 0.8371 - val_loss: 0.4872 - val_binary_accuracy: 0.7677 - lr: 0.0010\n",
            "Epoch 5/30\n",
            "43/43 [==============================] - 6s 142ms/step - loss: 0.3418 - binary_accuracy: 0.8459 - val_loss: 0.4675 - val_binary_accuracy: 0.7677 - lr: 0.0010\n",
            "Epoch 6/30\n",
            "43/43 [==============================] - 6s 150ms/step - loss: 0.3316 - binary_accuracy: 0.8555 - val_loss: 0.4510 - val_binary_accuracy: 0.7871 - lr: 0.0010\n",
            "Epoch 7/30\n",
            "43/43 [==============================] - 5s 113ms/step - loss: 0.3228 - binary_accuracy: 0.8569 - val_loss: 0.4370 - val_binary_accuracy: 0.8000 - lr: 0.0010\n",
            "Epoch 8/30\n",
            "43/43 [==============================] - 5s 114ms/step - loss: 0.3148 - binary_accuracy: 0.8606 - val_loss: 0.4249 - val_binary_accuracy: 0.8000 - lr: 0.0010\n",
            "Epoch 9/30\n",
            "43/43 [==============================] - 5s 116ms/step - loss: 0.3075 - binary_accuracy: 0.8672 - val_loss: 0.4144 - val_binary_accuracy: 0.8065 - lr: 0.0010\n",
            "Epoch 10/30\n",
            "43/43 [==============================] - 5s 115ms/step - loss: 0.3008 - binary_accuracy: 0.8694 - val_loss: 0.4051 - val_binary_accuracy: 0.8065 - lr: 0.0010\n",
            "Epoch 11/30\n",
            "43/43 [==============================] - 5s 116ms/step - loss: 0.2944 - binary_accuracy: 0.8753 - val_loss: 0.3969 - val_binary_accuracy: 0.8194 - lr: 0.0010\n",
            "Epoch 12/30\n",
            "43/43 [==============================] - 5s 115ms/step - loss: 0.2885 - binary_accuracy: 0.8760 - val_loss: 0.3896 - val_binary_accuracy: 0.8194 - lr: 0.0010\n",
            "Epoch 13/30\n",
            "43/43 [==============================] - 5s 119ms/step - loss: 0.2829 - binary_accuracy: 0.8789 - val_loss: 0.3830 - val_binary_accuracy: 0.8194 - lr: 0.0010\n",
            "Epoch 14/30\n",
            "43/43 [==============================] - 5s 115ms/step - loss: 0.2775 - binary_accuracy: 0.8863 - val_loss: 0.3770 - val_binary_accuracy: 0.8194 - lr: 0.0010\n",
            "Epoch 15/30\n",
            "43/43 [==============================] - 5s 116ms/step - loss: 0.2725 - binary_accuracy: 0.8885 - val_loss: 0.3716 - val_binary_accuracy: 0.8258 - lr: 0.0010\n",
            "Epoch 16/30\n",
            "43/43 [==============================] - 7s 171ms/step - loss: 0.2677 - binary_accuracy: 0.8899 - val_loss: 0.3666 - val_binary_accuracy: 0.8258 - lr: 0.0010\n",
            "Epoch 17/30\n",
            "43/43 [==============================] - 5s 114ms/step - loss: 0.2631 - binary_accuracy: 0.8907 - val_loss: 0.3620 - val_binary_accuracy: 0.8258 - lr: 0.0010\n",
            "Epoch 18/30\n",
            "43/43 [==============================] - 8s 189ms/step - loss: 0.2587 - binary_accuracy: 0.8936 - val_loss: 0.3578 - val_binary_accuracy: 0.8258 - lr: 0.0010\n",
            "Epoch 19/30\n",
            "43/43 [==============================] - 6s 146ms/step - loss: 0.2546 - binary_accuracy: 0.8936 - val_loss: 0.3539 - val_binary_accuracy: 0.8258 - lr: 0.0010\n",
            "Epoch 20/30\n",
            "43/43 [==============================] - 8s 179ms/step - loss: 0.2506 - binary_accuracy: 0.8966 - val_loss: 0.3502 - val_binary_accuracy: 0.8323 - lr: 0.0010\n",
            "Epoch 21/30\n",
            "43/43 [==============================] - 8s 183ms/step - loss: 0.2468 - binary_accuracy: 0.8980 - val_loss: 0.3467 - val_binary_accuracy: 0.8323 - lr: 0.0010\n",
            "Epoch 22/30\n",
            "43/43 [==============================] - 5s 115ms/step - loss: 0.2431 - binary_accuracy: 0.9024 - val_loss: 0.3435 - val_binary_accuracy: 0.8323 - lr: 0.0010\n",
            "Epoch 23/30\n",
            "43/43 [==============================] - 5s 107ms/step - loss: 0.2396 - binary_accuracy: 0.9054 - val_loss: 0.3404 - val_binary_accuracy: 0.8387 - lr: 0.0010\n",
            "Epoch 24/30\n",
            "43/43 [==============================] - 5s 108ms/step - loss: 0.2362 - binary_accuracy: 0.9068 - val_loss: 0.3375 - val_binary_accuracy: 0.8387 - lr: 0.0010\n",
            "Epoch 25/30\n",
            "43/43 [==============================] - 5s 109ms/step - loss: 0.2330 - binary_accuracy: 0.9076 - val_loss: 0.3348 - val_binary_accuracy: 0.8387 - lr: 0.0010\n",
            "Epoch 26/30\n",
            "43/43 [==============================] - 5s 109ms/step - loss: 0.2299 - binary_accuracy: 0.9090 - val_loss: 0.3321 - val_binary_accuracy: 0.8387 - lr: 0.0010\n",
            "Epoch 27/30\n",
            "43/43 [==============================] - 5s 109ms/step - loss: 0.2269 - binary_accuracy: 0.9105 - val_loss: 0.3296 - val_binary_accuracy: 0.8452 - lr: 0.0010\n",
            "Epoch 28/30\n",
            "43/43 [==============================] - 5s 107ms/step - loss: 0.2240 - binary_accuracy: 0.9120 - val_loss: 0.3271 - val_binary_accuracy: 0.8516 - lr: 0.0010\n",
            "Epoch 29/30\n",
            "43/43 [==============================] - 5s 109ms/step - loss: 0.2212 - binary_accuracy: 0.9149 - val_loss: 0.3248 - val_binary_accuracy: 0.8581 - lr: 0.0010\n",
            "Epoch 30/30\n",
            "43/43 [==============================] - 5s 126ms/step - loss: 0.2185 - binary_accuracy: 0.9164 - val_loss: 0.3225 - val_binary_accuracy: 0.8581 - lr: 0.0010\n"
          ]
        }
      ]
    },
    {
      "cell_type": "code",
      "source": [
        "####################################################################################################                \n",
        "#Fine Tuning \n",
        "####################################################################################################\n",
        "\n",
        "epochs_ft = 10\n",
        "\n",
        "# Unfreeze the base model\n",
        "tf_model_mobnet.trainable = True\n",
        "\n",
        "callbacks = [\n",
        "    keras.callbacks.ModelCheckpoint(\"code/ckpts/finetuning_mobnet/mobnetv2_{epoch}.h5\", save_best_only=True),\n",
        "    keras.callbacks.ReduceLROnPlateau(),\n",
        "]\n",
        "\n",
        "tf_model_mobnet.compile(optimizer=keras.optimizers.Adam(1e-5), \n",
        "              loss=keras.losses.BinaryCrossentropy(),\n",
        "              metrics=[keras.metrics.BinaryAccuracy()])\n",
        "\n",
        "hist_mobnet2 = tf_model_mobnet.fit(\n",
        "    x=x_train,\n",
        "    y=np.array(x_train_lab), \n",
        "    epochs=epochs_ft, \n",
        "    callbacks=[callbacks, tensorboard], \n",
        "    shuffle=False, \n",
        "    batch_size=32, \n",
        "    validation_data=(x_val, np.array(validation_labels)),\n",
        "    )\n",
        "    \n",
        "# save history \n",
        "with open('code/ckpts/trainHistoryMobNetV2_ft', 'wb') as file_pi:\n",
        "    pickle.dump(hist_mobnet2.history, file_pi)"
      ],
      "metadata": {
        "colab": {
          "base_uri": "https://localhost:8080/"
        },
        "id": "T0T3GSDa3QFP",
        "outputId": "b63f48ec-989a-4cfd-a58b-5bea0a4f7b87"
      },
      "execution_count": null,
      "outputs": [
        {
          "output_type": "stream",
          "name": "stdout",
          "text": [
            "Epoch 1/10\n",
            "43/43 [==============================] - 22s 402ms/step - loss: 0.1863 - binary_accuracy: 0.9244 - val_loss: 1.1085 - val_binary_accuracy: 0.6581 - lr: 1.0000e-05\n",
            "Epoch 2/10\n",
            "43/43 [==============================] - 16s 370ms/step - loss: 0.2028 - binary_accuracy: 0.9178 - val_loss: 0.8889 - val_binary_accuracy: 0.6774 - lr: 1.0000e-05\n",
            "Epoch 3/10\n",
            "43/43 [==============================] - 15s 353ms/step - loss: 0.1833 - binary_accuracy: 0.9230 - val_loss: 0.9217 - val_binary_accuracy: 0.6774 - lr: 1.0000e-05\n",
            "Epoch 4/10\n",
            "43/43 [==============================] - 16s 367ms/step - loss: 0.1990 - binary_accuracy: 0.9149 - val_loss: 0.6453 - val_binary_accuracy: 0.7742 - lr: 1.0000e-05\n",
            "Epoch 5/10\n",
            "43/43 [==============================] - 14s 333ms/step - loss: 0.1700 - binary_accuracy: 0.9325 - val_loss: 0.6707 - val_binary_accuracy: 0.7871 - lr: 1.0000e-05\n",
            "Epoch 6/10\n",
            "43/43 [==============================] - 15s 354ms/step - loss: 0.1511 - binary_accuracy: 0.9406 - val_loss: 0.5533 - val_binary_accuracy: 0.8129 - lr: 1.0000e-05\n",
            "Epoch 7/10\n",
            "43/43 [==============================] - 15s 349ms/step - loss: 0.1493 - binary_accuracy: 0.9435 - val_loss: 0.4620 - val_binary_accuracy: 0.8387 - lr: 1.0000e-05\n",
            "Epoch 8/10\n",
            "43/43 [==============================] - 15s 354ms/step - loss: 0.1356 - binary_accuracy: 0.9457 - val_loss: 0.3077 - val_binary_accuracy: 0.8839 - lr: 1.0000e-05\n",
            "Epoch 9/10\n",
            "43/43 [==============================] - 15s 353ms/step - loss: 0.1016 - binary_accuracy: 0.9663 - val_loss: 0.2932 - val_binary_accuracy: 0.8903 - lr: 1.0000e-05\n",
            "Epoch 10/10\n",
            "43/43 [==============================] - 14s 334ms/step - loss: 0.0746 - binary_accuracy: 0.9802 - val_loss: 0.3736 - val_binary_accuracy: 0.8839 - lr: 1.0000e-05\n"
          ]
        }
      ]
    },
    {
      "cell_type": "code",
      "source": [
        "hist_mobnet1 = pd.read_pickle('code/ckpts/trainHistoryMobNetV2')\n",
        "hist_mobnet2 = pd.read_pickle('code/ckpts/trainHistoryMobNetV2_ft')\n",
        "\n",
        "plt.figure(figsize=(20,10))\n",
        "sns.set_style(\"darkgrid\")\n",
        "plt.subplot(121)\n",
        "plt.plot(hist_mobnet1['binary_accuracy'] + hist_mobnet2['binary_accuracy'])\n",
        "plt.plot(hist_mobnet1['val_binary_accuracy'] + hist_mobnet2['val_binary_accuracy'])\n",
        "plt.title('MobNetV2 Accuracy', fontsize=20)\n",
        "plt.ylabel('accuracy', fontsize=12)\n",
        "plt.xlabel('epoch', fontsize=12)\n",
        "plt.legend(['training', 'validation'], loc='upper left', fontsize='large')\n",
        "plt.subplot(122)\n",
        "plt.plot(hist_mobnet1['loss'] + hist_mobnet2['loss'])\n",
        "plt.plot(hist_mobnet1['val_loss'] + hist_mobnet2['val_loss'])\n",
        "plt.title('MobNetV2 Loss', fontsize=20)\n",
        "plt.ylabel('loss', fontsize=12)\n",
        "plt.xlabel('epoch', fontsize=12)\n",
        "plt.legend(['training', 'validation'], loc='upper right', fontsize='large')\n",
        "plt.savefig(\"code/figures/MobNetV2_training.png\")"
      ],
      "metadata": {
        "colab": {
          "base_uri": "https://localhost:8080/",
          "height": 630
        },
        "id": "uFaMhnM19FzC",
        "outputId": "38b44250-8fc5-4358-d9b8-6a4af73234b3"
      },
      "execution_count": null,
      "outputs": [
        {
          "output_type": "display_data",
          "data": {
            "text/plain": [
              "<Figure size 1440x720 with 2 Axes>"
            ],
            "image/png": "[encoded data removed]"
          },
          "metadata": {}
        }
      ]
    },
    {
      "cell_type": "code",
      "source": [
        "tf_model_mobnet = make_mobilenetv2(training=False)\n",
        "tf_model_mobnet.load_weights(\"code/ckpts/finetuning_mobnet/mobnetv2_9_balanced.h5\")\n",
        "#pred_probs_mobnet, pred_class_mobnet = get_preditictions(tf_model_mobnet, training_data, training_labels)"
      ],
      "metadata": {
        "colab": {
          "base_uri": "https://localhost:8080/"
        },
        "id": "qeX0ijG5ktd4",
        "outputId": "aebc056e-bbe8-4e94-cc8f-2312e406bd17"
      },
      "execution_count": null,
      "outputs": [
        {
          "output_type": "stream",
          "name": "stdout",
          "text": [
            "WARNING:tensorflow:`input_shape` is undefined or non-square, or `rows` is not in [96, 128, 160, 192, 224]. Weights for input shape (224, 224) will be loaded as the default.\n",
            "Downloading data from https://storage.googleapis.com/tensorflow/keras-applications/mobilenet_v2/mobilenet_v2_weights_tf_dim_ordering_tf_kernels_1.0_224_no_top.h5\n",
            "9412608/9406464 [==============================] - 0s 0us/step\n",
            "9420800/9406464 [==============================] - 0s 0us/step\n"
          ]
        }
      ]
    },
    {
      "cell_type": "markdown",
      "source": [
        "#### Predictions and Performance on training and test sets"
      ],
      "metadata": {
        "id": "EZLhbywqTExc"
      }
    },
    {
      "cell_type": "code",
      "source": [
        "from  tensorflow.keras.applications import mobilenet_v2\n",
        "test_data1 = mobilenet_v2.preprocess_input(np.array(test_data))\n",
        "\n",
        "x_train, x_train_lab = balance_train_classes(training_data, training_labels)\n",
        "x_train = mobilenet_v2.preprocess_input(np.array(x_train))\n",
        "\n",
        "pred_probs_mobnet, pred_class_mobnet = get_preditictions(tf_model_mobnet, x_train, x_train_lab)\n",
        "pred_probs_mobnet, pred_class_mobnet = get_preditictions(tf_model_mobnet, test_data1, test_labels)\n"
      ],
      "metadata": {
        "colab": {
          "base_uri": "https://localhost:8080/"
        },
        "id": "KnFhn9QvBISm",
        "outputId": "af869280-a491-403e-cec1-46a9eee32d6e"
      },
      "execution_count": null,
      "outputs": [
        {
          "output_type": "stream",
          "name": "stdout",
          "text": [
            "              precision    recall  f1-score   support\n",
            "\n",
            "           0       1.00      0.94      0.97       682\n",
            "           1       0.94      1.00      0.97       681\n",
            "\n",
            "    accuracy                           0.97      1363\n",
            "   macro avg       0.97      0.97      0.97      1363\n",
            "weighted avg       0.97      0.97      0.97      1363\n",
            "\n",
            "              precision    recall  f1-score   support\n",
            "\n",
            "         0.0       0.97      0.77      0.86        99\n",
            "         1.0       0.70      0.96      0.81        56\n",
            "\n",
            "    accuracy                           0.84       155\n",
            "   macro avg       0.84      0.87      0.84       155\n",
            "weighted avg       0.88      0.84      0.84       155\n",
            "\n"
          ]
        }
      ]
    },
    {
      "cell_type": "markdown",
      "source": [
        "### MobNetV2 + Random Forest"
      ],
      "metadata": {
        "id": "zcMgof1No1tE"
      }
    },
    {
      "cell_type": "code",
      "source": [
        "# extract features from last layer\n",
        "final_layer = \"global_average_pooling2d_24\"\n",
        "extractor_mobnet = keras.Model(inputs=tf_model_mobnet.input,\n",
        "                        outputs=tf_model_mobnet.get_layer(final_layer).output)\n",
        "features_mobnet = []\n",
        "step = 300\n",
        "for i in range(0, len(training_data), step):\n",
        "    if i + step >= len(training_data):\n",
        "        end = len(training_data)\n",
        "    else: \n",
        "        end = i + step\n",
        "    features_mobnet.append(np.array(extractor_mobnet(np.array(training_data[i:end]))))\n",
        "features_mobnet = np.array(list(itertools.chain(*features_mobnet)))\n",
        "features_mobnet_test = np.array(extractor_mobnet(np.array(test_data)))\n",
        "\n",
        "# train random forest with mobnetfeatures \n",
        "rfmobnet = RandomForestClassifier(n_estimators=100, max_features=50) #\n",
        "\n",
        "# Random search of parameters, using 3 fold cross validation, \n",
        "# search across 100 different combinations, and use all available cores\n",
        "rfmobnet_random = RandomizedSearchCV(estimator = rfmobnet, param_distributions = random_grid, n_iter = 100, cv = 3, random_state=42, n_jobs = -1) #verbose=2, \n",
        "# Fit the random search model\n",
        "rfmobnet_random.fit(np.array(features_mobnet), training_labels)\n",
        "\n",
        "best_rfmobnet = rfmobnet_random.best_estimator_\n",
        "best_rfmobnet.fit(np.array(features_mobnet), training_labels)\n",
        "\n",
        "pred_probs_rfmobnet = best_rfmobnet.predict_proba(features_mobnet_test)[:, 1]\n",
        "accuracy_score(test_labels, best_rfmobnet.predict(features_mobnet_test))\n",
        "print(classification_report(test_labels,  best_rfmobnet.predict(features_mobnet_test)))"
      ],
      "metadata": {
        "colab": {
          "base_uri": "https://localhost:8080/"
        },
        "id": "RE7kGjxoo5Ib",
        "outputId": "32d4cf22-8eae-4d2f-c778-f6e815d7379a"
      },
      "execution_count": null,
      "outputs": [
        {
          "output_type": "stream",
          "name": "stdout",
          "text": [
            "              precision    recall  f1-score   support\n",
            "\n",
            "         0.0       0.85      0.88      0.87        99\n",
            "         1.0       0.77      0.73      0.75        56\n",
            "\n",
            "    accuracy                           0.83       155\n",
            "   macro avg       0.81      0.81      0.81       155\n",
            "weighted avg       0.82      0.83      0.82       155\n",
            "\n"
          ]
        }
      ]
    },
    {
      "cell_type": "code",
      "source": [
        "best_rfmobnet"
      ],
      "metadata": {
        "colab": {
          "base_uri": "https://localhost:8080/"
        },
        "id": "Qw4JsPIWl38J",
        "outputId": "71b36d23-0969-4b75-e33b-93dd2daf5e2c"
      },
      "execution_count": null,
      "outputs": [
        {
          "output_type": "execute_result",
          "data": {
            "text/plain": [
              "RandomForestClassifier(bootstrap=False, max_depth=30, max_features='sqrt',\n",
              "                       min_samples_leaf=4, n_estimators=52)"
            ]
          },
          "metadata": {},
          "execution_count": 82
        }
      ]
    },
    {
      "cell_type": "markdown",
      "source": [
        "#### Predictions and Performance on training and test sets"
      ],
      "metadata": {
        "id": "bL8cb31KUMwv"
      }
    },
    {
      "cell_type": "code",
      "source": [
        "# extract features from last layer\n",
        "final_layer = \"global_average_pooling2d\"\n",
        "extractor_mobnet = keras.Model(inputs=tf_model_mobnet.input,\n",
        "                        outputs=tf_model_mobnet.get_layer(final_layer).output)\n",
        "features_mobnet = []\n",
        "step = 300\n",
        "for i in range(0, len(training_data), step):\n",
        "    if i + step >= len(training_data):\n",
        "        end = len(training_data)\n",
        "    else: \n",
        "        end = i + step\n",
        "    features_mobnet.append(np.array(extractor_mobnet(np.array(training_data[i:end]))))\n",
        "features_mobnet = np.array(list(itertools.chain(*features_mobnet)))\n",
        "features_mobnet_test = np.array(extractor_mobnet(np.array(test_data)))\n",
        "\n",
        "# train random forest with mobnetfeatures \n",
        "best_rfmobnet = RandomForestClassifier(bootstrap=False, max_depth=30, max_features='sqrt',\n",
        "                       min_samples_leaf=4, n_estimators=52)\n",
        "\n",
        "best_rfmobnet.fit(np.array(features_mobnet), training_labels)\n",
        "\n",
        "pred_probs_rfmobnet = best_rfmobnet.predict_proba(features_mobnet)[:, 1]\n",
        "print(\"Performances on Training\")\n",
        "print(classification_report(training_labels,  best_rfmobnet.predict(features_mobnet)))\n",
        "\n",
        "pred_probs_rfmobnet = best_rfmobnet.predict_proba(features_mobnet_test)[:, 1]\n",
        "print(\"Performances on Test\")\n",
        "print(classification_report(test_labels,  best_rfmobnet.predict(features_mobnet_test)))"
      ],
      "metadata": {
        "colab": {
          "base_uri": "https://localhost:8080/"
        },
        "id": "MWkjH1wcUVJg",
        "outputId": "4950e01e-93a2-403c-c8a1-05078e436267"
      },
      "execution_count": null,
      "outputs": [
        {
          "output_type": "stream",
          "name": "stdout",
          "text": [
            "Performances on Training\n",
            "              precision    recall  f1-score   support\n",
            "\n",
            "         0.0       1.00      1.00      1.00      1079\n",
            "         1.0       1.00      1.00      1.00       681\n",
            "\n",
            "    accuracy                           1.00      1760\n",
            "   macro avg       1.00      1.00      1.00      1760\n",
            "weighted avg       1.00      1.00      1.00      1760\n",
            "\n",
            "Performances on Test\n",
            "              precision    recall  f1-score   support\n",
            "\n",
            "         0.0       0.85      0.91      0.88        99\n",
            "         1.0       0.82      0.71      0.76        56\n",
            "\n",
            "    accuracy                           0.84       155\n",
            "   macro avg       0.83      0.81      0.82       155\n",
            "weighted avg       0.84      0.84      0.84       155\n",
            "\n"
          ]
        }
      ]
    },
    {
      "cell_type": "markdown",
      "source": [
        "# Semi-Supervised \n"
      ],
      "metadata": {
        "id": "MZRRVHutrYa_"
      }
    },
    {
      "cell_type": "code",
      "source": [
        "# unlabeled\n",
        "X, Y, _ = prepareDataNN(df_unlab)\n",
        "\n",
        "# merge labeled and unlabeled datasets\n",
        "training_data_ss = training_data + X \n",
        "training_labels_ss = training_labels + Y"
      ],
      "metadata": {
        "id": "FPDnrmfurhCG"
      },
      "execution_count": null,
      "outputs": []
    },
    {
      "cell_type": "markdown",
      "source": [
        "### CNN + Random Forest Semi-Supervised"
      ],
      "metadata": {
        "id": "GJpFdI6mAaI0"
      }
    },
    {
      "cell_type": "code",
      "source": [
        "from sklearn.semi_supervised import SelfTrainingClassifier\n",
        "import itertools\n",
        "\n",
        "#model = make_model(input_shape=image_size)\n",
        "#model.load_weights(\"code/ckpts/cnn2_kf3.h5\")\n",
        "\n",
        "final_layer = \"dense\"\n",
        "extractor = keras.Model(inputs=model.input,\n",
        "                        outputs=model.get_layer(final_layer).output)\n",
        "features_cnn = []\n",
        "step = 300\n",
        "for i in range(0, len(training_data_ss), step):\n",
        "    if i + step >= len(training_data_ss):\n",
        "        end = len(training_data_ss)\n",
        "    else: \n",
        "        end = i + step\n",
        "    features_cnn.append(np.array(extractor(np.array(training_data_ss[i:end]))))\n",
        "features_cnn = np.array(list(itertools.chain(*features_cnn)))"
      ],
      "metadata": {
        "id": "KCrKcw6JAhHo"
      },
      "execution_count": null,
      "outputs": []
    },
    {
      "cell_type": "code",
      "source": [
        "features_test_cnn = np.array(extractor(np.array(test_data)))\n",
        "self_training_model_cnn = SelfTrainingClassifier(base_estimator=best_rfcnn)\n",
        "self_training_model_cnn.fit(features_cnn, training_labels_ss)\n",
        "pred_probs_rfcnn_ss = self_training_model_cnn.predict_proba(features_test_cnn)[:, 1]\n",
        "\n",
        "print(\"Performances on Training\")\n",
        "print(classification_report(training_labels_ss,  self_training_model_cnn.predict(features_cnn)))\n",
        "print(\"Performances on Test\")\n",
        "print(classification_report(test_labels,  self_training_model_cnn.predict(features_test_cnn)))"
      ],
      "metadata": {
        "colab": {
          "base_uri": "https://localhost:8080/"
        },
        "id": "UkGd_skKAxNG",
        "outputId": "bf985fc3-a3f7-4833-ff20-7ad56bdf0901"
      },
      "execution_count": null,
      "outputs": [
        {
          "output_type": "stream",
          "name": "stdout",
          "text": [
            "Performances on Training\n",
            "              precision    recall  f1-score   support\n",
            "\n",
            "        -1.0       0.00      0.00      0.00      4986\n",
            "         0.0       0.20      0.96      0.33      1079\n",
            "         1.0       0.35      0.81      0.49       681\n",
            "\n",
            "    accuracy                           0.23      6746\n",
            "   macro avg       0.18      0.59      0.27      6746\n",
            "weighted avg       0.07      0.23      0.10      6746\n",
            "\n",
            "Performances on Test\n",
            "              precision    recall  f1-score   support\n",
            "\n",
            "         0.0       0.84      0.89      0.86        99\n",
            "         1.0       0.78      0.70      0.74        56\n",
            "\n",
            "    accuracy                           0.82       155\n",
            "   macro avg       0.81      0.79      0.80       155\n",
            "weighted avg       0.82      0.82      0.82       155\n",
            "\n"
          ]
        },
        {
          "output_type": "stream",
          "name": "stderr",
          "text": [
            "/usr/local/lib/python3.7/dist-packages/sklearn/metrics/_classification.py:1318: UndefinedMetricWarning: Precision and F-score are ill-defined and being set to 0.0 in labels with no predicted samples. Use `zero_division` parameter to control this behavior.\n",
            "  _warn_prf(average, modifier, msg_start, len(result))\n",
            "/usr/local/lib/python3.7/dist-packages/sklearn/metrics/_classification.py:1318: UndefinedMetricWarning: Precision and F-score are ill-defined and being set to 0.0 in labels with no predicted samples. Use `zero_division` parameter to control this behavior.\n",
            "  _warn_prf(average, modifier, msg_start, len(result))\n",
            "/usr/local/lib/python3.7/dist-packages/sklearn/metrics/_classification.py:1318: UndefinedMetricWarning: Precision and F-score are ill-defined and being set to 0.0 in labels with no predicted samples. Use `zero_division` parameter to control this behavior.\n",
            "  _warn_prf(average, modifier, msg_start, len(result))\n"
          ]
        }
      ]
    },
    {
      "cell_type": "code",
      "source": [
        "pred_probs_rfcnn_ss = self_training_model_cnn.predict_proba(features_test)[:, 1]"
      ],
      "metadata": {
        "id": "aFQKUPGlBfVF"
      },
      "execution_count": null,
      "outputs": []
    },
    {
      "cell_type": "markdown",
      "source": [
        "### MobileNetv2 + Random Forest Semi-Supervised"
      ],
      "metadata": {
        "id": "NJF0XV-DATj-"
      }
    },
    {
      "cell_type": "code",
      "source": [
        "from sklearn.semi_supervised import SelfTrainingClassifier\n",
        "import itertools\n",
        "\n",
        "final_layer = \"global_average_pooling2d\"\n",
        "extractor_mobnet = keras.Model(inputs=tf_model_mobnet.input,\n",
        "                        outputs=tf_model_mobnet.get_layer(final_layer).output)\n",
        "features_mobnet = []\n",
        "step = 300\n",
        "for i in range(0, len(training_data_ss), step):\n",
        "    if i + step >= len(training_data_ss):\n",
        "        end = len(training_data_ss)\n",
        "    else: \n",
        "        end = i + step\n",
        "    features_mobnet.append(np.array(extractor_mobnet(np.array(training_data_ss[i:end]))))\n",
        "features_mobnet = np.array(list(itertools.chain(*features_mobnet)))"
      ],
      "metadata": {
        "id": "D9AzbBgTrof7"
      },
      "execution_count": null,
      "outputs": []
    },
    {
      "cell_type": "code",
      "source": [
        "features_test_mobnet = np.array(extractor_mobnet(np.array(test_data)))\n",
        "self_training_model = SelfTrainingClassifier(base_estimator=best_rfmobnet)\n",
        "self_training_model.fit(features_mobnet, training_labels_ss)\n",
        "pred_probs_rfmobnet_ss = self_training_model.predict_proba(features_test_mobnet)[:, 1]\n",
        "\n",
        "print(\"Performances on Training\")\n",
        "print(classification_report(training_labels_ss,  self_training_model.predict(features_mobnet)))\n",
        "print(\"Performances on Test\")\n",
        "print(classification_report(test_labels,  self_training_model.predict(features_test_mobnet)))"
      ],
      "metadata": {
        "colab": {
          "base_uri": "https://localhost:8080/"
        },
        "id": "1lcLbndlsT_8",
        "outputId": "e9db012e-8400-48da-df0d-5ef364783842"
      },
      "execution_count": null,
      "outputs": [
        {
          "output_type": "stream",
          "name": "stdout",
          "text": [
            "Performances on Training\n",
            "              precision    recall  f1-score   support\n",
            "\n",
            "        -1.0       0.00      0.00      0.00      4986\n",
            "         0.0       0.25      1.00      0.40      1079\n",
            "         1.0       0.27      0.98      0.42       681\n",
            "\n",
            "    accuracy                           0.26      6746\n",
            "   macro avg       0.17      0.66      0.27      6746\n",
            "weighted avg       0.07      0.26      0.11      6746\n",
            "\n",
            "Performances on Test\n",
            "              precision    recall  f1-score   support\n",
            "\n",
            "         0.0       0.87      0.86      0.86        99\n",
            "         1.0       0.75      0.77      0.76        56\n",
            "\n",
            "    accuracy                           0.83       155\n",
            "   macro avg       0.81      0.81      0.81       155\n",
            "weighted avg       0.83      0.83      0.83       155\n",
            "\n"
          ]
        },
        {
          "output_type": "stream",
          "name": "stderr",
          "text": [
            "/usr/local/lib/python3.7/dist-packages/sklearn/metrics/_classification.py:1318: UndefinedMetricWarning: Precision and F-score are ill-defined and being set to 0.0 in labels with no predicted samples. Use `zero_division` parameter to control this behavior.\n",
            "  _warn_prf(average, modifier, msg_start, len(result))\n",
            "/usr/local/lib/python3.7/dist-packages/sklearn/metrics/_classification.py:1318: UndefinedMetricWarning: Precision and F-score are ill-defined and being set to 0.0 in labels with no predicted samples. Use `zero_division` parameter to control this behavior.\n",
            "  _warn_prf(average, modifier, msg_start, len(result))\n",
            "/usr/local/lib/python3.7/dist-packages/sklearn/metrics/_classification.py:1318: UndefinedMetricWarning: Precision and F-score are ill-defined and being set to 0.0 in labels with no predicted samples. Use `zero_division` parameter to control this behavior.\n",
            "  _warn_prf(average, modifier, msg_start, len(result))\n"
          ]
        }
      ]
    },
    {
      "cell_type": "markdown",
      "source": [
        "# Save Results"
      ],
      "metadata": {
        "id": "LDjcUK_kTBGc"
      }
    },
    {
      "cell_type": "code",
      "source": [
        "predictions = pd.DataFrame(data={'test_labels': test_labels,\n",
        "                                 'pred_prob_rf': pred_probs_rf,\n",
        "                                 'pred_probs_cnnkf': list(itertools.chain(*pred_probs_cnn)),\n",
        "                                 'pred_probs_mobnet': list(itertools.chain(*pred_probs_mobnet)),\n",
        "                                 'pred_probs_rfcnnkf3': pred_probs_rfcnn,\n",
        "                                 'pred_probs_rfmobnet': pred_probs_rfmobnet,\n",
        "                                 'pred_probs_rfcnnkf3_ss': pred_probs_rfcnn_ss,\n",
        "                                 'pred_probs_rfmobnet_ss': pred_probs_rfmobnet_ss})\n",
        "predictions.to_csv('predicitons.csv', index=False)"
      ],
      "metadata": {
        "id": "H2S_0jL63JAs"
      },
      "execution_count": null,
      "outputs": []
    },
    {
      "cell_type": "code",
      "source": [
        "predictions"
      ],
      "metadata": {
        "colab": {
          "base_uri": "https://localhost:8080/",
          "height": 423
        },
        "id": "eSOdZwykBAM1",
        "outputId": "09cb9f97-f9ef-410f-ea43-bdb3972852b3"
      },
      "execution_count": null,
      "outputs": [
        {
          "output_type": "execute_result",
          "data": {
            "text/plain": [
              "    test_labels  pred_prob_rf  pred_probs_cnnkf  pred_probs_mobnet  \\\n",
              "0           1.0      0.950913          0.898236           0.999916   \n",
              "1           1.0      0.936073          0.751920           0.578112   \n",
              "2           1.0      0.642694          0.733243           0.250569   \n",
              "3           1.0      0.649543          0.758956           0.040820   \n",
              "4           1.0      0.993151          0.919270           0.999941   \n",
              "..          ...           ...               ...                ...   \n",
              "150         0.0      0.107306          0.267617           0.041103   \n",
              "151         0.0      0.077626          0.039592           0.007414   \n",
              "152         0.0      0.022831          0.031606           0.008468   \n",
              "153         0.0      0.000000          0.028704           0.086144   \n",
              "154         0.0      0.433790          0.216813           0.662068   \n",
              "\n",
              "     pred_probs_rfcnnkf3  pred_probs_rfmobnet  pred_probs_rfcnnkf3_ss  \\\n",
              "0               0.983871             0.911538                0.728481   \n",
              "1               0.991935             0.591529                0.728481   \n",
              "2               0.713377             0.636905                0.728481   \n",
              "3               0.935044             0.416667                0.728481   \n",
              "4               1.000000             0.836218                0.728481   \n",
              "..                   ...                  ...                     ...   \n",
              "150             0.193676             0.183837                0.584563   \n",
              "151             0.000000             0.162271                0.595481   \n",
              "152             0.000000             0.039652                0.595481   \n",
              "153             0.000000             0.317353                0.595481   \n",
              "154             0.195571             0.178251                0.584563   \n",
              "\n",
              "     pred_probs_rfmobnet_ss  \n",
              "0                  0.974588  \n",
              "1                  0.635627  \n",
              "2                  0.809524  \n",
              "3                  0.537683  \n",
              "4                  0.972695  \n",
              "..                      ...  \n",
              "150                0.012821  \n",
              "151                0.142353  \n",
              "152                0.000000  \n",
              "153                0.614377  \n",
              "154                0.086584  \n",
              "\n",
              "[155 rows x 8 columns]"
            ],
            "text/html": [
              "\n",
              "  <div id=\"df-d9a20d1a-aed5-4ac9-88b0-412fd4faa144\">\n",
              "    <div class=\"colab-df-container\">\n",
              "      <div>\n",
              "<style scoped>\n",
              "    .dataframe tbody tr th:only-of-type {\n",
              "        vertical-align: middle;\n",
              "    }\n",
              "\n",
              "    .dataframe tbody tr th {\n",
              "        vertical-align: top;\n",
              "    }\n",
              "\n",
              "    .dataframe thead th {\n",
              "        text-align: right;\n",
              "    }\n",
              "</style>\n",
              "<table border=\"1\" class=\"dataframe\">\n",
              "  <thead>\n",
              "    <tr style=\"text-align: right;\">\n",
              "      <th></th>\n",
              "      <th>test_labels</th>\n",
              "      <th>pred_prob_rf</th>\n",
              "      <th>pred_probs_cnnkf</th>\n",
              "      <th>pred_probs_mobnet</th>\n",
              "      <th>pred_probs_rfcnnkf3</th>\n",
              "      <th>pred_probs_rfmobnet</th>\n",
              "      <th>pred_probs_rfcnnkf3_ss</th>\n",
              "      <th>pred_probs_rfmobnet_ss</th>\n",
              "    </tr>\n",
              "  </thead>\n",
              "  <tbody>\n",
              "    <tr>\n",
              "      <th>0</th>\n",
              "      <td>1.0</td>\n",
              "      <td>0.950913</td>\n",
              "      <td>0.898236</td>\n",
              "      <td>0.999916</td>\n",
              "      <td>0.983871</td>\n",
              "      <td>0.911538</td>\n",
              "      <td>0.728481</td>\n",
              "      <td>0.974588</td>\n",
              "    </tr>\n",
              "    <tr>\n",
              "      <th>1</th>\n",
              "      <td>1.0</td>\n",
              "      <td>0.936073</td>\n",
              "      <td>0.751920</td>\n",
              "      <td>0.578112</td>\n",
              "      <td>0.991935</td>\n",
              "      <td>0.591529</td>\n",
              "      <td>0.728481</td>\n",
              "      <td>0.635627</td>\n",
              "    </tr>\n",
              "    <tr>\n",
              "      <th>2</th>\n",
              "      <td>1.0</td>\n",
              "      <td>0.642694</td>\n",
              "      <td>0.733243</td>\n",
              "      <td>0.250569</td>\n",
              "      <td>0.713377</td>\n",
              "      <td>0.636905</td>\n",
              "      <td>0.728481</td>\n",
              "      <td>0.809524</td>\n",
              "    </tr>\n",
              "    <tr>\n",
              "      <th>3</th>\n",
              "      <td>1.0</td>\n",
              "      <td>0.649543</td>\n",
              "      <td>0.758956</td>\n",
              "      <td>0.040820</td>\n",
              "      <td>0.935044</td>\n",
              "      <td>0.416667</td>\n",
              "      <td>0.728481</td>\n",
              "      <td>0.537683</td>\n",
              "    </tr>\n",
              "    <tr>\n",
              "      <th>4</th>\n",
              "      <td>1.0</td>\n",
              "      <td>0.993151</td>\n",
              "      <td>0.919270</td>\n",
              "      <td>0.999941</td>\n",
              "      <td>1.000000</td>\n",
              "      <td>0.836218</td>\n",
              "      <td>0.728481</td>\n",
              "      <td>0.972695</td>\n",
              "    </tr>\n",
              "    <tr>\n",
              "      <th>...</th>\n",
              "      <td>...</td>\n",
              "      <td>...</td>\n",
              "      <td>...</td>\n",
              "      <td>...</td>\n",
              "      <td>...</td>\n",
              "      <td>...</td>\n",
              "      <td>...</td>\n",
              "      <td>...</td>\n",
              "    </tr>\n",
              "    <tr>\n",
              "      <th>150</th>\n",
              "      <td>0.0</td>\n",
              "      <td>0.107306</td>\n",
              "      <td>0.267617</td>\n",
              "      <td>0.041103</td>\n",
              "      <td>0.193676</td>\n",
              "      <td>0.183837</td>\n",
              "      <td>0.584563</td>\n",
              "      <td>0.012821</td>\n",
              "    </tr>\n",
              "    <tr>\n",
              "      <th>151</th>\n",
              "      <td>0.0</td>\n",
              "      <td>0.077626</td>\n",
              "      <td>0.039592</td>\n",
              "      <td>0.007414</td>\n",
              "      <td>0.000000</td>\n",
              "      <td>0.162271</td>\n",
              "      <td>0.595481</td>\n",
              "      <td>0.142353</td>\n",
              "    </tr>\n",
              "    <tr>\n",
              "      <th>152</th>\n",
              "      <td>0.0</td>\n",
              "      <td>0.022831</td>\n",
              "      <td>0.031606</td>\n",
              "      <td>0.008468</td>\n",
              "      <td>0.000000</td>\n",
              "      <td>0.039652</td>\n",
              "      <td>0.595481</td>\n",
              "      <td>0.000000</td>\n",
              "    </tr>\n",
              "    <tr>\n",
              "      <th>153</th>\n",
              "      <td>0.0</td>\n",
              "      <td>0.000000</td>\n",
              "      <td>0.028704</td>\n",
              "      <td>0.086144</td>\n",
              "      <td>0.000000</td>\n",
              "      <td>0.317353</td>\n",
              "      <td>0.595481</td>\n",
              "      <td>0.614377</td>\n",
              "    </tr>\n",
              "    <tr>\n",
              "      <th>154</th>\n",
              "      <td>0.0</td>\n",
              "      <td>0.433790</td>\n",
              "      <td>0.216813</td>\n",
              "      <td>0.662068</td>\n",
              "      <td>0.195571</td>\n",
              "      <td>0.178251</td>\n",
              "      <td>0.584563</td>\n",
              "      <td>0.086584</td>\n",
              "    </tr>\n",
              "  </tbody>\n",
              "</table>\n",
              "<p>155 rows × 8 columns</p>\n",
              "</div>\n",
              "      <button class=\"colab-df-convert\" onclick=\"convertToInteractive('df-d9a20d1a-aed5-4ac9-88b0-412fd4faa144')\"\n",
              "              title=\"Convert this dataframe to an interactive table.\"\n",
              "              style=\"display:none;\">\n",
              "        \n",
              "  <svg xmlns=\"http://www.w3.org/2000/svg\" height=\"24px\"viewBox=\"0 0 24 24\"\n",
              "       width=\"24px\">\n",
              "    <path d=\"M0 0h24v24H0V0z\" fill=\"none\"/>\n",
              "    <path d=\"M18.56 5.44l.94 2.06.94-2.06 2.06-.94-2.06-.94-.94-2.06-.94 2.06-2.06.94zm-11 1L8.5 8.5l.94-2.06 2.06-.94-2.06-.94L8.5 2.5l-.94 2.06-2.06.94zm10 10l.94 2.06.94-2.06 2.06-.94-2.06-.94-.94-2.06-.94 2.06-2.06.94z\"/><path d=\"M17.41 7.96l-1.37-1.37c-.4-.4-.92-.59-1.43-.59-.52 0-1.04.2-1.43.59L10.3 9.45l-7.72 7.72c-.78.78-.78 2.05 0 2.83L4 21.41c.39.39.9.59 1.41.59.51 0 1.02-.2 1.41-.59l7.78-7.78 2.81-2.81c.8-.78.8-2.07 0-2.86zM5.41 20L4 18.59l7.72-7.72 1.47 1.35L5.41 20z\"/>\n",
              "  </svg>\n",
              "      </button>\n",
              "      \n",
              "  <style>\n",
              "    .colab-df-container {\n",
              "      display:flex;\n",
              "      flex-wrap:wrap;\n",
              "      gap: 12px;\n",
              "    }\n",
              "\n",
              "    .colab-df-convert {\n",
              "      background-color: #E8F0FE;\n",
              "      border: none;\n",
              "      border-radius: 50%;\n",
              "      cursor: pointer;\n",
              "      display: none;\n",
              "      fill: #1967D2;\n",
              "      height: 32px;\n",
              "      padding: 0 0 0 0;\n",
              "      width: 32px;\n",
              "    }\n",
              "\n",
              "    .colab-df-convert:hover {\n",
              "      background-color: #E2EBFA;\n",
              "      box-shadow: 0px 1px 2px rgba(60, 64, 67, 0.3), 0px 1px 3px 1px rgba(60, 64, 67, 0.15);\n",
              "      fill: #174EA6;\n",
              "    }\n",
              "\n",
              "    [theme=dark] .colab-df-convert {\n",
              "      background-color: #3B4455;\n",
              "      fill: #D2E3FC;\n",
              "    }\n",
              "\n",
              "    [theme=dark] .colab-df-convert:hover {\n",
              "      background-color: #434B5C;\n",
              "      box-shadow: 0px 1px 3px 1px rgba(0, 0, 0, 0.15);\n",
              "      filter: drop-shadow(0px 1px 2px rgba(0, 0, 0, 0.3));\n",
              "      fill: #FFFFFF;\n",
              "    }\n",
              "  </style>\n",
              "\n",
              "      <script>\n",
              "        const buttonEl =\n",
              "          document.querySelector('#df-d9a20d1a-aed5-4ac9-88b0-412fd4faa144 button.colab-df-convert');\n",
              "        buttonEl.style.display =\n",
              "          google.colab.kernel.accessAllowed ? 'block' : 'none';\n",
              "\n",
              "        async function convertToInteractive(key) {\n",
              "          const element = document.querySelector('#df-d9a20d1a-aed5-4ac9-88b0-412fd4faa144');\n",
              "          const dataTable =\n",
              "            await google.colab.kernel.invokeFunction('convertToInteractive',\n",
              "                                                     [key], {});\n",
              "          if (!dataTable) return;\n",
              "\n",
              "          const docLinkHtml = 'Like what you see? Visit the ' +\n",
              "            '<a target=\"_blank\" href=https://colab.research.google.com/notebooks/data_table.ipynb>data table notebook</a>'\n",
              "            + ' to learn more about interactive tables.';\n",
              "          element.innerHTML = '';\n",
              "          dataTable['output_type'] = 'display_data';\n",
              "          await google.colab.output.renderOutput(dataTable, element);\n",
              "          const docLink = document.createElement('div');\n",
              "          docLink.innerHTML = docLinkHtml;\n",
              "          element.appendChild(docLink);\n",
              "        }\n",
              "      </script>\n",
              "    </div>\n",
              "  </div>\n",
              "  "
            ]
          },
          "metadata": {},
          "execution_count": 47
        }
      ]
    },
    {
      "cell_type": "code",
      "source": [
        ""
      ],
      "metadata": {
        "id": "3pbXGy4Tdbe5"
      },
      "execution_count": null,
      "outputs": []
    }
  ]
}