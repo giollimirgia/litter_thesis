{
 "cells": [
  {
   "cell_type": "code",
   "execution_count": 1,
   "metadata": {},
   "outputs": [],
   "source": [
    "import pandas as pd \n",
    "import numpy as np\n",
    "from skimage.io import imread, imsave\n",
    "import matplotlib.pyplot as plt\n",
    "import os"
   ]
  },
  {
   "cell_type": "code",
   "execution_count": 2,
   "metadata": {},
   "outputs": [],
   "source": [
    "df_lab = pd.read_csv('/home/giorgia/Desktop/MAI/Thesis/all_labeled.csv', index_col=0)"
   ]
  },
  {
   "cell_type": "code",
   "execution_count": 3,
   "metadata": {},
   "outputs": [],
   "source": [
    "X, Y , imfilename, area = [], [], [], []\n",
    "\n",
    "for i in range(len(df_lab)):\n",
    "    f = os.path.basename(df_lab.loc[i,'patch_filename']).replace(\".JPG\", \"\").split('_')\n",
    "    imfilename.append('_'.join(f[1:3]) + \".JPG\")\n",
    "    area.append(f[0])\n",
    "    X.append(int(f[3].replace(\"X\", \"\")))\n",
    "    Y.append(int(f[4].replace(\"Y\", \"\")))\n",
    "df_lab['X'] = X\n",
    "df_lab['Y'] = Y\n",
    "df_lab['imfilename'] = imfilename\n",
    "df_lab['area'] = area\n",
    "df_lab = df_lab.sort_values(by='imfilename').reset_index(drop=True)"
   ]
  },
  {
   "cell_type": "code",
   "execution_count": 4,
   "metadata": {},
   "outputs": [
    {
     "name": "stdout",
     "output_type": "stream",
     "text": [
      "litter perc in DJI_0813.JPG: 0.17\n",
      "litter perc in DJI_0818.JPG: 0.17\n",
      "litter perc in DJI_0821.JPG: 0.35\n",
      "litter perc in DJI_0828.JPG: 0.19\n",
      "litter perc in DJI_0835.JPG: 0.38\n",
      "litter perc in DJI_0838.JPG: 0.38\n",
      "litter perc in DJI_0840.JPG: 0.08\n",
      "litter perc in DJI_0846.JPG: 0.18\n",
      "litter perc in DJI_0853.JPG: 0.43\n",
      "litter perc in DJI_0854.JPG: 0.23\n",
      "litter perc in DJI_0860.JPG: 0.16\n",
      "litter perc in DJI_0869.JPG: 0.54\n",
      "litter perc in DJI_0869.JPG: 0.25\n",
      "litter perc in DJI_0881.JPG: 0.42\n",
      "litter perc in DJI_0881.JPG: 0.45\n",
      "litter perc in DJI_0884.JPG: 0.61\n",
      "litter perc in DJI_0900.JPG: 0.24\n",
      "litter perc in DJI_0908.JPG: 0.21\n",
      "litter perc in DJI_0913.JPG: 0.64\n",
      "litter perc in DJI_0924.JPG: 0.7\n",
      "litter perc in DJI_0929.JPG: 0.2\n",
      "litter perc in DJI_0938.JPG: 0.21\n",
      "litter perc in DJI_0962.JPG: 0.26\n",
      "litter perc in DJI_0965.JPG: 0.38\n"
     ]
    }
   ],
   "source": [
    "imgs = np.unique(df_lab['imfilename'])\n",
    "for imf in imgs:\n",
    "    for a in np.unique(df_lab['area']):\n",
    "        df = df_lab[(df_lab['imfilename']==imf) & (df_lab['area']==a)].reset_index(drop=True)\n",
    "        if len(df)!=0:\n",
    "            litter_perc = len(df[df['plastic']==1])/len(df)\n",
    "            print(\"litter perc in {}: {}\".format(os.path.basename(imf), round(litter_perc, 2)))"
   ]
  },
  {
   "cell_type": "code",
   "execution_count": 5,
   "metadata": {},
   "outputs": [],
   "source": [
    "black_patch=np.zeros([256, 256, 3])\n",
    "imgs = np.unique(df_lab['imfilename'])\n",
    "outpath = '/home/giorgia/Desktop/MAI/Thesis/images/predicted_blends_kf2/'\n",
    "impath = '/home/giorgia/Desktop/MAI/Thesis/images/selected_50m/'\n",
    "for imf in imgs:\n",
    "    for a in np.unique(df_lab['area']):\n",
    "        df = df_lab[(df_lab['imfilename']==imf) & (df_lab['area']==a)].reset_index(drop=True)\n",
    "        if len(df)!=0:\n",
    "            im = imread(os.path.join(impath, a, imf))\n",
    "            for i in range(len(df)):\n",
    "                if df.loc[i, 'plastic']==0:\n",
    "                    x, y = df.loc[i,'X'], df.loc[i,'Y']\n",
    "                    im[y: y+256 , x: x+256] = im[y: y+256 , x: x+256] * 0.5 + black_patch * 0.5\n",
    "            imsave(os.path.join(outpath, 'predictions_' + a + '_' + imf), im)"
   ]
  },
  {
   "cell_type": "code",
   "execution_count": 29,
   "metadata": {},
   "outputs": [],
   "source": [
    "infoold = pd.read_csv('/home/giorgia/Desktop/MAI/Thesis/patch_info.csv', index_col=0)\n",
    "infonew = pd.read_csv('/home/giorgia/Desktop/MAI/Thesis/patch_info_new.csv', index_col=0)"
   ]
  },
  {
   "cell_type": "code",
   "execution_count": 30,
   "metadata": {},
   "outputs": [
    {
     "data": {
      "text/plain": [
       "(988, 673)"
      ]
     },
     "execution_count": 30,
     "metadata": {},
     "output_type": "execute_result"
    }
   ],
   "source": [
    "len(infonew[infonew['plastic']==0]), len(infonew[infonew['plastic']==1])"
   ]
  },
  {
   "cell_type": "code",
   "execution_count": 25,
   "metadata": {},
   "outputs": [
    {
     "data": {
      "text/plain": [
       "(7755, 7920)"
      ]
     },
     "execution_count": 25,
     "metadata": {},
     "output_type": "execute_result"
    }
   ],
   "source": [
    "len(infoold.index), len(infonew.index)"
   ]
  }
 ],
 "metadata": {
  "interpreter": {
   "hash": "a626b004e18be3dea50627db104c07a4a2d0cf9d973364797b6bab100a1927a3"
  },
  "kernelspec": {
   "display_name": "Python 3.8.10 64-bit ('litter_env': venv)",
   "language": "python",
   "name": "python3"
  },
  "language_info": {
   "codemirror_mode": {
    "name": "ipython",
    "version": 3
   },
   "file_extension": ".py",
   "mimetype": "text/x-python",
   "name": "python",
   "nbconvert_exporter": "python",
   "pygments_lexer": "ipython3",
   "version": "3.8.10"
  },
  "orig_nbformat": 4
 },
 "nbformat": 4,
 "nbformat_minor": 2
}
